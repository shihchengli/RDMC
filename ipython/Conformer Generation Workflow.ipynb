{
 "cells": [
  {
   "cell_type": "markdown",
   "metadata": {},
   "source": [
    "# Stable species conformer search\n",
    "\n",
    "Leverage ETKDG and GeoMol as 3D geometry embedder for stochastic conformer generation\n",
    "\n",
    "The idea is to have modular methods for each step, which are currently hardcoded. This includes:\n",
    "- initial conformer embedding (ETKDG, GeoMol)\n",
    "- optimization/energy (MMFF, UFF, GFN-FF, GFN2-xTB)\n",
    "- pruning (torsion fingerprints, CREGEN)\n",
    "- convergence metrics (conformational entropy/partition function)"
   ]
  },
  {
   "cell_type": "code",
   "execution_count": 1,
   "id": "3a45eb9b",
   "metadata": {},
   "outputs": [],
   "source": [
    "from rdmc.conformer_generation.embedders import *\n",
    "from rdmc.conformer_generation.optimizers import *\n",
    "from rdmc.conformer_generation.pruners import *\n",
    "from rdmc.conformer_generation.metrics import *\n",
    "from rdmc.conformer_generation.generators import StochasticConformerGenerator\n",
    "\n",
    "from rdmc import RDKitMol\n",
    "from rdmc.view import mol_viewer, interactive_conformer_viewer, conformer_viewer\n",
    "\n",
    "T = 298  # K\n",
    "R = 0.0019872  # kcal/(K*mol)\n",
    "HARTREE_TO_KCAL_MOL = 627.503\n",
    "\n",
    "%load_ext autoreload\n",
    "%autoreload 2"
   ]
  },
  {
   "cell_type": "markdown",
   "id": "e0216632",
   "metadata": {},
   "source": [
    "## 1. Test embedder"
   ]
  },
  {
   "cell_type": "markdown",
   "id": "79826cc2",
   "metadata": {},
   "source": [
    "Create the 3D geometry for the molecule specified by the SMILES (`smi`). Currently it has no 3D conformer embedded, therefore the visualization returns a 2D illustration of the molecule"
   ]
  },
  {
   "cell_type": "code",
   "execution_count": 2,
   "id": "61a6eb92",
   "metadata": {},
   "outputs": [
    {
     "data": {
      "application/3dmoljs_load.v0": "<div id=\"3dmolviewer_17104484122786984\"  style=\"position: relative; width: 400px; height: 400px;\">\n        <p id=\"3dmolwarning_17104484122786984\" style=\"background-color:#ffcccc;color:black\">3Dmol.js failed to load for some reason.  Please check your browser console for error messages.<br></p>\n        </div>\n<script>\n\nvar loadScriptAsync = function(uri){\n  return new Promise((resolve, reject) => {\n    //this is to ignore the existence of requirejs amd\n    var savedexports, savedmodule;\n    if (typeof exports !== 'undefined') savedexports = exports;\n    else exports = {}\n    if (typeof module !== 'undefined') savedmodule = module;\n    else module = {}\n\n    var tag = document.createElement('script');\n    tag.src = uri;\n    tag.async = true;\n    tag.onload = () => {\n        exports = savedexports;\n        module = savedmodule;\n        resolve();\n    };\n  var firstScriptTag = document.getElementsByTagName('script')[0];\n  firstScriptTag.parentNode.insertBefore(tag, firstScriptTag);\n});\n};\n\nif(typeof $3Dmolpromise === 'undefined') {\n$3Dmolpromise = null;\n  $3Dmolpromise = loadScriptAsync('https://cdnjs.cloudflare.com/ajax/libs/3Dmol/2.1.0/3Dmol-min.js');\n}\n\nvar viewer_17104484122786984 = null;\nvar warn = document.getElementById(\"3dmolwarning_17104484122786984\");\nif(warn) {\n    warn.parentNode.removeChild(warn);\n}\n$3Dmolpromise.then(function() {\nviewer_17104484122786984 = $3Dmol.createViewer(document.getElementById(\"3dmolviewer_17104484122786984\"),{backgroundColor:\"white\"});\nviewer_17104484122786984.zoomTo();\n\tviewer_17104484122786984.addModel(\"\\n     RDKit          2D\\n\\n 33 35  0  0  0  0  0  0  0  0999 V2000\\n    3.2286    0.0000    0.0000 C   0  0  0  0  0  0  0  0  0  1  0  0\\n    1.7286    0.0000    0.0000 N   0  0  0  0  0  0  0  0  0  2  0  0\\n    1.0777    1.3515    0.0000 C   0  0  0  0  0  0  0  0  0  3  0  0\\n   -0.3846    1.6852    0.0000 C   0  0  0  0  0  0  0  0  0  4  0  0\\n   -0.8268    3.1186    0.0000 C   0  0  0  0  0  0  0  0  0  5  0  0\\n    0.1935    4.2182    0.0000 C   0  0  0  0  0  0  0  0  0  6  0  0\\n    1.6559    3.8844    0.0000 C   0  0  0  0  0  0  0  0  0  7  0  0\\n    2.0980    2.4510    0.0000 C   0  0  0  0  0  0  0  0  0  8  0  0\\n   -0.2487    5.6515    0.0000 Cl  0  0  0  0  0  0  0  0  0  9  0  0\\n   -1.5574    0.7500    0.0000 C   0  0  0  0  0  0  0  0  0 10  0  0\\n   -1.5574   -0.7500    0.0000 N   0  0  0  0  0  0  0  0  0 11  0  0\\n   -0.3846   -1.6852    0.0000 C   0  0  0  0  0  0  0  0  0 12  0  0\\n    1.0777   -1.3515    0.0000 C   0  0  0  0  0  0  0  0  0 13  0  0\\n    2.0130   -2.5242    0.0000 O   0  0  0  0  0  0  0  0  0 14  0  0\\n   -2.9088    1.4008    0.0000 C   0  0  0  0  0  0  0  0  0 15  0  0\\n   -3.0209    2.8966    0.0000 C   0  0  0  0  0  0  0  0  0 16  0  0\\n   -4.3724    3.5475    0.0000 C   0  0  0  0  0  0  0  0  0 17  0  0\\n   -5.6118    2.7025    0.0000 C   0  0  0  0  0  0  0  0  0 18  0  0\\n   -5.4997    1.2067    0.0000 C   0  0  0  0  0  0  0  0  0 19  0  0\\n   -4.1482    0.5558    0.0000 C   0  0  0  0  0  0  0  0  0 20  0  0\\n    4.7286    0.0000    0.0000 H   0  0  0  0  0  0  0  0  0 21  0  0\\n    3.2286   -1.5000    0.0000 H   0  0  0  0  0  0  0  0  0 22  0  0\\n    3.3931    1.3399    0.0000 H   0  0  0  0  0  0  0  0  0 23  0  0\\n   -1.5765    3.3894    0.0000 H   0  0  0  0  0  0  0  0  0 24  0  0\\n    2.6761    4.9840    0.0000 H   0  0  0  0  0  0  0  0  0 25  0  0\\n    3.4410    2.3133    0.0000 H   0  0  0  0  0  0  0  0  0 26  0  0\\n    0.2662   -3.0367    0.0000 H   0  0  0  0  0  0  0  0  0 27  0  0\\n   -1.5574   -2.6205    0.0000 H   0  0  0  0  0  0  0  0  0 28  0  0\\n   -2.4219    3.4226    0.0000 H   0  0  0  0  0  0  0  0  0 29  0  0\\n   -4.4845    5.0433    0.0000 H   0  0  0  0  0  0  0  0  0 30  0  0\\n   -6.9632    3.3533    0.0000 H   0  0  0  0  0  0  0  0  0 31  0  0\\n   -6.7390    0.3617    0.0000 H   0  0  0  0  0  0  0  0  0 32  0  0\\n   -4.0361   -0.9400    0.0000 H   0  0  0  0  0  0  0  0  0 33  0  0\\n  1  2  1  0\\n  2  3  1  0\\n  3  4  2  0\\n  4  5  1  0\\n  5  6  2  0\\n  6  7  1  0\\n  7  8  2  0\\n  6  9  1  0\\n  4 10  1  0\\n 10 11  2  0\\n 11 12  1  0\\n 12 13  1  0\\n 13 14  2  0\\n 10 15  1  0\\n 15 16  2  0\\n 16 17  1  0\\n 17 18  2  0\\n 18 19  1  0\\n 19 20  2  0\\n 13  2  1  0\\n  8  3  1  0\\n 20 15  1  0\\n  1 21  1  0\\n  1 22  1  0\\n  1 23  1  0\\n  5 24  1  0\\n  7 25  1  0\\n  8 26  1  0\\n 12 27  1  0\\n 12 28  1  0\\n 16 29  1  0\\n 17 30  1  0\\n 18 31  1  0\\n 19 32  1  0\\n 20 33  1  0\\nM  END\\n\",\"sdf\");\n\tviewer_17104484122786984.setStyle({\"stick\": {\"radius\": 0.05, \"color\": \"#f2f2f2\"}, \"sphere\": {\"scale\": 0.25}});\n\tviewer_17104484122786984.addPropertyLabels(\"index\",\"\",{\"fontSize\": 15, \"fontColor\": \"white\", \"alignment\": \"center\", \"showBackground\": true, \"backgroundOpacity\": 0.2, \"backgroundColor\": \"black\"});\n\tviewer_17104484122786984.zoomTo();\nviewer_17104484122786984.render();\n});\n</script>",
      "text/html": [
       "<div id=\"3dmolviewer_17104484122786984\"  style=\"position: relative; width: 400px; height: 400px;\">\n",
       "        <p id=\"3dmolwarning_17104484122786984\" style=\"background-color:#ffcccc;color:black\">3Dmol.js failed to load for some reason.  Please check your browser console for error messages.<br></p>\n",
       "        </div>\n",
       "<script>\n",
       "\n",
       "var loadScriptAsync = function(uri){\n",
       "  return new Promise((resolve, reject) => {\n",
       "    //this is to ignore the existence of requirejs amd\n",
       "    var savedexports, savedmodule;\n",
       "    if (typeof exports !== 'undefined') savedexports = exports;\n",
       "    else exports = {}\n",
       "    if (typeof module !== 'undefined') savedmodule = module;\n",
       "    else module = {}\n",
       "\n",
       "    var tag = document.createElement('script');\n",
       "    tag.src = uri;\n",
       "    tag.async = true;\n",
       "    tag.onload = () => {\n",
       "        exports = savedexports;\n",
       "        module = savedmodule;\n",
       "        resolve();\n",
       "    };\n",
       "  var firstScriptTag = document.getElementsByTagName('script')[0];\n",
       "  firstScriptTag.parentNode.insertBefore(tag, firstScriptTag);\n",
       "});\n",
       "};\n",
       "\n",
       "if(typeof $3Dmolpromise === 'undefined') {\n",
       "$3Dmolpromise = null;\n",
       "  $3Dmolpromise = loadScriptAsync('https://cdnjs.cloudflare.com/ajax/libs/3Dmol/2.1.0/3Dmol-min.js');\n",
       "}\n",
       "\n",
       "var viewer_17104484122786984 = null;\n",
       "var warn = document.getElementById(\"3dmolwarning_17104484122786984\");\n",
       "if(warn) {\n",
       "    warn.parentNode.removeChild(warn);\n",
       "}\n",
       "$3Dmolpromise.then(function() {\n",
       "viewer_17104484122786984 = $3Dmol.createViewer(document.getElementById(\"3dmolviewer_17104484122786984\"),{backgroundColor:\"white\"});\n",
       "viewer_17104484122786984.zoomTo();\n",
       "\tviewer_17104484122786984.addModel(\"\\n     RDKit          2D\\n\\n 33 35  0  0  0  0  0  0  0  0999 V2000\\n    3.2286    0.0000    0.0000 C   0  0  0  0  0  0  0  0  0  1  0  0\\n    1.7286    0.0000    0.0000 N   0  0  0  0  0  0  0  0  0  2  0  0\\n    1.0777    1.3515    0.0000 C   0  0  0  0  0  0  0  0  0  3  0  0\\n   -0.3846    1.6852    0.0000 C   0  0  0  0  0  0  0  0  0  4  0  0\\n   -0.8268    3.1186    0.0000 C   0  0  0  0  0  0  0  0  0  5  0  0\\n    0.1935    4.2182    0.0000 C   0  0  0  0  0  0  0  0  0  6  0  0\\n    1.6559    3.8844    0.0000 C   0  0  0  0  0  0  0  0  0  7  0  0\\n    2.0980    2.4510    0.0000 C   0  0  0  0  0  0  0  0  0  8  0  0\\n   -0.2487    5.6515    0.0000 Cl  0  0  0  0  0  0  0  0  0  9  0  0\\n   -1.5574    0.7500    0.0000 C   0  0  0  0  0  0  0  0  0 10  0  0\\n   -1.5574   -0.7500    0.0000 N   0  0  0  0  0  0  0  0  0 11  0  0\\n   -0.3846   -1.6852    0.0000 C   0  0  0  0  0  0  0  0  0 12  0  0\\n    1.0777   -1.3515    0.0000 C   0  0  0  0  0  0  0  0  0 13  0  0\\n    2.0130   -2.5242    0.0000 O   0  0  0  0  0  0  0  0  0 14  0  0\\n   -2.9088    1.4008    0.0000 C   0  0  0  0  0  0  0  0  0 15  0  0\\n   -3.0209    2.8966    0.0000 C   0  0  0  0  0  0  0  0  0 16  0  0\\n   -4.3724    3.5475    0.0000 C   0  0  0  0  0  0  0  0  0 17  0  0\\n   -5.6118    2.7025    0.0000 C   0  0  0  0  0  0  0  0  0 18  0  0\\n   -5.4997    1.2067    0.0000 C   0  0  0  0  0  0  0  0  0 19  0  0\\n   -4.1482    0.5558    0.0000 C   0  0  0  0  0  0  0  0  0 20  0  0\\n    4.7286    0.0000    0.0000 H   0  0  0  0  0  0  0  0  0 21  0  0\\n    3.2286   -1.5000    0.0000 H   0  0  0  0  0  0  0  0  0 22  0  0\\n    3.3931    1.3399    0.0000 H   0  0  0  0  0  0  0  0  0 23  0  0\\n   -1.5765    3.3894    0.0000 H   0  0  0  0  0  0  0  0  0 24  0  0\\n    2.6761    4.9840    0.0000 H   0  0  0  0  0  0  0  0  0 25  0  0\\n    3.4410    2.3133    0.0000 H   0  0  0  0  0  0  0  0  0 26  0  0\\n    0.2662   -3.0367    0.0000 H   0  0  0  0  0  0  0  0  0 27  0  0\\n   -1.5574   -2.6205    0.0000 H   0  0  0  0  0  0  0  0  0 28  0  0\\n   -2.4219    3.4226    0.0000 H   0  0  0  0  0  0  0  0  0 29  0  0\\n   -4.4845    5.0433    0.0000 H   0  0  0  0  0  0  0  0  0 30  0  0\\n   -6.9632    3.3533    0.0000 H   0  0  0  0  0  0  0  0  0 31  0  0\\n   -6.7390    0.3617    0.0000 H   0  0  0  0  0  0  0  0  0 32  0  0\\n   -4.0361   -0.9400    0.0000 H   0  0  0  0  0  0  0  0  0 33  0  0\\n  1  2  1  0\\n  2  3  1  0\\n  3  4  2  0\\n  4  5  1  0\\n  5  6  2  0\\n  6  7  1  0\\n  7  8  2  0\\n  6  9  1  0\\n  4 10  1  0\\n 10 11  2  0\\n 11 12  1  0\\n 12 13  1  0\\n 13 14  2  0\\n 10 15  1  0\\n 15 16  2  0\\n 16 17  1  0\\n 17 18  2  0\\n 18 19  1  0\\n 19 20  2  0\\n 13  2  1  0\\n  8  3  1  0\\n 20 15  1  0\\n  1 21  1  0\\n  1 22  1  0\\n  1 23  1  0\\n  5 24  1  0\\n  7 25  1  0\\n  8 26  1  0\\n 12 27  1  0\\n 12 28  1  0\\n 16 29  1  0\\n 17 30  1  0\\n 18 31  1  0\\n 19 32  1  0\\n 20 33  1  0\\nM  END\\n\",\"sdf\");\n",
       "\tviewer_17104484122786984.setStyle({\"stick\": {\"radius\": 0.05, \"color\": \"#f2f2f2\"}, \"sphere\": {\"scale\": 0.25}});\n",
       "\tviewer_17104484122786984.addPropertyLabels(\"index\",\"\",{\"fontSize\": 15, \"fontColor\": \"white\", \"alignment\": \"center\", \"showBackground\": true, \"backgroundOpacity\": 0.2, \"backgroundColor\": \"black\"});\n",
       "\tviewer_17104484122786984.zoomTo();\n",
       "viewer_17104484122786984.render();\n",
       "});\n",
       "</script>"
      ]
     },
     "metadata": {},
     "output_type": "display_data"
    },
    {
     "data": {
      "text/plain": [
       "<py3Dmol.view at 0x7f146851f800>"
      ]
     },
     "execution_count": 2,
     "metadata": {},
     "output_type": "execute_result"
    }
   ],
   "source": [
    "smi = \"[C:1]([C@@:2]([O:3][H:12])([C:4]([N:5]([C:6](=[O:7])[H:16])[H:15])([H:13])[H:14])[H:11])([H:8])([H:9])[H:10]\"  # example 1\n",
    "smi = \"CN1C2=C(C=C(C=C2)Cl)C(=NCC1=O)C3=CC=CC=C3\"  # example 2\n",
    "\n",
    "mol_viewer(RDKitMol.FromSmiles(smi))"
   ]
  },
  {
   "cell_type": "markdown",
   "id": "7b022193",
   "metadata": {},
   "source": [
    "### 1.1 ETKDG embedder"
   ]
  },
  {
   "cell_type": "code",
   "execution_count": 3,
   "id": "886ca5f8",
   "metadata": {},
   "outputs": [],
   "source": [
    "n_confs = 10  # Number of conformers to create\n",
    "\n",
    "embedder = ETKDGEmbedder()  # Initialize conformer embedder\n",
    "unique_mol_data = embedder(smi, n_confs)  # Embed molecule 3D geometries with ETKDG\n",
    "mol = dict_to_mol(unique_mol_data)  # Convert raw data to a molecule object"
   ]
  },
  {
   "cell_type": "code",
   "execution_count": 4,
   "id": "f8b9af06",
   "metadata": {},
   "outputs": [
    {
     "data": {
      "application/3dmoljs_load.v0": "<div id=\"3dmolviewer_1710448412406751\"  style=\"position: relative; width: 400px; height: 400px;\">\n        <p id=\"3dmolwarning_1710448412406751\" style=\"background-color:#ffcccc;color:black\">3Dmol.js failed to load for some reason.  Please check your browser console for error messages.<br></p>\n        </div>\n<script>\n\nvar loadScriptAsync = function(uri){\n  return new Promise((resolve, reject) => {\n    //this is to ignore the existence of requirejs amd\n    var savedexports, savedmodule;\n    if (typeof exports !== 'undefined') savedexports = exports;\n    else exports = {}\n    if (typeof module !== 'undefined') savedmodule = module;\n    else module = {}\n\n    var tag = document.createElement('script');\n    tag.src = uri;\n    tag.async = true;\n    tag.onload = () => {\n        exports = savedexports;\n        module = savedmodule;\n        resolve();\n    };\n  var firstScriptTag = document.getElementsByTagName('script')[0];\n  firstScriptTag.parentNode.insertBefore(tag, firstScriptTag);\n});\n};\n\nif(typeof $3Dmolpromise === 'undefined') {\n$3Dmolpromise = null;\n  $3Dmolpromise = loadScriptAsync('https://cdnjs.cloudflare.com/ajax/libs/3Dmol/2.1.0/3Dmol-min.js');\n}\n\nvar viewer_1710448412406751 = null;\nvar warn = document.getElementById(\"3dmolwarning_1710448412406751\");\nif(warn) {\n    warn.parentNode.removeChild(warn);\n}\n$3Dmolpromise.then(function() {\nviewer_1710448412406751 = $3Dmol.createViewer(document.getElementById(\"3dmolviewer_1710448412406751\"),{backgroundColor:\"white\"});\nviewer_1710448412406751.zoomTo();\n\tviewer_1710448412406751.addModel(\"\\n     RDKit          3D\\n\\n 33 35  0  0  0  0  0  0  0  0999 V2000\\n    3.7264   -0.5471    1.1052 C   0  0  0  0  0  0  0  0  0  1  0  0\\n    2.5580   -0.6576    0.2929 N   0  0  0  0  0  0  0  0  0  2  0  0\\n    1.7364    0.5293    0.1908 C   0  0  0  0  0  0  0  0  0  3  0  0\\n    0.4128    0.5297   -0.1482 C   0  0  0  0  0  0  0  0  0  4  0  0\\n   -0.1914    1.7681   -0.3365 C   0  0  0  0  0  0  0  0  0  5  0  0\\n    0.5157    2.9369   -0.1776 C   0  0  0  0  0  0  0  0  0  6  0  0\\n    1.8733    2.8855    0.1777 C   0  0  0  0  0  0  0  0  0  7  0  0\\n    2.4833    1.6633    0.3614 C   0  0  0  0  0  0  0  0  0  8  0  0\\n   -0.2879    4.4864   -0.4159 Cl  0  0  0  0  0  0  0  0  0  9  0  0\\n   -0.5046   -0.5609   -0.3232 C   0  0  0  0  0  0  0  0  0 10  0  0\\n   -0.1423   -1.6997   -0.8607 N   0  0  0  0  0  0  0  0  0 11  0  0\\n    1.1400   -2.1580   -1.3731 C   0  0  0  0  0  0  0  0  0 12  0  0\\n    2.2399   -1.8757   -0.4053 C   0  0  0  0  0  0  0  0  0 13  0  0\\n    2.9956   -2.8185   -0.1597 O   0  0  0  0  0  0  0  0  0 14  0  0\\n   -1.8705   -0.3877    0.0790 C   0  0  0  0  0  0  0  0  0 15  0  0\\n   -2.7687   -1.4027   -0.3040 C   0  0  0  0  0  0  0  0  0 16  0  0\\n   -4.0693   -1.4698    0.0864 C   0  0  0  0  0  0  0  0  0 17  0  0\\n   -4.5480   -0.4799    0.9136 C   0  0  0  0  0  0  0  0  0 18  0  0\\n   -3.7220    0.5346    1.3224 C   0  0  0  0  0  0  0  0  0 19  0  0\\n   -2.3827    0.5722    0.9010 C   0  0  0  0  0  0  0  0  0 20  0  0\\n    3.5328   -0.0135    2.0707 H   0  0  0  0  0  0  0  0  0 21  0  0\\n    4.5993   -0.1138    0.5713 H   0  0  0  0  0  0  0  0  0 22  0  0\\n    4.0509   -1.5616    1.4042 H   0  0  0  0  0  0  0  0  0 23  0  0\\n   -1.2076    1.8059   -0.6672 H   0  0  0  0  0  0  0  0  0 24  0  0\\n    2.4401    3.8101    0.3071 H   0  0  0  0  0  0  0  0  0 25  0  0\\n    3.5286    1.6180    0.6388 H   0  0  0  0  0  0  0  0  0 26  0  0\\n    1.3876   -1.7610   -2.3735 H   0  0  0  0  0  0  0  0  0 27  0  0\\n    1.0548   -3.2566   -1.4581 H   0  0  0  0  0  0  0  0  0 28  0  0\\n   -2.4003   -2.1949   -0.9615 H   0  0  0  0  0  0  0  0  0 29  0  0\\n   -4.6978   -2.2790   -0.2483 H   0  0  0  0  0  0  0  0  0 30  0  0\\n   -5.5907   -0.5564    1.2098 H   0  0  0  0  0  0  0  0  0 31  0  0\\n   -4.1145    1.2998    1.9694 H   0  0  0  0  0  0  0  0  0 32  0  0\\n   -1.7769    1.3545    1.3090 H   0  0  0  0  0  0  0  0  0 33  0  0\\n  1  2  1  0\\n  2  3  1  0\\n  3  4  2  0\\n  4  5  1  0\\n  5  6  2  0\\n  6  7  1  0\\n  7  8  2  0\\n  6  9  1  0\\n  4 10  1  0\\n 10 11  2  0\\n 11 12  1  0\\n 12 13  1  0\\n 13 14  2  0\\n 10 15  1  0\\n 15 16  2  0\\n 16 17  1  0\\n 17 18  2  0\\n 18 19  1  0\\n 19 20  2  0\\n 13  2  1  0\\n  8  3  1  0\\n 20 15  1  0\\n  1 21  1  0\\n  1 22  1  0\\n  1 23  1  0\\n  5 24  1  0\\n  7 25  1  0\\n  8 26  1  0\\n 12 27  1  0\\n 12 28  1  0\\n 16 29  1  0\\n 17 30  1  0\\n 18 31  1  0\\n 19 32  1  0\\n 20 33  1  0\\nM  END\\n\",\"sdf\");\n\tviewer_1710448412406751.setStyle({\"stick\": {\"radius\": 0.05, \"color\": \"#f2f2f2\"}, \"sphere\": {\"scale\": 0.25}});\n\tviewer_1710448412406751.addPropertyLabels(\"index\",\"\",{\"fontSize\": 15, \"fontColor\": \"white\", \"alignment\": \"center\", \"showBackground\": true, \"backgroundOpacity\": 0.2, \"backgroundColor\": \"black\"});\n\tviewer_1710448412406751.zoomTo();\nviewer_1710448412406751.render();\n});\n</script>",
      "text/html": [
       "<div id=\"3dmolviewer_1710448412406751\"  style=\"position: relative; width: 400px; height: 400px;\">\n",
       "        <p id=\"3dmolwarning_1710448412406751\" style=\"background-color:#ffcccc;color:black\">3Dmol.js failed to load for some reason.  Please check your browser console for error messages.<br></p>\n",
       "        </div>\n",
       "<script>\n",
       "\n",
       "var loadScriptAsync = function(uri){\n",
       "  return new Promise((resolve, reject) => {\n",
       "    //this is to ignore the existence of requirejs amd\n",
       "    var savedexports, savedmodule;\n",
       "    if (typeof exports !== 'undefined') savedexports = exports;\n",
       "    else exports = {}\n",
       "    if (typeof module !== 'undefined') savedmodule = module;\n",
       "    else module = {}\n",
       "\n",
       "    var tag = document.createElement('script');\n",
       "    tag.src = uri;\n",
       "    tag.async = true;\n",
       "    tag.onload = () => {\n",
       "        exports = savedexports;\n",
       "        module = savedmodule;\n",
       "        resolve();\n",
       "    };\n",
       "  var firstScriptTag = document.getElementsByTagName('script')[0];\n",
       "  firstScriptTag.parentNode.insertBefore(tag, firstScriptTag);\n",
       "});\n",
       "};\n",
       "\n",
       "if(typeof $3Dmolpromise === 'undefined') {\n",
       "$3Dmolpromise = null;\n",
       "  $3Dmolpromise = loadScriptAsync('https://cdnjs.cloudflare.com/ajax/libs/3Dmol/2.1.0/3Dmol-min.js');\n",
       "}\n",
       "\n",
       "var viewer_1710448412406751 = null;\n",
       "var warn = document.getElementById(\"3dmolwarning_1710448412406751\");\n",
       "if(warn) {\n",
       "    warn.parentNode.removeChild(warn);\n",
       "}\n",
       "$3Dmolpromise.then(function() {\n",
       "viewer_1710448412406751 = $3Dmol.createViewer(document.getElementById(\"3dmolviewer_1710448412406751\"),{backgroundColor:\"white\"});\n",
       "viewer_1710448412406751.zoomTo();\n",
       "\tviewer_1710448412406751.addModel(\"\\n     RDKit          3D\\n\\n 33 35  0  0  0  0  0  0  0  0999 V2000\\n    3.7264   -0.5471    1.1052 C   0  0  0  0  0  0  0  0  0  1  0  0\\n    2.5580   -0.6576    0.2929 N   0  0  0  0  0  0  0  0  0  2  0  0\\n    1.7364    0.5293    0.1908 C   0  0  0  0  0  0  0  0  0  3  0  0\\n    0.4128    0.5297   -0.1482 C   0  0  0  0  0  0  0  0  0  4  0  0\\n   -0.1914    1.7681   -0.3365 C   0  0  0  0  0  0  0  0  0  5  0  0\\n    0.5157    2.9369   -0.1776 C   0  0  0  0  0  0  0  0  0  6  0  0\\n    1.8733    2.8855    0.1777 C   0  0  0  0  0  0  0  0  0  7  0  0\\n    2.4833    1.6633    0.3614 C   0  0  0  0  0  0  0  0  0  8  0  0\\n   -0.2879    4.4864   -0.4159 Cl  0  0  0  0  0  0  0  0  0  9  0  0\\n   -0.5046   -0.5609   -0.3232 C   0  0  0  0  0  0  0  0  0 10  0  0\\n   -0.1423   -1.6997   -0.8607 N   0  0  0  0  0  0  0  0  0 11  0  0\\n    1.1400   -2.1580   -1.3731 C   0  0  0  0  0  0  0  0  0 12  0  0\\n    2.2399   -1.8757   -0.4053 C   0  0  0  0  0  0  0  0  0 13  0  0\\n    2.9956   -2.8185   -0.1597 O   0  0  0  0  0  0  0  0  0 14  0  0\\n   -1.8705   -0.3877    0.0790 C   0  0  0  0  0  0  0  0  0 15  0  0\\n   -2.7687   -1.4027   -0.3040 C   0  0  0  0  0  0  0  0  0 16  0  0\\n   -4.0693   -1.4698    0.0864 C   0  0  0  0  0  0  0  0  0 17  0  0\\n   -4.5480   -0.4799    0.9136 C   0  0  0  0  0  0  0  0  0 18  0  0\\n   -3.7220    0.5346    1.3224 C   0  0  0  0  0  0  0  0  0 19  0  0\\n   -2.3827    0.5722    0.9010 C   0  0  0  0  0  0  0  0  0 20  0  0\\n    3.5328   -0.0135    2.0707 H   0  0  0  0  0  0  0  0  0 21  0  0\\n    4.5993   -0.1138    0.5713 H   0  0  0  0  0  0  0  0  0 22  0  0\\n    4.0509   -1.5616    1.4042 H   0  0  0  0  0  0  0  0  0 23  0  0\\n   -1.2076    1.8059   -0.6672 H   0  0  0  0  0  0  0  0  0 24  0  0\\n    2.4401    3.8101    0.3071 H   0  0  0  0  0  0  0  0  0 25  0  0\\n    3.5286    1.6180    0.6388 H   0  0  0  0  0  0  0  0  0 26  0  0\\n    1.3876   -1.7610   -2.3735 H   0  0  0  0  0  0  0  0  0 27  0  0\\n    1.0548   -3.2566   -1.4581 H   0  0  0  0  0  0  0  0  0 28  0  0\\n   -2.4003   -2.1949   -0.9615 H   0  0  0  0  0  0  0  0  0 29  0  0\\n   -4.6978   -2.2790   -0.2483 H   0  0  0  0  0  0  0  0  0 30  0  0\\n   -5.5907   -0.5564    1.2098 H   0  0  0  0  0  0  0  0  0 31  0  0\\n   -4.1145    1.2998    1.9694 H   0  0  0  0  0  0  0  0  0 32  0  0\\n   -1.7769    1.3545    1.3090 H   0  0  0  0  0  0  0  0  0 33  0  0\\n  1  2  1  0\\n  2  3  1  0\\n  3  4  2  0\\n  4  5  1  0\\n  5  6  2  0\\n  6  7  1  0\\n  7  8  2  0\\n  6  9  1  0\\n  4 10  1  0\\n 10 11  2  0\\n 11 12  1  0\\n 12 13  1  0\\n 13 14  2  0\\n 10 15  1  0\\n 15 16  2  0\\n 16 17  1  0\\n 17 18  2  0\\n 18 19  1  0\\n 19 20  2  0\\n 13  2  1  0\\n  8  3  1  0\\n 20 15  1  0\\n  1 21  1  0\\n  1 22  1  0\\n  1 23  1  0\\n  5 24  1  0\\n  7 25  1  0\\n  8 26  1  0\\n 12 27  1  0\\n 12 28  1  0\\n 16 29  1  0\\n 17 30  1  0\\n 18 31  1  0\\n 19 32  1  0\\n 20 33  1  0\\nM  END\\n\",\"sdf\");\n",
       "\tviewer_1710448412406751.setStyle({\"stick\": {\"radius\": 0.05, \"color\": \"#f2f2f2\"}, \"sphere\": {\"scale\": 0.25}});\n",
       "\tviewer_1710448412406751.addPropertyLabels(\"index\",\"\",{\"fontSize\": 15, \"fontColor\": \"white\", \"alignment\": \"center\", \"showBackground\": true, \"backgroundOpacity\": 0.2, \"backgroundColor\": \"black\"});\n",
       "\tviewer_1710448412406751.zoomTo();\n",
       "viewer_1710448412406751.render();\n",
       "});\n",
       "</script>"
      ]
     },
     "metadata": {},
     "output_type": "display_data"
    },
    {
     "data": {
      "text/plain": [
       "<py3Dmol.view at 0x7f1467185130>"
      ]
     },
     "execution_count": 4,
     "metadata": {},
     "output_type": "execute_result"
    }
   ],
   "source": [
    "visualize_conf_id = 2\n",
    "\n",
    "mol_viewer(mol, confId=visualize_conf_id)  # visualize the molecule"
   ]
  },
  {
   "cell_type": "markdown",
   "id": "7424c20e",
   "metadata": {},
   "source": [
    "### 1.2 GeoMol Conformer"
   ]
  },
  {
   "cell_type": "markdown",
   "id": "49022146",
   "metadata": {},
   "source": [
    "Supported options:\n",
    "- `dataset`: `drug` or `qm9`\n",
    "- `device`: `cpu`, or `cuda` (or specific cuda device like `cuda:0`)"
   ]
  },
  {
   "cell_type": "code",
   "execution_count": 5,
   "id": "9431fbc8",
   "metadata": {},
   "outputs": [],
   "source": [
    "n_confs = 10  # Number of conformers to create\n",
    "dataset = \"drugs\"\n",
    "device = \"cuda\"\n",
    "\n",
    "embedder = GeoMolEmbedder(dataset=dataset, track_stats=True, temp_schedule=\"none\", device=device) # Initialize conformer embedder\n",
    "unique_mol_data = embedder(smi, n_confs)  # Embed molecule 3D geometries with ETKDG\n",
    "mol = dict_to_mol(unique_mol_data)  # Convert raw data to a molecule object"
   ]
  },
  {
   "cell_type": "code",
   "execution_count": 6,
   "id": "9ac12a75",
   "metadata": {},
   "outputs": [
    {
     "data": {
      "application/3dmoljs_load.v0": "<div id=\"3dmolviewer_171044841477305\"  style=\"position: relative; width: 400px; height: 400px;\">\n        <p id=\"3dmolwarning_171044841477305\" style=\"background-color:#ffcccc;color:black\">3Dmol.js failed to load for some reason.  Please check your browser console for error messages.<br></p>\n        </div>\n<script>\n\nvar loadScriptAsync = function(uri){\n  return new Promise((resolve, reject) => {\n    //this is to ignore the existence of requirejs amd\n    var savedexports, savedmodule;\n    if (typeof exports !== 'undefined') savedexports = exports;\n    else exports = {}\n    if (typeof module !== 'undefined') savedmodule = module;\n    else module = {}\n\n    var tag = document.createElement('script');\n    tag.src = uri;\n    tag.async = true;\n    tag.onload = () => {\n        exports = savedexports;\n        module = savedmodule;\n        resolve();\n    };\n  var firstScriptTag = document.getElementsByTagName('script')[0];\n  firstScriptTag.parentNode.insertBefore(tag, firstScriptTag);\n});\n};\n\nif(typeof $3Dmolpromise === 'undefined') {\n$3Dmolpromise = null;\n  $3Dmolpromise = loadScriptAsync('https://cdnjs.cloudflare.com/ajax/libs/3Dmol/2.1.0/3Dmol-min.js');\n}\n\nvar viewer_171044841477305 = null;\nvar warn = document.getElementById(\"3dmolwarning_171044841477305\");\nif(warn) {\n    warn.parentNode.removeChild(warn);\n}\n$3Dmolpromise.then(function() {\nviewer_171044841477305 = $3Dmol.createViewer(document.getElementById(\"3dmolviewer_171044841477305\"),{backgroundColor:\"white\"});\nviewer_171044841477305.zoomTo();\n\tviewer_171044841477305.addModel(\"\\n     RDKit          3D\\n\\n 33 35  0  0  0  0  0  0  0  0999 V2000\\n   -3.9866    1.0593    1.1083 C   0  0  0  0  0  0  0  0  0  1  0  0\\n   -2.7596    0.6120    0.4895 N   0  0  0  0  0  0  0  0  0  2  0  0\\n   -1.7726    1.4764    1.0037 C   0  0  0  0  0  0  0  0  0  3  0  0\\n   -0.3934    1.1725    0.7952 C   0  0  0  0  0  0  0  0  0  4  0  0\\n    0.5606    2.0571    1.2789 C   0  0  0  0  0  0  0  0  0  5  0  0\\n    0.1869    3.1747    2.0052 C   0  0  0  0  0  0  0  0  0  6  0  0\\n   -1.1519    3.4439    2.2445 C   0  0  0  0  0  0  0  0  0  7  0  0\\n   -2.1332    2.6068    1.7327 C   0  0  0  0  0  0  0  0  0  8  0  0\\n    1.4023    4.2577    2.5997 Cl  0  0  0  0  0  0  0  0  0  9  0  0\\n    0.0000    0.0000    0.0000 C   0  0  0  0  0  0  0  0  0 10  0  0\\n   -0.5900   -0.7357   -0.4660 N   0  0  0  0  0  0  0  0  0 11  0  0\\n   -1.8509   -0.7881   -0.6180 C   0  0  0  0  0  0  0  0  0 12  0  0\\n   -2.7276   -0.1896   -0.1030 C   0  0  0  0  0  0  0  0  0 13  0  0\\n   -3.7545   -0.7587   -0.1252 O   0  0  0  0  0  0  0  0  0 14  0  0\\n    1.4551   -0.0000   -0.0000 C   0  0  0  0  0  0  0  0  0 15  0  0\\n    2.1624    0.9958    0.6629 C   0  0  0  0  0  0  0  0  0 16  0  0\\n    3.5477    1.0052    0.6178 C   0  0  0  0  0  0  0  0  0 17  0  0\\n    4.2309    0.0100   -0.0583 C   0  0  0  0  0  0  0  0  0 18  0  0\\n    3.5248   -0.9876   -0.7121 C   0  0  0  0  0  0  0  0  0 19  0  0\\n    2.1425   -0.9851   -0.6867 C   0  0  0  0  0  0  0  0  0 20  0  0\\n   -4.3165    2.0037    0.6906 H   0  0  0  0  0  0  0  0  0 21  0  0\\n   -4.7270    0.3118    0.8457 H   0  0  0  0  0  0  0  0  0 22  0  0\\n   -3.9429    1.1812    2.1858 H   0  0  0  0  0  0  0  0  0 23  0  0\\n    1.6122    1.8638    1.0831 H   0  0  0  0  0  0  0  0  0 24  0  0\\n   -1.4331    4.3235    2.7933 H   0  0  0  0  0  0  0  0  0 25  0  0\\n   -3.1720    2.8151    1.9174 H   0  0  0  0  0  0  0  0  0 26  0  0\\n   -1.7771   -0.4641   -1.6497 H   0  0  0  0  0  0  0  0  0 27  0  0\\n   -2.0092   -1.7936   -0.7817 H   0  0  0  0  0  0  0  0  0 28  0  0\\n    1.6306    1.7943    1.1673 H   0  0  0  0  0  0  0  0  0 29  0  0\\n    4.0962    1.7842    1.1255 H   0  0  0  0  0  0  0  0  0 30  0  0\\n    5.3101    0.0144   -0.0888 H   0  0  0  0  0  0  0  0  0 31  0  0\\n    4.0483   -1.7621   -1.2510 H   0  0  0  0  0  0  0  0  0 32  0  0\\n    1.5990   -1.7636   -1.2061 H   0  0  0  0  0  0  0  0  0 33  0  0\\n  1  2  1  0\\n  2  3  1  0\\n  3  4  2  0\\n  4  5  1  0\\n  5  6  2  0\\n  6  7  1  0\\n  7  8  2  0\\n  6  9  1  0\\n  4 10  1  0\\n 10 11  2  0\\n 11 12  1  0\\n 12 13  1  0\\n 13 14  2  0\\n 10 15  1  0\\n 15 16  2  0\\n 16 17  1  0\\n 17 18  2  0\\n 18 19  1  0\\n 19 20  2  0\\n 13  2  1  0\\n  8  3  1  0\\n 20 15  1  0\\n  1 21  1  0\\n  1 22  1  0\\n  1 23  1  0\\n  5 24  1  0\\n  7 25  1  0\\n  8 26  1  0\\n 12 27  1  0\\n 12 28  1  0\\n 16 29  1  0\\n 17 30  1  0\\n 18 31  1  0\\n 19 32  1  0\\n 20 33  1  0\\nM  END\\n\",\"sdf\");\n\tviewer_171044841477305.setStyle({\"stick\": {\"radius\": 0.05, \"color\": \"#f2f2f2\"}, \"sphere\": {\"scale\": 0.25}});\n\tviewer_171044841477305.addPropertyLabels(\"index\",\"\",{\"fontSize\": 15, \"fontColor\": \"white\", \"alignment\": \"center\", \"showBackground\": true, \"backgroundOpacity\": 0.2, \"backgroundColor\": \"black\"});\n\tviewer_171044841477305.zoomTo();\nviewer_171044841477305.render();\n});\n</script>",
      "text/html": [
       "<div id=\"3dmolviewer_171044841477305\"  style=\"position: relative; width: 400px; height: 400px;\">\n",
       "        <p id=\"3dmolwarning_171044841477305\" style=\"background-color:#ffcccc;color:black\">3Dmol.js failed to load for some reason.  Please check your browser console for error messages.<br></p>\n",
       "        </div>\n",
       "<script>\n",
       "\n",
       "var loadScriptAsync = function(uri){\n",
       "  return new Promise((resolve, reject) => {\n",
       "    //this is to ignore the existence of requirejs amd\n",
       "    var savedexports, savedmodule;\n",
       "    if (typeof exports !== 'undefined') savedexports = exports;\n",
       "    else exports = {}\n",
       "    if (typeof module !== 'undefined') savedmodule = module;\n",
       "    else module = {}\n",
       "\n",
       "    var tag = document.createElement('script');\n",
       "    tag.src = uri;\n",
       "    tag.async = true;\n",
       "    tag.onload = () => {\n",
       "        exports = savedexports;\n",
       "        module = savedmodule;\n",
       "        resolve();\n",
       "    };\n",
       "  var firstScriptTag = document.getElementsByTagName('script')[0];\n",
       "  firstScriptTag.parentNode.insertBefore(tag, firstScriptTag);\n",
       "});\n",
       "};\n",
       "\n",
       "if(typeof $3Dmolpromise === 'undefined') {\n",
       "$3Dmolpromise = null;\n",
       "  $3Dmolpromise = loadScriptAsync('https://cdnjs.cloudflare.com/ajax/libs/3Dmol/2.1.0/3Dmol-min.js');\n",
       "}\n",
       "\n",
       "var viewer_171044841477305 = null;\n",
       "var warn = document.getElementById(\"3dmolwarning_171044841477305\");\n",
       "if(warn) {\n",
       "    warn.parentNode.removeChild(warn);\n",
       "}\n",
       "$3Dmolpromise.then(function() {\n",
       "viewer_171044841477305 = $3Dmol.createViewer(document.getElementById(\"3dmolviewer_171044841477305\"),{backgroundColor:\"white\"});\n",
       "viewer_171044841477305.zoomTo();\n",
       "\tviewer_171044841477305.addModel(\"\\n     RDKit          3D\\n\\n 33 35  0  0  0  0  0  0  0  0999 V2000\\n   -3.9866    1.0593    1.1083 C   0  0  0  0  0  0  0  0  0  1  0  0\\n   -2.7596    0.6120    0.4895 N   0  0  0  0  0  0  0  0  0  2  0  0\\n   -1.7726    1.4764    1.0037 C   0  0  0  0  0  0  0  0  0  3  0  0\\n   -0.3934    1.1725    0.7952 C   0  0  0  0  0  0  0  0  0  4  0  0\\n    0.5606    2.0571    1.2789 C   0  0  0  0  0  0  0  0  0  5  0  0\\n    0.1869    3.1747    2.0052 C   0  0  0  0  0  0  0  0  0  6  0  0\\n   -1.1519    3.4439    2.2445 C   0  0  0  0  0  0  0  0  0  7  0  0\\n   -2.1332    2.6068    1.7327 C   0  0  0  0  0  0  0  0  0  8  0  0\\n    1.4023    4.2577    2.5997 Cl  0  0  0  0  0  0  0  0  0  9  0  0\\n    0.0000    0.0000    0.0000 C   0  0  0  0  0  0  0  0  0 10  0  0\\n   -0.5900   -0.7357   -0.4660 N   0  0  0  0  0  0  0  0  0 11  0  0\\n   -1.8509   -0.7881   -0.6180 C   0  0  0  0  0  0  0  0  0 12  0  0\\n   -2.7276   -0.1896   -0.1030 C   0  0  0  0  0  0  0  0  0 13  0  0\\n   -3.7545   -0.7587   -0.1252 O   0  0  0  0  0  0  0  0  0 14  0  0\\n    1.4551   -0.0000   -0.0000 C   0  0  0  0  0  0  0  0  0 15  0  0\\n    2.1624    0.9958    0.6629 C   0  0  0  0  0  0  0  0  0 16  0  0\\n    3.5477    1.0052    0.6178 C   0  0  0  0  0  0  0  0  0 17  0  0\\n    4.2309    0.0100   -0.0583 C   0  0  0  0  0  0  0  0  0 18  0  0\\n    3.5248   -0.9876   -0.7121 C   0  0  0  0  0  0  0  0  0 19  0  0\\n    2.1425   -0.9851   -0.6867 C   0  0  0  0  0  0  0  0  0 20  0  0\\n   -4.3165    2.0037    0.6906 H   0  0  0  0  0  0  0  0  0 21  0  0\\n   -4.7270    0.3118    0.8457 H   0  0  0  0  0  0  0  0  0 22  0  0\\n   -3.9429    1.1812    2.1858 H   0  0  0  0  0  0  0  0  0 23  0  0\\n    1.6122    1.8638    1.0831 H   0  0  0  0  0  0  0  0  0 24  0  0\\n   -1.4331    4.3235    2.7933 H   0  0  0  0  0  0  0  0  0 25  0  0\\n   -3.1720    2.8151    1.9174 H   0  0  0  0  0  0  0  0  0 26  0  0\\n   -1.7771   -0.4641   -1.6497 H   0  0  0  0  0  0  0  0  0 27  0  0\\n   -2.0092   -1.7936   -0.7817 H   0  0  0  0  0  0  0  0  0 28  0  0\\n    1.6306    1.7943    1.1673 H   0  0  0  0  0  0  0  0  0 29  0  0\\n    4.0962    1.7842    1.1255 H   0  0  0  0  0  0  0  0  0 30  0  0\\n    5.3101    0.0144   -0.0888 H   0  0  0  0  0  0  0  0  0 31  0  0\\n    4.0483   -1.7621   -1.2510 H   0  0  0  0  0  0  0  0  0 32  0  0\\n    1.5990   -1.7636   -1.2061 H   0  0  0  0  0  0  0  0  0 33  0  0\\n  1  2  1  0\\n  2  3  1  0\\n  3  4  2  0\\n  4  5  1  0\\n  5  6  2  0\\n  6  7  1  0\\n  7  8  2  0\\n  6  9  1  0\\n  4 10  1  0\\n 10 11  2  0\\n 11 12  1  0\\n 12 13  1  0\\n 13 14  2  0\\n 10 15  1  0\\n 15 16  2  0\\n 16 17  1  0\\n 17 18  2  0\\n 18 19  1  0\\n 19 20  2  0\\n 13  2  1  0\\n  8  3  1  0\\n 20 15  1  0\\n  1 21  1  0\\n  1 22  1  0\\n  1 23  1  0\\n  5 24  1  0\\n  7 25  1  0\\n  8 26  1  0\\n 12 27  1  0\\n 12 28  1  0\\n 16 29  1  0\\n 17 30  1  0\\n 18 31  1  0\\n 19 32  1  0\\n 20 33  1  0\\nM  END\\n\",\"sdf\");\n",
       "\tviewer_171044841477305.setStyle({\"stick\": {\"radius\": 0.05, \"color\": \"#f2f2f2\"}, \"sphere\": {\"scale\": 0.25}});\n",
       "\tviewer_171044841477305.addPropertyLabels(\"index\",\"\",{\"fontSize\": 15, \"fontColor\": \"white\", \"alignment\": \"center\", \"showBackground\": true, \"backgroundOpacity\": 0.2, \"backgroundColor\": \"black\"});\n",
       "\tviewer_171044841477305.zoomTo();\n",
       "viewer_171044841477305.render();\n",
       "});\n",
       "</script>"
      ]
     },
     "metadata": {},
     "output_type": "display_data"
    },
    {
     "data": {
      "text/plain": [
       "<py3Dmol.view at 0x7f1466c129c0>"
      ]
     },
     "execution_count": 6,
     "metadata": {},
     "output_type": "execute_result"
    }
   ],
   "source": [
    "visualize_conf_id = 2\n",
    "\n",
    "mol_viewer(mol, confId=visualize_conf_id)  # visualize the molecule"
   ]
  },
  {
   "cell_type": "markdown",
   "id": "46be5c44",
   "metadata": {},
   "source": [
    "## 2. Create a conformer generation workflow"
   ]
  },
  {
   "cell_type": "markdown",
   "id": "a35cd583",
   "metadata": {},
   "source": [
    "### 2.1 Choose each components\n",
    "- embedder\n",
    "- optimizer\n",
    "- pruner\n",
    "- metric\n",
    "\n",
    "you can also use default config by providing `config` to the generator. You can open a new cell and use `StochasticConformerGenerator.set_config?` to check what is the default configuration"
   ]
  },
  {
   "cell_type": "code",
   "execution_count": 7,
   "id": "92bfdbc4",
   "metadata": {},
   "outputs": [],
   "source": [
    "# embedder = ETKDGEmbedder(track_stats=True)\n",
    "embedder = GeoMolEmbedder(dataset=\"drugs\", track_stats=True, temp_schedule=\"none\", device=\"cpu\") # Initialize conformer embedder\n",
    "optimizer = XTBOptimizer()\n",
    "pruner = TorsionPruner(max_chk_threshold=30)\n",
    "metric = SCGMetric(metric=\"entropy\", window=5, threshold=0.005)"
   ]
  },
  {
   "cell_type": "markdown",
   "id": "0522a7ff",
   "metadata": {},
   "source": [
    "### 2.2 Conformer generation"
   ]
  },
  {
   "cell_type": "code",
   "execution_count": 8,
   "id": "9f099b43",
   "metadata": {},
   "outputs": [
    {
     "data": {
      "application/3dmoljs_load.v0": "<div id=\"3dmolviewer_17104484148209493\"  style=\"position: relative; width: 400px; height: 400px;\">\n        <p id=\"3dmolwarning_17104484148209493\" style=\"background-color:#ffcccc;color:black\">3Dmol.js failed to load for some reason.  Please check your browser console for error messages.<br></p>\n        </div>\n<script>\n\nvar loadScriptAsync = function(uri){\n  return new Promise((resolve, reject) => {\n    //this is to ignore the existence of requirejs amd\n    var savedexports, savedmodule;\n    if (typeof exports !== 'undefined') savedexports = exports;\n    else exports = {}\n    if (typeof module !== 'undefined') savedmodule = module;\n    else module = {}\n\n    var tag = document.createElement('script');\n    tag.src = uri;\n    tag.async = true;\n    tag.onload = () => {\n        exports = savedexports;\n        module = savedmodule;\n        resolve();\n    };\n  var firstScriptTag = document.getElementsByTagName('script')[0];\n  firstScriptTag.parentNode.insertBefore(tag, firstScriptTag);\n});\n};\n\nif(typeof $3Dmolpromise === 'undefined') {\n$3Dmolpromise = null;\n  $3Dmolpromise = loadScriptAsync('https://cdnjs.cloudflare.com/ajax/libs/3Dmol/2.1.0/3Dmol-min.js');\n}\n\nvar viewer_17104484148209493 = null;\nvar warn = document.getElementById(\"3dmolwarning_17104484148209493\");\nif(warn) {\n    warn.parentNode.removeChild(warn);\n}\n$3Dmolpromise.then(function() {\nviewer_17104484148209493 = $3Dmol.createViewer(document.getElementById(\"3dmolviewer_17104484148209493\"),{backgroundColor:\"white\"});\nviewer_17104484148209493.zoomTo();\n\tviewer_17104484148209493.addModel(\"\\n     RDKit          2D\\n\\n 33 35  0  0  0  0  0  0  0  0999 V2000\\n    3.2286    0.0000    0.0000 C   0  0  0  0  0  0  0  0  0  1  0  0\\n    1.7286    0.0000    0.0000 N   0  0  0  0  0  0  0  0  0  2  0  0\\n    1.0777    1.3515    0.0000 C   0  0  0  0  0  0  0  0  0  3  0  0\\n   -0.3846    1.6852    0.0000 C   0  0  0  0  0  0  0  0  0  4  0  0\\n   -0.8268    3.1186    0.0000 C   0  0  0  0  0  0  0  0  0  5  0  0\\n    0.1935    4.2182    0.0000 C   0  0  0  0  0  0  0  0  0  6  0  0\\n    1.6559    3.8844    0.0000 C   0  0  0  0  0  0  0  0  0  7  0  0\\n    2.0980    2.4510    0.0000 C   0  0  0  0  0  0  0  0  0  8  0  0\\n   -0.2487    5.6515    0.0000 Cl  0  0  0  0  0  0  0  0  0  9  0  0\\n   -1.5574    0.7500    0.0000 C   0  0  0  0  0  0  0  0  0 10  0  0\\n   -1.5574   -0.7500    0.0000 N   0  0  0  0  0  0  0  0  0 11  0  0\\n   -0.3846   -1.6852    0.0000 C   0  0  0  0  0  0  0  0  0 12  0  0\\n    1.0777   -1.3515    0.0000 C   0  0  0  0  0  0  0  0  0 13  0  0\\n    2.0130   -2.5242    0.0000 O   0  0  0  0  0  0  0  0  0 14  0  0\\n   -2.9088    1.4008    0.0000 C   0  0  0  0  0  0  0  0  0 15  0  0\\n   -3.0209    2.8966    0.0000 C   0  0  0  0  0  0  0  0  0 16  0  0\\n   -4.3724    3.5475    0.0000 C   0  0  0  0  0  0  0  0  0 17  0  0\\n   -5.6118    2.7025    0.0000 C   0  0  0  0  0  0  0  0  0 18  0  0\\n   -5.4997    1.2067    0.0000 C   0  0  0  0  0  0  0  0  0 19  0  0\\n   -4.1482    0.5558    0.0000 C   0  0  0  0  0  0  0  0  0 20  0  0\\n    4.7286    0.0000    0.0000 H   0  0  0  0  0  0  0  0  0 21  0  0\\n    3.2286   -1.5000    0.0000 H   0  0  0  0  0  0  0  0  0 22  0  0\\n    3.3931    1.3399    0.0000 H   0  0  0  0  0  0  0  0  0 23  0  0\\n   -1.5765    3.3894    0.0000 H   0  0  0  0  0  0  0  0  0 24  0  0\\n    2.6761    4.9840    0.0000 H   0  0  0  0  0  0  0  0  0 25  0  0\\n    3.4410    2.3133    0.0000 H   0  0  0  0  0  0  0  0  0 26  0  0\\n    0.2662   -3.0367    0.0000 H   0  0  0  0  0  0  0  0  0 27  0  0\\n   -1.5574   -2.6205    0.0000 H   0  0  0  0  0  0  0  0  0 28  0  0\\n   -2.4219    3.4226    0.0000 H   0  0  0  0  0  0  0  0  0 29  0  0\\n   -4.4845    5.0433    0.0000 H   0  0  0  0  0  0  0  0  0 30  0  0\\n   -6.9632    3.3533    0.0000 H   0  0  0  0  0  0  0  0  0 31  0  0\\n   -6.7390    0.3617    0.0000 H   0  0  0  0  0  0  0  0  0 32  0  0\\n   -4.0361   -0.9400    0.0000 H   0  0  0  0  0  0  0  0  0 33  0  0\\n  1  2  1  0\\n  2  3  1  0\\n  3  4  2  0\\n  4  5  1  0\\n  5  6  2  0\\n  6  7  1  0\\n  7  8  2  0\\n  6  9  1  0\\n  4 10  1  0\\n 10 11  2  0\\n 11 12  1  0\\n 12 13  1  0\\n 13 14  2  0\\n 10 15  1  0\\n 15 16  2  0\\n 16 17  1  0\\n 17 18  2  0\\n 18 19  1  0\\n 19 20  2  0\\n 13  2  1  0\\n  8  3  1  0\\n 20 15  1  0\\n  1 21  1  0\\n  1 22  1  0\\n  1 23  1  0\\n  5 24  1  0\\n  7 25  1  0\\n  8 26  1  0\\n 12 27  1  0\\n 12 28  1  0\\n 16 29  1  0\\n 17 30  1  0\\n 18 31  1  0\\n 19 32  1  0\\n 20 33  1  0\\nM  END\\n\",\"sdf\");\n\tviewer_17104484148209493.setStyle({\"stick\": {\"radius\": 0.05, \"color\": \"#f2f2f2\"}, \"sphere\": {\"scale\": 0.25}});\n\tviewer_17104484148209493.addPropertyLabels(\"index\",\"\",{\"fontSize\": 15, \"fontColor\": \"white\", \"alignment\": \"center\", \"showBackground\": true, \"backgroundOpacity\": 0.2, \"backgroundColor\": \"black\"});\n\tviewer_17104484148209493.zoomTo();\nviewer_17104484148209493.render();\n});\n</script>",
      "text/html": [
       "<div id=\"3dmolviewer_17104484148209493\"  style=\"position: relative; width: 400px; height: 400px;\">\n",
       "        <p id=\"3dmolwarning_17104484148209493\" style=\"background-color:#ffcccc;color:black\">3Dmol.js failed to load for some reason.  Please check your browser console for error messages.<br></p>\n",
       "        </div>\n",
       "<script>\n",
       "\n",
       "var loadScriptAsync = function(uri){\n",
       "  return new Promise((resolve, reject) => {\n",
       "    //this is to ignore the existence of requirejs amd\n",
       "    var savedexports, savedmodule;\n",
       "    if (typeof exports !== 'undefined') savedexports = exports;\n",
       "    else exports = {}\n",
       "    if (typeof module !== 'undefined') savedmodule = module;\n",
       "    else module = {}\n",
       "\n",
       "    var tag = document.createElement('script');\n",
       "    tag.src = uri;\n",
       "    tag.async = true;\n",
       "    tag.onload = () => {\n",
       "        exports = savedexports;\n",
       "        module = savedmodule;\n",
       "        resolve();\n",
       "    };\n",
       "  var firstScriptTag = document.getElementsByTagName('script')[0];\n",
       "  firstScriptTag.parentNode.insertBefore(tag, firstScriptTag);\n",
       "});\n",
       "};\n",
       "\n",
       "if(typeof $3Dmolpromise === 'undefined') {\n",
       "$3Dmolpromise = null;\n",
       "  $3Dmolpromise = loadScriptAsync('https://cdnjs.cloudflare.com/ajax/libs/3Dmol/2.1.0/3Dmol-min.js');\n",
       "}\n",
       "\n",
       "var viewer_17104484148209493 = null;\n",
       "var warn = document.getElementById(\"3dmolwarning_17104484148209493\");\n",
       "if(warn) {\n",
       "    warn.parentNode.removeChild(warn);\n",
       "}\n",
       "$3Dmolpromise.then(function() {\n",
       "viewer_17104484148209493 = $3Dmol.createViewer(document.getElementById(\"3dmolviewer_17104484148209493\"),{backgroundColor:\"white\"});\n",
       "viewer_17104484148209493.zoomTo();\n",
       "\tviewer_17104484148209493.addModel(\"\\n     RDKit          2D\\n\\n 33 35  0  0  0  0  0  0  0  0999 V2000\\n    3.2286    0.0000    0.0000 C   0  0  0  0  0  0  0  0  0  1  0  0\\n    1.7286    0.0000    0.0000 N   0  0  0  0  0  0  0  0  0  2  0  0\\n    1.0777    1.3515    0.0000 C   0  0  0  0  0  0  0  0  0  3  0  0\\n   -0.3846    1.6852    0.0000 C   0  0  0  0  0  0  0  0  0  4  0  0\\n   -0.8268    3.1186    0.0000 C   0  0  0  0  0  0  0  0  0  5  0  0\\n    0.1935    4.2182    0.0000 C   0  0  0  0  0  0  0  0  0  6  0  0\\n    1.6559    3.8844    0.0000 C   0  0  0  0  0  0  0  0  0  7  0  0\\n    2.0980    2.4510    0.0000 C   0  0  0  0  0  0  0  0  0  8  0  0\\n   -0.2487    5.6515    0.0000 Cl  0  0  0  0  0  0  0  0  0  9  0  0\\n   -1.5574    0.7500    0.0000 C   0  0  0  0  0  0  0  0  0 10  0  0\\n   -1.5574   -0.7500    0.0000 N   0  0  0  0  0  0  0  0  0 11  0  0\\n   -0.3846   -1.6852    0.0000 C   0  0  0  0  0  0  0  0  0 12  0  0\\n    1.0777   -1.3515    0.0000 C   0  0  0  0  0  0  0  0  0 13  0  0\\n    2.0130   -2.5242    0.0000 O   0  0  0  0  0  0  0  0  0 14  0  0\\n   -2.9088    1.4008    0.0000 C   0  0  0  0  0  0  0  0  0 15  0  0\\n   -3.0209    2.8966    0.0000 C   0  0  0  0  0  0  0  0  0 16  0  0\\n   -4.3724    3.5475    0.0000 C   0  0  0  0  0  0  0  0  0 17  0  0\\n   -5.6118    2.7025    0.0000 C   0  0  0  0  0  0  0  0  0 18  0  0\\n   -5.4997    1.2067    0.0000 C   0  0  0  0  0  0  0  0  0 19  0  0\\n   -4.1482    0.5558    0.0000 C   0  0  0  0  0  0  0  0  0 20  0  0\\n    4.7286    0.0000    0.0000 H   0  0  0  0  0  0  0  0  0 21  0  0\\n    3.2286   -1.5000    0.0000 H   0  0  0  0  0  0  0  0  0 22  0  0\\n    3.3931    1.3399    0.0000 H   0  0  0  0  0  0  0  0  0 23  0  0\\n   -1.5765    3.3894    0.0000 H   0  0  0  0  0  0  0  0  0 24  0  0\\n    2.6761    4.9840    0.0000 H   0  0  0  0  0  0  0  0  0 25  0  0\\n    3.4410    2.3133    0.0000 H   0  0  0  0  0  0  0  0  0 26  0  0\\n    0.2662   -3.0367    0.0000 H   0  0  0  0  0  0  0  0  0 27  0  0\\n   -1.5574   -2.6205    0.0000 H   0  0  0  0  0  0  0  0  0 28  0  0\\n   -2.4219    3.4226    0.0000 H   0  0  0  0  0  0  0  0  0 29  0  0\\n   -4.4845    5.0433    0.0000 H   0  0  0  0  0  0  0  0  0 30  0  0\\n   -6.9632    3.3533    0.0000 H   0  0  0  0  0  0  0  0  0 31  0  0\\n   -6.7390    0.3617    0.0000 H   0  0  0  0  0  0  0  0  0 32  0  0\\n   -4.0361   -0.9400    0.0000 H   0  0  0  0  0  0  0  0  0 33  0  0\\n  1  2  1  0\\n  2  3  1  0\\n  3  4  2  0\\n  4  5  1  0\\n  5  6  2  0\\n  6  7  1  0\\n  7  8  2  0\\n  6  9  1  0\\n  4 10  1  0\\n 10 11  2  0\\n 11 12  1  0\\n 12 13  1  0\\n 13 14  2  0\\n 10 15  1  0\\n 15 16  2  0\\n 16 17  1  0\\n 17 18  2  0\\n 18 19  1  0\\n 19 20  2  0\\n 13  2  1  0\\n  8  3  1  0\\n 20 15  1  0\\n  1 21  1  0\\n  1 22  1  0\\n  1 23  1  0\\n  5 24  1  0\\n  7 25  1  0\\n  8 26  1  0\\n 12 27  1  0\\n 12 28  1  0\\n 16 29  1  0\\n 17 30  1  0\\n 18 31  1  0\\n 19 32  1  0\\n 20 33  1  0\\nM  END\\n\",\"sdf\");\n",
       "\tviewer_17104484148209493.setStyle({\"stick\": {\"radius\": 0.05, \"color\": \"#f2f2f2\"}, \"sphere\": {\"scale\": 0.25}});\n",
       "\tviewer_17104484148209493.addPropertyLabels(\"index\",\"\",{\"fontSize\": 15, \"fontColor\": \"white\", \"alignment\": \"center\", \"showBackground\": true, \"backgroundOpacity\": 0.2, \"backgroundColor\": \"black\"});\n",
       "\tviewer_17104484148209493.zoomTo();\n",
       "viewer_17104484148209493.render();\n",
       "});\n",
       "</script>"
      ]
     },
     "metadata": {},
     "output_type": "display_data"
    },
    {
     "data": {
      "text/plain": [
       "<py3Dmol.view at 0x7f14662f9f40>"
      ]
     },
     "execution_count": 8,
     "metadata": {},
     "output_type": "execute_result"
    }
   ],
   "source": [
    "smi = \"CN1C2=C(C=C(C=C2)Cl)C(=NCC1=O)C3=CC=CC=C3\"\n",
    "\n",
    "mol_viewer(RDKitMol.FromSmiles(smi))"
   ]
  },
  {
   "cell_type": "code",
   "execution_count": 9,
   "id": "e72b2651",
   "metadata": {
    "scrolled": true
   },
   "outputs": [
    {
     "name": "stderr",
     "output_type": "stream",
     "text": [
      "2024/03/14 04:33:34 PM | StochasticConformerGenerator | INFO: Generating conformers for CN1C2=C(C=C(C=C2)Cl)C(=NCC1=O)C3=CC=CC=C3\n",
      "2024/03/14 04:33:34 PM | StochasticConformerGenerator | INFO: \n",
      "Iteration 1: embedding 100 initial guesses...\n"
     ]
    },
    {
     "name": "stderr",
     "output_type": "stream",
     "text": [
      "2024/03/14 04:33:35 PM | StochasticConformerGenerator | INFO: Iteration 1: optimizing initial guesses...\n",
      "2024/03/14 04:33:39 PM | StochasticConformerGenerator | INFO: Iteration 1: pruning conformers...\n",
      "2024/03/14 04:33:40 PM | StochasticConformerGenerator | INFO: Iteration 1: kept 12 unique conformers\n",
      "2024/03/14 04:33:40 PM | StochasticConformerGenerator | INFO: \n",
      "Iteration 2: embedding 100 initial guesses...\n",
      "2024/03/14 04:33:40 PM | StochasticConformerGenerator | INFO: Iteration 2: optimizing initial guesses...\n",
      "2024/03/14 04:33:45 PM | StochasticConformerGenerator | INFO: Iteration 2: pruning conformers...\n",
      "2024/03/14 04:33:45 PM | StochasticConformerGenerator | INFO: Iteration 2: kept 12 unique conformers\n",
      "2024/03/14 04:33:45 PM | StochasticConformerGenerator | INFO: Iteration 2: stop crietria reached\n",
      "\n"
     ]
    },
    {
     "name": "stdout",
     "output_type": "stream",
     "text": [
      "Number of conformers: 12\n",
      "Metric: 4.938e-03\n"
     ]
    }
   ],
   "source": [
    "n_conformers_per_iter = 100\n",
    "min_iters = 2\n",
    "max_iters = 5\n",
    "\n",
    "scg = StochasticConformerGenerator(\n",
    "    smiles=smi,\n",
    "    embedder=embedder,\n",
    "    optimizer=optimizer,\n",
    "    pruner=pruner,\n",
    "    metric=metric,\n",
    "    min_iters=min_iters,\n",
    "    max_iters=max_iters,\n",
    ")\n",
    "\n",
    "unique_mol_data = scg(n_conformers_per_iter)\n",
    "print(\n",
    "    f\"Number of conformers: {len(unique_mol_data)}\\n\"\n",
    "    f\"Metric: {scg.metric.metric_history[-1]:.3e}\"\n",
    ")"
   ]
  }
 ],
 "metadata": {
  "kernelspec": {
   "display_name": "GeoMol",
   "language": "python",
   "name": "python3"
  },
  "language_info": {
   "codemirror_mode": {
    "name": "ipython",
    "version": 3
   },
   "file_extension": ".py",
   "mimetype": "text/x-python",
   "name": "python",
   "nbconvert_exporter": "python",
   "pygments_lexer": "ipython3",
   "version": "3.12.2"
  }
 },
 "nbformat": 4,
 "nbformat_minor": 5
}
