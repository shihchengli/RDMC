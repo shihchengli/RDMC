{
 "cells": [
  {
   "cell_type": "markdown",
   "id": "7fcbb47e",
   "metadata": {},
   "source": [
    "# A demo for Gaussian output analyzer"
   ]
  },
  {
   "cell_type": "code",
   "execution_count": null,
   "id": "c6abcb9f",
   "metadata": {},
   "outputs": [],
   "source": [
    "import os\n",
    "import sys\n",
    "# To add this RDMC into PYTHONPATH in case you haven't do it\n",
    "sys.path.append(os.path.dirname(os.path.abspath('')))\n",
    "\n",
    "from rdmc.external.gaussian import GaussianLog\n",
    "from rdmc.view import mol_viewer, grid_viewer\n",
    "\n",
    "def general_info(glog):\n",
    "    print(f'Success?: {glog.success}')\n",
    "    print(f'TS?: {glog.is_ts}')\n",
    "    print(f'Involved job types: {\", \".join(glog.job_type)}')\n",
    "    try:\n",
    "        print(f'Scanning: {\", \".join(glog.scan_names)}')\n",
    "    except:\n",
    "        pass\n",
    "    print(f'Charge: {glog.charge}, Multiplicity: {glog.multiplicity}')\n",
    "\n",
    "%load_ext autoreload\n",
    "%autoreload 2\n",
    "%matplotlib inline"
   ]
  },
  {
   "cell_type": "markdown",
   "id": "f1542a7c",
   "metadata": {},
   "source": [
    "## Input the path of log file <a id='HOME'></a>\n",
    "You need to assign the path to `log`. Some examples are provided. "
   ]
  },
  {
   "cell_type": "code",
   "execution_count": null,
   "id": "fad5a463",
   "metadata": {
    "scrolled": false
   },
   "outputs": [],
   "source": [
    "############ EXAMPLES #################\n",
    "# CBS-QB3 non-TS\n",
    "log = 'data/well-cbsqb3.out'\n",
    "# CBS-QB3 TS\n",
    "# log = 'data/ts-cbsqb3.out'\n",
    "# scan\n",
    "# log = 'data/scan.out'\n",
    "# IRC\n",
    "# log = 'data/irc.out'\n",
    "######################################\n",
    "\n",
    "glog = GaussianLog(log)\n",
    "general_info(glog)"
   ]
  },
  {
   "cell_type": "markdown",
   "id": "7abbca02",
   "metadata": {},
   "source": [
    "## Hyperlinks: Analyze by job types\n",
    "\n",
    "- [Optimization](#OPT)\n",
    "- [Frequency](#FREQ)\n",
    "- [Scan](#SCAN)\n",
    "- [IRC](#IRC)"
   ]
  },
  {
   "cell_type": "markdown",
   "id": "62cd5c2a",
   "metadata": {},
   "source": [
    "## 1. Optimization <a id='OPT'></a>"
   ]
  },
  {
   "cell_type": "markdown",
   "id": "174c5f94",
   "metadata": {},
   "source": [
    "### 1.1 Visualize molecule\n",
    "\n",
    "If the optimization was converged, then show the converged geometry. Otherwise, show the geometry that is the closest to the convergence criteria.\n",
    "\n",
    "[back](#HOME)"
   ]
  },
  {
   "cell_type": "code",
   "execution_count": null,
   "id": "316e035c",
   "metadata": {},
   "outputs": [],
   "source": [
    "glog.view_mol(atom_index=True, gv_background=True).update()\n",
    "xyz = glog.get_best_opt_geom(xyz_str=True)\n",
    "if glog.success:\n",
    "    print('Converged XYZ:\\n')\n",
    "else:\n",
    "    print('Geometry that is the closest to the convergence criteria:\\n')\n",
    "print(xyz)"
   ]
  },
  {
   "cell_type": "markdown",
   "id": "23c5bd6c",
   "metadata": {},
   "source": [
    "### 1.2 Convergence analysis\n",
    "\n",
    "Check the trend for each convergence criterion\n",
    "- `logy`: plot the y axis in log scale\n",
    "- `relative`: Plot the relative value to the convergence criteria\n",
    "\n",
    "[back](#HOME)"
   ]
  },
  {
   "cell_type": "code",
   "execution_count": null,
   "id": "0fdf4f3e",
   "metadata": {},
   "outputs": [],
   "source": [
    "glog.plot_convergence(logy=True, relative=True);"
   ]
  },
  {
   "cell_type": "markdown",
   "id": "832284fe",
   "metadata": {},
   "source": [
    "### 1.3 Interact with opt job\n",
    "[back](#HOME)"
   ]
  },
  {
   "cell_type": "code",
   "execution_count": null,
   "id": "18fd8354",
   "metadata": {
    "scrolled": true
   },
   "outputs": [],
   "source": [
    "glog.interact_convergence();"
   ]
  },
  {
   "cell_type": "markdown",
   "id": "f7c330b7",
   "metadata": {},
   "source": [
    "## 2. Frequency <a id='FREQ'></a>"
   ]
  },
  {
   "cell_type": "markdown",
   "id": "6c6dadce",
   "metadata": {},
   "source": [
    "### 2.1 Summary \n",
    "[back](#HOME)"
   ]
  },
  {
   "cell_type": "code",
   "execution_count": null,
   "id": "5c0cb7af",
   "metadata": {},
   "outputs": [],
   "source": [
    "print(f'Number of freqs: {glog.freqs.shape[0]}')\n",
    "print(f'Number of negative freqs: {glog.num_neg_freqs}')\n",
    "print(f'Negative freqs: {glog.neg_freqs}')"
   ]
  },
  {
   "cell_type": "markdown",
   "id": "60de9185",
   "metadata": {},
   "source": [
    "### 2.2 Interact with freq job\n",
    "\n",
    "- select the frequency you want to visualize\n",
    "- change its number of frames (the smaller the faster the animation is; the higher the more detailed the animation is)\n",
    "- change the amplitude of the mode\n",
    "\n",
    "[back](#HOME)"
   ]
  },
  {
   "cell_type": "code",
   "execution_count": null,
   "id": "d3a0f805",
   "metadata": {},
   "outputs": [],
   "source": [
    "glog.interact_freq();"
   ]
  },
  {
   "cell_type": "markdown",
   "id": "8ca2a221",
   "metadata": {},
   "source": [
    "### 2.3 Guess reaction from the imaginary frequency\n",
    "\n",
    "Guess the reactants and the products from the imaginary frequency mode. This requires the frequency job involves a Transition state molecule. Please be cautious that this method is not very accurate.\n",
    "\n",
    "- `amplitude`: The amplitude factor on the displacement matrix to generate theguess geometry for the reactant and the product. A smaller factor makes the geometry close to the TS, while a wildly large factor makes the geometry nonphysical.\n",
    "- `as_mol_frags`: Whether to return the results as molecule complexes or as individual molecules. `False` means return as the complexes.\n",
    "- `inverse`: Inverse the sequence of the reactant and the product.\n",
    "\n",
    "There will be messages about SaturateMol, you want to make sure the cell generate `r_mol` and `p_mol` has no failure, while ignore the failure message in the other cell. You may also ignore the SMILES generated for the TS\n",
    "\n",
    "[back](#HOME)"
   ]
  },
  {
   "cell_type": "code",
   "execution_count": null,
   "id": "8bb97755",
   "metadata": {},
   "outputs": [],
   "source": [
    "r_mols, p_mols = glog.guess_rxn_from_freq(amplitude=[0.1, 0.25], atom_weighted=True, inverse=True)\n",
    "print(f'{len(r_mols)} potential reactants and {len(p_mols)} potential products are identified.')"
   ]
  },
  {
   "cell_type": "code",
   "execution_count": null,
   "id": "69782596",
   "metadata": {},
   "outputs": [],
   "source": [
    "r_idx = 0\n",
    "p_idx = 0\n",
    "\n",
    "\n",
    "ts = glog.get_mol(embed_conformers=False)\n",
    "mols_to_view = [ts]\n",
    "if r_idx < len(r_mols):\n",
    "    mols_to_view.insert(0, r_mols[r_idx])\n",
    "if p_idx < len(p_mols):\n",
    "    mols_to_view.append(p_mols[p_idx])\n",
    "\n",
    "entries = len(mols_to_view)\n",
    "viewer = grid_viewer(viewer_grid=(1, entries), viewer_size=(300 * entries, 300),)\n",
    "for i in range(entries):\n",
    "    mol_viewer(mols_to_view[i], viewer=viewer, viewer_loc=(0, i))\n",
    "\n",
    "print('\\nreactant    TS      product')\n",
    "print([mol.ToSmiles() for mol in mols_to_view])\n",
    "viewer.show()"
   ]
  },
  {
   "cell_type": "markdown",
   "id": "cf6a7f7f",
   "metadata": {},
   "source": [
    "## 3. Scan <a id='SCAN'></a>"
   ]
  },
  {
   "cell_type": "markdown",
   "id": "1faab393",
   "metadata": {},
   "source": [
    "### 3.1 Visualize the scan\n",
    "- `align_scan`: if align the scanned coordinate to make the animaiton cleaner\n",
    "- `align_frag_idx`: which part of the body to align (value should be either 1 or 2)\n",
    "- `atom_index`: whether to show the atom index\n",
    "\n",
    "[back](#HOME)"
   ]
  },
  {
   "cell_type": "code",
   "execution_count": null,
   "id": "2047048d",
   "metadata": {},
   "outputs": [],
   "source": [
    "glog.view_traj(align_scan=True, align_frag_idx=1, atom_index=False, backend='jensen').update();"
   ]
  },
  {
   "cell_type": "markdown",
   "id": "f140e226",
   "metadata": {},
   "source": [
    "### 3.2 Plot the scan energies"
   ]
  },
  {
   "cell_type": "markdown",
   "id": "58f75501",
   "metadata": {},
   "source": [
    "- `converged`: only plot energies for converged geometries\n",
    "- `relative_x`: plot the x-axis as a relative value (value for initial geom mas the baseline)\n",
    "- `relative_y`: plot the y-axis as a relative value (value for initial geom as the baseline)\n",
    "\n",
    "[back](#HOME)"
   ]
  },
  {
   "cell_type": "code",
   "execution_count": null,
   "id": "6febde0d",
   "metadata": {},
   "outputs": [],
   "source": [
    "glog.plot_scan_energies(converged=True, relative_x=True, relative_y=True);"
   ]
  },
  {
   "cell_type": "markdown",
   "id": "ba5ac0d1",
   "metadata": {},
   "source": [
    "### 3.3 Interact with the scan job\n",
    "\n",
    "[back](#HOME)"
   ]
  },
  {
   "cell_type": "code",
   "execution_count": null,
   "id": "bc8663b5",
   "metadata": {},
   "outputs": [],
   "source": [
    "glog.interact_scan(align_scan=True, align_frag_idx=1, backend='jensen');"
   ]
  },
  {
   "cell_type": "markdown",
   "id": "b3280645",
   "metadata": {},
   "source": [
    "## 4. IRC <a id='IRC'></a>"
   ]
  },
  {
   "cell_type": "markdown",
   "id": "ce9ec955",
   "metadata": {},
   "source": [
    "### 4.1 Visualize the IRC\n",
    "- `loop`: the way animation plays (`'backAndForth'`, `'forward'`, `'reverse'`)\n",
    "- `interval`: the time interval between each frame (the smaller the fast the animiation is)\n",
    "\n",
    "Note: you don't need to worry about the comment of `SaturateMol` failure since we are dealing with TS.\n",
    "\n",
    "[back](#HOME)"
   ]
  },
  {
   "cell_type": "code",
   "execution_count": null,
   "id": "3b3bb14a",
   "metadata": {},
   "outputs": [],
   "source": [
    "glog.view_traj(animate={\"loop\": \"backAndForth\", \"interval\": 100}).update();"
   ]
  },
  {
   "cell_type": "markdown",
   "id": "c4667386",
   "metadata": {},
   "source": [
    "### 4.2 Plot the IRC energies\n",
    "- `converged`: only display the energies for the converged geometries\n",
    "\n",
    "[back](#HOME)"
   ]
  },
  {
   "cell_type": "code",
   "execution_count": null,
   "id": "357a832f",
   "metadata": {},
   "outputs": [],
   "source": [
    "glog.plot_irc_energies(converged=True);"
   ]
  },
  {
   "cell_type": "markdown",
   "id": "61772124",
   "metadata": {},
   "source": [
    "### 4.3 Interact with the IRC job\n",
    "\n",
    "[back](#HOME)"
   ]
  },
  {
   "cell_type": "code",
   "execution_count": null,
   "id": "15b14fb9",
   "metadata": {},
   "outputs": [],
   "source": [
    "glog.interact_irc();"
   ]
  },
  {
   "cell_type": "markdown",
   "id": "30cce1c2",
   "metadata": {},
   "source": [
    "### 4.4 Guess the reaction\n",
    "\n",
    "Guess the reactants and the products from the IRC results. This requires the IRC job to bidirectional.\n",
    "- `index`: the index of the conformer pair that is the distance from the TS. To use the geometries at both ends of the IRC curve, you can assign it to `0`.\n",
    "- `as_mol_frags`: Whether to return the results as molecule complexes or as individual molecules. `False` means return as the complexes.\n",
    "- `inverse`: Inverse the sequence of the reactant and the product.\n",
    "\n",
    "There will be messages about SaturateMol, you want to make sure the cell generate `r_mol` and `p_mol` has no failure, while ignore the failure message in the other cell. You may also ignore the SMILES generated for the TS\n",
    "\n",
    "[back](#HOME)"
   ]
  },
  {
   "cell_type": "code",
   "execution_count": null,
   "id": "20e14bec",
   "metadata": {
    "scrolled": true
   },
   "outputs": [],
   "source": [
    "r_mol, p_mol = glog.guess_rxn_from_irc(index=0, as_mol_frags=False, inverse=False)"
   ]
  },
  {
   "cell_type": "code",
   "execution_count": null,
   "id": "6d475392",
   "metadata": {},
   "outputs": [],
   "source": [
    "ts = glog.get_mol(embed_conformers=False)\n",
    "\n",
    "if not isinstance(r_mol, tuple):\n",
    "    r_mol, p_mol = (r_mol,), (p_mol,)\n",
    "\n",
    "mols_to_view = list(r_mol) + [ts] + list(p_mol)\n",
    "entries = len(mols_to_view)\n",
    "viewer = grid_viewer(viewer_grid=(1, entries), viewer_size=(300 * entries, 300),)\n",
    "for i in range(entries):\n",
    "    mol_viewer(mols_to_view[i], viewer=viewer, viewer_loc=(0, i))\n",
    "\n",
    "print('\\nreactant    TS      product')\n",
    "print([mol.ToSmiles() for mol in mols_to_view])\n",
    "viewer.show()"
   ]
  },
  {
   "cell_type": "code",
   "execution_count": null,
   "id": "aa52451d",
   "metadata": {},
   "outputs": [],
   "source": []
  }
 ],
 "metadata": {
  "@webio": {
   "lastCommId": null,
   "lastKernelId": null
  },
  "interpreter": {
   "hash": "85d1b8872cf2a473cd94ec60df3b0395d0e9b5ff43584203099638555d530dd7"
  },
  "kernelspec": {
   "display_name": "Python 3",
   "language": "python",
   "name": "python3"
  },
  "language_info": {
   "codemirror_mode": {
    "name": "ipython",
    "version": 3
   },
   "file_extension": ".py",
   "mimetype": "text/x-python",
   "name": "python",
   "nbconvert_exporter": "python",
   "pygments_lexer": "ipython3",
   "version": "3.7.7"
  }
 },
 "nbformat": 4,
 "nbformat_minor": 5
}
