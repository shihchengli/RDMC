{
 "cells": [
  {
   "cell_type": "markdown",
   "id": "b496892f",
   "metadata": {},
   "source": [
    "# Generate Atom-mapped SMILES for RMG reactions.\n",
    "This notebook helps create atom-mapped SMILES for reactants and products. Two methods are available:\n",
    "\n",
    "1. Atommapping according to the templates of RMG reaction families.\n",
    "2. Atommapping using RXNMapper and in-house H atom mappings."
   ]
  },
  {
   "cell_type": "markdown",
   "id": "3931e00d",
   "metadata": {},
   "source": [
    "## Import Modules"
   ]
  },
  {
   "cell_type": "code",
   "execution_count": 1,
   "id": "e42b30f5",
   "metadata": {},
   "outputs": [
    {
     "name": "stdout",
     "output_type": "stream",
     "text": [
      "Importing RMG modules...\n",
      "This step may takes a while...\n",
      "Importing RXNMappers modules...\n"
     ]
    }
   ],
   "source": [
    "import os\n",
    "import sys\n",
    "# To add RDMC into PYTHONPATH in case you haven't done\n",
    "sys.path.append(os.path.dirname(os.path.abspath('')))\n",
    "\n",
    "from rdmc.mol import RDKitMol, parse_xyz_or_smiles_list\n",
    "from rdmc.ts import get_formed_and_broken_bonds\n",
    "from rdmc.reaction import Reaction\n",
    "\n",
    "# Import RMG dependencies\n",
    "# You can install RMG according to http://reactionmechanismgenerator.github.io/RMG-Py/users/rmg/installation\n",
    "# Loading RMG may take a while\n",
    "try:\n",
    "    print('Importing RMG modules...')\n",
    "    print('This step may takes a while...')\n",
    "    from rdmc.external.rmg import (from_rdkit_mol,\n",
    "                                   load_rxn_family_database,\n",
    "                                   generate_reaction_complex,)\n",
    "    # Load RMG database\n",
    "    database = load_rxn_family_database(families='all')\n",
    "except (ImportError, ModuleNotFoundError):\n",
    "    print('You need to install RMG to use RMG for atommapping!')\n",
    "\n",
    "    \n",
    "# Import RXNMapper\n",
    "# You can install RXNMapper by `pip install rxnmapper`\n",
    "try:\n",
    "   \n",
    "    print('Importing RXNMappers modules...')\n",
    "    from rxnmapper import RXNMapper\n",
    "except (ImportError, ModuleNotFoundError):\n",
    "    print('You need to install RXNMapper to use RXNMapper for atommapping!')\n",
    "    \n",
    "%load_ext autoreload\n",
    "%autoreload 2"
   ]
  },
  {
   "cell_type": "markdown",
   "id": "2b0ef8be",
   "metadata": {},
   "source": [
    "## Examples\n",
    "You can choose whichever reaction you like, and you are encouraged to provide your own example.\n",
    "\n",
    "For carbenes and biradicals, you need to specify the multiplicity as well. E.g., `reactants=[('[CH2]', 1)]`"
   ]
  },
  {
   "cell_type": "markdown",
   "id": "6c9b52f3",
   "metadata": {},
   "source": [
    "H_migration"
   ]
  },
  {
   "cell_type": "code",
   "execution_count": 2,
   "id": "26abbfab",
   "metadata": {},
   "outputs": [],
   "source": [
    "reactants = [\n",
    "\"\"\"[CH2]CCCCO\"\"\",]\n",
    "products = [\n",
    "\"\"\"[O]CCCCC\"\"\",]"
   ]
  },
  {
   "cell_type": "markdown",
   "id": "f05d72e2",
   "metadata": {},
   "source": [
    "Retroene"
   ]
  },
  {
   "cell_type": "code",
   "execution_count": 3,
   "id": "80c92963",
   "metadata": {},
   "outputs": [],
   "source": [
    "reactants = [\n",
    "\"\"\"C1=CC(C2C=CCC2)C=C1\"\"\",]\n",
    "\n",
    "products = [\n",
    "\"\"\"C1=CC=CC1\"\"\",\n",
    "\"\"\"C1=CC=CC1\"\"\",]"
   ]
  },
  {
   "cell_type": "markdown",
   "id": "3e3bb1a1",
   "metadata": {},
   "source": [
    "H abstraction"
   ]
  },
  {
   "cell_type": "code",
   "execution_count": 4,
   "id": "42903c1d",
   "metadata": {},
   "outputs": [],
   "source": [
    "reactants = [\n",
    "\"\"\"[O]\"\"\",\n",
    "\"\"\"CCCCO\"\"\",]\n",
    "\n",
    "products = [\n",
    "\"\"\"[OH]\"\"\",\n",
    "\"\"\"[CH2]CCCO\"\"\",]"
   ]
  },
  {
   "cell_type": "markdown",
   "id": "55d4a802",
   "metadata": {},
   "source": [
    "1+2_Cycloaddition"
   ]
  },
  {
   "cell_type": "code",
   "execution_count": 5,
   "id": "5cfe26b5",
   "metadata": {},
   "outputs": [],
   "source": [
    "reactants = [\n",
    "(\"\"\"[O]\"\"\", 1),\n",
    "\"\"\"C=C\"\"\",]\n",
    "\n",
    "products = [\n",
    "\"\"\"C1OC1\"\"\",]"
   ]
  },
  {
   "cell_type": "markdown",
   "id": "0f82f0f0",
   "metadata": {},
   "source": [
    "H2_elimination"
   ]
  },
  {
   "cell_type": "code",
   "execution_count": 6,
   "id": "946ea3b5",
   "metadata": {},
   "outputs": [],
   "source": [
    "reactants = [\n",
    "    \"\"\"CC\"\"\", ]\n",
    "\n",
    "products = [\n",
    "    \"\"\"C=C\"\"\",\n",
    "    \"\"\"[H][H]\"\"\",]"
   ]
  },
  {
   "cell_type": "markdown",
   "id": "6d20e9b2",
   "metadata": {},
   "source": [
    "1,2_Insertion_carbene"
   ]
  },
  {
   "cell_type": "code",
   "execution_count": 7,
   "id": "20aebbcb",
   "metadata": {},
   "outputs": [],
   "source": [
    "reactants = [\n",
    "    (\"\"\"[CH2]\"\"\", 1),\n",
    "    \"\"\"C=C\"\"\", ]\n",
    "\n",
    "products = [\n",
    "    \"\"\"CC=C\"\"\", ]"
   ]
  },
  {
   "cell_type": "markdown",
   "id": "d3250a39",
   "metadata": {},
   "source": [
    "# [Method 1] Atommapping using RMG"
   ]
  },
  {
   "cell_type": "code",
   "execution_count": 8,
   "id": "f43345b5",
   "metadata": {},
   "outputs": [
    {
     "name": "stdout",
     "output_type": "stream",
     "text": [
      "You can neglect the Open Babel Warnings below.\n"
     ]
    },
    {
     "name": "stderr",
     "output_type": "stream",
     "text": [
      "==============================\n",
      "*** Open Babel Warning  in ReadMolecule\n",
      "  Problems reading an XYZ file: The first line must contain the number of atoms.\n",
      "==============================\n",
      "*** Open Babel Warning  in ReadMolecule\n",
      "  Problems reading an XYZ file: The first line must contain the number of atoms.\n",
      "==============================\n",
      "*** Open Babel Warning  in ReadMolecule\n",
      "  Problems reading an XYZ file: The first line must contain the number of atoms.\n"
     ]
    },
    {
     "name": "stdout",
     "output_type": "stream",
     "text": [
      "C=C + [CH2] <=> C=CC\n",
      "RMG family: 1,2_Insertion_carbene\n",
      "Is forward reaction: True\n"
     ]
    }
   ],
   "source": [
    "print(\"You can neglect the Open Babel Warnings below.\")\n",
    "try:\n",
    "    # Generate RMG Molecule\n",
    "    r_mols = parse_xyz_or_smiles_list(reactants)\n",
    "    p_mols = parse_xyz_or_smiles_list(products)\n",
    "    reactant_molecules = [from_rdkit_mol(r) for r in r_mols]\n",
    "    product_molecules = [from_rdkit_mol(p) for p in p_mols]\n",
    "\n",
    "except Exception as e:\n",
    "    print(e)\n",
    "    print('Have issues generating molecules.')\n",
    "else:\n",
    "    # A product complex with the same atom indexing as the reactant is generated\n",
    "    reactant_complex, product_complex = generate_reaction_complex(\n",
    "                                            database,\n",
    "                                            reactant_molecules,\n",
    "                                            product_molecules,\n",
    "                                            verbose=True)\n",
    "\n",
    "if reactant_complex:\n",
    "    r_complex = RDKitMol.FromRMGMol(reactant_complex)\n",
    "    p_complex = RDKitMol.FromRMGMol(product_complex)"
   ]
  },
  {
   "cell_type": "markdown",
   "id": "e9acff97",
   "metadata": {},
   "source": [
    "### Generate Reaction SMILES"
   ]
  },
  {
   "cell_type": "markdown",
   "id": "157aad6a",
   "metadata": {},
   "source": [
    "Visualize reactant and product in molecule graphs"
   ]
  },
  {
   "cell_type": "code",
   "execution_count": 9,
   "id": "b5dea04d",
   "metadata": {},
   "outputs": [
    {
     "data": {
      "image/svg+xml": [
       "<?xml version='1.0' encoding='iso-8859-1'?>\n",
       "<svg version='1.1' baseProfile='full'\n",
       "              xmlns='http://www.w3.org/2000/svg'\n",
       "                      xmlns:rdkit='http://www.rdkit.org/xml'\n",
       "                      xmlns:xlink='http://www.w3.org/1999/xlink'\n",
       "                  xml:space='preserve'\n",
       "width='800px' height='300px' viewBox='0 0 800 300'>\n",
       "<!-- END OF HEADER -->\n",
       "<rect style='opacity:1.0;fill:#FFFFFF;stroke:none' width='800' height='300' x='0' y='0'> </rect>\n",
       "<path d='M 93.5967,170.73 L 132.493,148.273' style='fill:none;fill-rule:evenodd;stroke:#FFFFAA;stroke-width:9px;stroke-linecap:butt;stroke-linejoin:miter;stroke-opacity:1' />\n",
       "<path d='M 93.5967,170.73 L 54.7002,148.273' style='fill:none;fill-rule:evenodd;stroke:#FFFFAA;stroke-width:9px;stroke-linecap:butt;stroke-linejoin:miter;stroke-opacity:1' />\n",
       "<path d='M 270.766,155.758 L 315.68,155.758' style='fill:none;fill-rule:evenodd;stroke:#FFCC99;stroke-width:9px;stroke-linecap:butt;stroke-linejoin:miter;stroke-opacity:1' />\n",
       "<path d='M 270.766,155.758 L 248.309,116.862' style='fill:none;fill-rule:evenodd;stroke:#FFCC99;stroke-width:9px;stroke-linecap:butt;stroke-linejoin:miter;stroke-opacity:1' />\n",
       "<path d='M 270.766,155.758 L 248.309,194.655' style='fill:none;fill-rule:evenodd;stroke:#FFCC99;stroke-width:9px;stroke-linecap:butt;stroke-linejoin:miter;stroke-opacity:1' />\n",
       "<path d='M 315.68,155.758 L 338.136,194.655' style='fill:none;fill-rule:evenodd;stroke:#FFCC99;stroke-width:9px;stroke-linecap:butt;stroke-linejoin:miter;stroke-opacity:1' />\n",
       "<path d='M 315.68,155.758 L 338.136,116.862' style='fill:none;fill-rule:evenodd;stroke:#FFCC99;stroke-width:9px;stroke-linecap:butt;stroke-linejoin:miter;stroke-opacity:1' />\n",
       "<path d='M 705.811,160.052 L 745.152,181.721' style='fill:none;fill-rule:evenodd;stroke:#FFFFAA;stroke-width:9px;stroke-linecap:butt;stroke-linejoin:miter;stroke-opacity:1' />\n",
       "<path d='M 705.811,160.052 L 727.481,120.711' style='fill:none;fill-rule:evenodd;stroke:#FFFFAA;stroke-width:9px;stroke-linecap:butt;stroke-linejoin:miter;stroke-opacity:1' />\n",
       "<path d='M 666.471,138.382 L 628.034,161.618' style='fill:none;fill-rule:evenodd;stroke:#FFCC99;stroke-width:9px;stroke-linecap:butt;stroke-linejoin:miter;stroke-opacity:1' />\n",
       "<path d='M 666.471,138.382 L 665.567,93.4778' style='fill:none;fill-rule:evenodd;stroke:#FFCC99;stroke-width:9px;stroke-linecap:butt;stroke-linejoin:miter;stroke-opacity:1' />\n",
       "<path d='M 628.034,161.618 L 588.694,139.948' style='fill:none;fill-rule:evenodd;stroke:#FFCC99;stroke-width:9px;stroke-linecap:butt;stroke-linejoin:miter;stroke-opacity:1' />\n",
       "<path d='M 628.034,161.618 L 628.938,206.522' style='fill:none;fill-rule:evenodd;stroke:#FFCC99;stroke-width:9px;stroke-linecap:butt;stroke-linejoin:miter;stroke-opacity:1' />\n",
       "<ellipse cx='93.5967' cy='170.73' rx='8.98274' ry='8.98274' style='fill:#FFFFAA;fill-rule:evenodd;stroke:#FFFFAA;stroke-width:2px;stroke-linecap:butt;stroke-linejoin:miter;stroke-opacity:1' />\n",
       "<ellipse cx='132.493' cy='148.273' rx='9.17561' ry='10.5863' style='fill:#FFFFAA;fill-rule:evenodd;stroke:#FFFFAA;stroke-width:2px;stroke-linecap:butt;stroke-linejoin:miter;stroke-opacity:1' />\n",
       "<ellipse cx='54.7002' cy='148.273' rx='9.17561' ry='10.5863' style='fill:#FFFFAA;fill-rule:evenodd;stroke:#FFFFAA;stroke-width:2px;stroke-linecap:butt;stroke-linejoin:miter;stroke-opacity:1' />\n",
       "<ellipse cx='270.766' cy='155.758' rx='8.98274' ry='8.98274' style='fill:#FFCC99;fill-rule:evenodd;stroke:#FFCC99;stroke-width:2px;stroke-linecap:butt;stroke-linejoin:miter;stroke-opacity:1' />\n",
       "<ellipse cx='315.68' cy='155.758' rx='8.98274' ry='8.98274' style='fill:#FFCC99;fill-rule:evenodd;stroke:#FFCC99;stroke-width:2px;stroke-linecap:butt;stroke-linejoin:miter;stroke-opacity:1' />\n",
       "<ellipse cx='338.136' cy='194.655' rx='9.17561' ry='10.5863' style='fill:#FFCC99;fill-rule:evenodd;stroke:#FFCC99;stroke-width:2px;stroke-linecap:butt;stroke-linejoin:miter;stroke-opacity:1' />\n",
       "<ellipse cx='338.136' cy='116.862' rx='9.17561' ry='10.5863' style='fill:#FFCC99;fill-rule:evenodd;stroke:#FFCC99;stroke-width:2px;stroke-linecap:butt;stroke-linejoin:miter;stroke-opacity:1' />\n",
       "<ellipse cx='248.309' cy='116.862' rx='9.17561' ry='10.5863' style='fill:#FFCC99;fill-rule:evenodd;stroke:#FFCC99;stroke-width:2px;stroke-linecap:butt;stroke-linejoin:miter;stroke-opacity:1' />\n",
       "<ellipse cx='248.309' cy='194.655' rx='9.17561' ry='10.5863' style='fill:#FFCC99;fill-rule:evenodd;stroke:#FFCC99;stroke-width:2px;stroke-linecap:butt;stroke-linejoin:miter;stroke-opacity:1' />\n",
       "<ellipse cx='705.811' cy='160.052' rx='8.98274' ry='8.98274' style='fill:#FFFFAA;fill-rule:evenodd;stroke:#FFFFAA;stroke-width:2px;stroke-linecap:butt;stroke-linejoin:miter;stroke-opacity:1' />\n",
       "<ellipse cx='745.152' cy='181.721' rx='9.17561' ry='10.5863' style='fill:#FFFFAA;fill-rule:evenodd;stroke:#FFFFAA;stroke-width:2px;stroke-linecap:butt;stroke-linejoin:miter;stroke-opacity:1' />\n",
       "<ellipse cx='727.481' cy='120.711' rx='9.17561' ry='10.5863' style='fill:#FFFFAA;fill-rule:evenodd;stroke:#FFFFAA;stroke-width:2px;stroke-linecap:butt;stroke-linejoin:miter;stroke-opacity:1' />\n",
       "<ellipse cx='666.471' cy='138.382' rx='8.98274' ry='8.98274' style='fill:#FFCC99;fill-rule:evenodd;stroke:#FFCC99;stroke-width:2px;stroke-linecap:butt;stroke-linejoin:miter;stroke-opacity:1' />\n",
       "<ellipse cx='628.034' cy='161.618' rx='8.98274' ry='8.98274' style='fill:#FFCC99;fill-rule:evenodd;stroke:#FFCC99;stroke-width:2px;stroke-linecap:butt;stroke-linejoin:miter;stroke-opacity:1' />\n",
       "<ellipse cx='588.694' cy='139.948' rx='9.17561' ry='10.5863' style='fill:#FFCC99;fill-rule:evenodd;stroke:#FFCC99;stroke-width:2px;stroke-linecap:butt;stroke-linejoin:miter;stroke-opacity:1' />\n",
       "<ellipse cx='628.938' cy='206.522' rx='9.17561' ry='10.5863' style='fill:#FFCC99;fill-rule:evenodd;stroke:#FFCC99;stroke-width:2px;stroke-linecap:butt;stroke-linejoin:miter;stroke-opacity:1' />\n",
       "<ellipse cx='665.567' cy='93.4778' rx='9.17561' ry='10.5863' style='fill:#FFCC99;fill-rule:evenodd;stroke:#FFCC99;stroke-width:2px;stroke-linecap:butt;stroke-linejoin:miter;stroke-opacity:1' />\n",
       "<ellipse cx='684.142' cy='199.392' rx='9.17561' ry='10.5863' style='fill:#FFCC99;fill-rule:evenodd;stroke:#FFCC99;stroke-width:2px;stroke-linecap:butt;stroke-linejoin:miter;stroke-opacity:1' />\n",
       "<path class='bond-0' d='M 93.5967,170.73 L 126.005,152.019' style='fill:none;fill-rule:evenodd;stroke:#000000;stroke-width:2px;stroke-linecap:butt;stroke-linejoin:miter;stroke-opacity:1' />\n",
       "<path class='bond-1' d='M 93.5967,170.73 L 61.1884,152.019' style='fill:none;fill-rule:evenodd;stroke:#000000;stroke-width:2px;stroke-linecap:butt;stroke-linejoin:miter;stroke-opacity:1' />\n",
       "<path class='bond-2' d='M 270.766,155.758 L 315.68,155.758' style='fill:none;fill-rule:evenodd;stroke:#000000;stroke-width:2px;stroke-linecap:butt;stroke-linejoin:miter;stroke-opacity:1' />\n",
       "<path class='bond-2' d='M 277.503,146.776 L 308.943,146.776' style='fill:none;fill-rule:evenodd;stroke:#000000;stroke-width:2px;stroke-linecap:butt;stroke-linejoin:miter;stroke-opacity:1' />\n",
       "<path class='bond-5' d='M 270.766,155.758 L 252.631,124.348' style='fill:none;fill-rule:evenodd;stroke:#000000;stroke-width:2px;stroke-linecap:butt;stroke-linejoin:miter;stroke-opacity:1' />\n",
       "<path class='bond-6' d='M 270.766,155.758 L 252.631,187.169' style='fill:none;fill-rule:evenodd;stroke:#000000;stroke-width:2px;stroke-linecap:butt;stroke-linejoin:miter;stroke-opacity:1' />\n",
       "<path class='bond-3' d='M 315.68,155.758 L 333.815,187.169' style='fill:none;fill-rule:evenodd;stroke:#000000;stroke-width:2px;stroke-linecap:butt;stroke-linejoin:miter;stroke-opacity:1' />\n",
       "<path class='bond-4' d='M 315.68,155.758 L 333.815,124.348' style='fill:none;fill-rule:evenodd;stroke:#000000;stroke-width:2px;stroke-linecap:butt;stroke-linejoin:miter;stroke-opacity:1' />\n",
       "<path class='bond-7' d='M 705.811,160.052 L 738.664,178.147' style='fill:none;fill-rule:evenodd;stroke:#000000;stroke-width:2px;stroke-linecap:butt;stroke-linejoin:miter;stroke-opacity:1' />\n",
       "<path class='bond-8' d='M 705.811,160.052 L 723.357,128.197' style='fill:none;fill-rule:evenodd;stroke:#000000;stroke-width:2px;stroke-linecap:butt;stroke-linejoin:miter;stroke-opacity:1' />\n",
       "<path class='bond-9' d='M 705.811,160.052 L 666.471,138.382' style='fill:none;fill-rule:evenodd;stroke:#000000;stroke-width:2px;stroke-linecap:butt;stroke-linejoin:miter;stroke-opacity:1' />\n",
       "<path class='bond-14' d='M 705.811,160.052 L 688.265,191.907' style='fill:none;fill-rule:evenodd;stroke:#000000;stroke-width:2px;stroke-linecap:butt;stroke-linejoin:miter;stroke-opacity:1' />\n",
       "<path class='bond-10' d='M 666.471,138.382 L 628.034,161.618' style='fill:none;fill-rule:evenodd;stroke:#000000;stroke-width:2px;stroke-linecap:butt;stroke-linejoin:miter;stroke-opacity:1' />\n",
       "<path class='bond-10' d='M 665.352,149.555 L 638.447,165.82' style='fill:none;fill-rule:evenodd;stroke:#000000;stroke-width:2px;stroke-linecap:butt;stroke-linejoin:miter;stroke-opacity:1' />\n",
       "<path class='bond-13' d='M 666.471,138.382 L 665.717,100.963' style='fill:none;fill-rule:evenodd;stroke:#000000;stroke-width:2px;stroke-linecap:butt;stroke-linejoin:miter;stroke-opacity:1' />\n",
       "<path class='bond-11' d='M 628.034,161.618 L 595.182,143.522' style='fill:none;fill-rule:evenodd;stroke:#000000;stroke-width:2px;stroke-linecap:butt;stroke-linejoin:miter;stroke-opacity:1' />\n",
       "<path class='bond-12' d='M 628.034,161.618 L 628.787,199.037' style='fill:none;fill-rule:evenodd;stroke:#000000;stroke-width:2px;stroke-linecap:butt;stroke-linejoin:miter;stroke-opacity:1' />\n",
       "<text dominant-baseline=\"central\" text-anchor=\"start\" x='127.502' y='150.518' style='font-size:14px;font-style:normal;font-weight:normal;fill-opacity:1;stroke:none;font-family:sans-serif;fill:#000000' ><tspan>H</tspan></text>\n",
       "<text dominant-baseline=\"central\" text-anchor=\"end\" x='59.6913' y='150.518' style='font-size:14px;font-style:normal;font-weight:normal;fill-opacity:1;stroke:none;font-family:sans-serif;fill:#000000' ><tspan>H</tspan></text>\n",
       "<text dominant-baseline=\"central\" text-anchor=\"start\" x='333.145' y='196.9' style='font-size:14px;font-style:normal;font-weight:normal;fill-opacity:1;stroke:none;font-family:sans-serif;fill:#000000' ><tspan>H</tspan></text>\n",
       "<text dominant-baseline=\"central\" text-anchor=\"start\" x='333.145' y='119.108' style='font-size:14px;font-style:normal;font-weight:normal;fill-opacity:1;stroke:none;font-family:sans-serif;fill:#000000' ><tspan>H</tspan></text>\n",
       "<text dominant-baseline=\"central\" text-anchor=\"end\" x='253.3' y='119.108' style='font-size:14px;font-style:normal;font-weight:normal;fill-opacity:1;stroke:none;font-family:sans-serif;fill:#000000' ><tspan>H</tspan></text>\n",
       "<text dominant-baseline=\"central\" text-anchor=\"end\" x='253.3' y='196.9' style='font-size:14px;font-style:normal;font-weight:normal;fill-opacity:1;stroke:none;font-family:sans-serif;fill:#000000' ><tspan>H</tspan></text>\n",
       "<text dominant-baseline=\"central\" text-anchor=\"start\" x='740.161' y='183.967' style='font-size:14px;font-style:normal;font-weight:normal;fill-opacity:1;stroke:none;font-family:sans-serif;fill:#000000' ><tspan>H</tspan></text>\n",
       "<text dominant-baseline=\"central\" text-anchor=\"start\" x='722.49' y='122.957' style='font-size:14px;font-style:normal;font-weight:normal;fill-opacity:1;stroke:none;font-family:sans-serif;fill:#000000' ><tspan>H</tspan></text>\n",
       "<text dominant-baseline=\"central\" text-anchor=\"end\" x='593.685' y='142.194' style='font-size:14px;font-style:normal;font-weight:normal;fill-opacity:1;stroke:none;font-family:sans-serif;fill:#000000' ><tspan>H</tspan></text>\n",
       "<text dominant-baseline=\"central\" text-anchor=\"start\" x='623.947' y='208.768' style='font-size:14px;font-style:normal;font-weight:normal;fill-opacity:1;stroke:none;font-family:sans-serif;fill:#000000' ><tspan>H</tspan></text>\n",
       "<text dominant-baseline=\"central\" text-anchor=\"start\" x='660.576' y='95.7235' style='font-size:14px;font-style:normal;font-weight:normal;fill-opacity:1;stroke:none;font-family:sans-serif;fill:#000000' ><tspan>H</tspan></text>\n",
       "<text dominant-baseline=\"central\" text-anchor=\"end\" x='689.133' y='201.638' style='font-size:14px;font-style:normal;font-weight:normal;fill-opacity:1;stroke:none;font-family:sans-serif;fill:#000000' ><tspan>H</tspan></text>\n",
       "<text dominant-baseline=\"central\" text-anchor=\"middle\" x='93.5967' y='187.946' style='font-size:14px;font-style:normal;font-weight:normal;fill-opacity:1;stroke:none;font-family:sans-serif;fill:#000000' ><tspan>1</tspan></text>\n",
       "<text dominant-baseline=\"central\" text-anchor=\"middle\" x='145.459' y='143.033' style='font-size:14px;font-style:normal;font-weight:normal;fill-opacity:1;stroke:none;font-family:sans-serif;fill:#000000' ><tspan>2</tspan></text>\n",
       "<text dominant-baseline=\"central\" text-anchor=\"middle\" x='41.7348' y='143.033' style='font-size:14px;font-style:normal;font-weight:normal;fill-opacity:1;stroke:none;font-family:sans-serif;fill:#000000' ><tspan>3</tspan></text>\n",
       "<text dominant-baseline=\"central\" text-anchor=\"middle\" x='255.795' y='158.004' style='font-size:14px;font-style:normal;font-weight:normal;fill-opacity:1;stroke:none;font-family:sans-serif;fill:#000000' ><tspan>4</tspan></text>\n",
       "<text dominant-baseline=\"central\" text-anchor=\"middle\" x='308.194' y='170.969' style='font-size:14px;font-style:normal;font-weight:normal;fill-opacity:1;stroke:none;font-family:sans-serif;fill:#000000' ><tspan>5</tspan></text>\n",
       "<text dominant-baseline=\"central\" text-anchor=\"middle\" x='351.102' y='204.386' style='font-size:14px;font-style:normal;font-weight:normal;fill-opacity:1;stroke:none;font-family:sans-serif;fill:#000000' ><tspan>8</tspan></text>\n",
       "<text dominant-baseline=\"central\" text-anchor=\"middle\" x='325.171' y='111.622' style='font-size:14px;font-style:normal;font-weight:normal;fill-opacity:1;stroke:none;font-family:sans-serif;fill:#000000' ><tspan>9</tspan></text>\n",
       "<text dominant-baseline=\"central\" text-anchor=\"middle\" x='235.344' y='111.622' style='font-size:14px;font-style:normal;font-weight:normal;fill-opacity:1;stroke:none;font-family:sans-serif;fill:#000000' ><tspan>6</tspan></text>\n",
       "<text dominant-baseline=\"central\" text-anchor=\"middle\" x='261.274' y='204.386' style='font-size:14px;font-style:normal;font-weight:normal;fill-opacity:1;stroke:none;font-family:sans-serif;fill:#000000' ><tspan>7</tspan></text>\n",
       "<text dominant-baseline=\"central\" text-anchor=\"middle\" x='720.191' y='158.132' style='font-size:14px;font-style:normal;font-weight:normal;fill-opacity:1;stroke:none;font-family:sans-serif;fill:#000000' ><tspan>1</tspan></text>\n",
       "<text dominant-baseline=\"central\" text-anchor=\"middle\" x='758.265' y='191.19' style='font-size:14px;font-style:normal;font-weight:normal;fill-opacity:1;stroke:none;font-family:sans-serif;fill:#000000' ><tspan>2</tspan></text>\n",
       "<text dominant-baseline=\"central\" text-anchor=\"middle\" x='714.367' y='115.734' style='font-size:14px;font-style:normal;font-weight:normal;fill-opacity:1;stroke:none;font-family:sans-serif;fill:#000000' ><tspan>3</tspan></text>\n",
       "<text dominant-baseline=\"central\" text-anchor=\"middle\" x='679.283' y='132.883' style='font-size:14px;font-style:normal;font-weight:normal;fill-opacity:1;stroke:none;font-family:sans-serif;fill:#000000' ><tspan>4</tspan></text>\n",
       "<text dominant-baseline=\"central\" text-anchor=\"middle\" x='627.733' y='148.895' style='font-size:14px;font-style:normal;font-weight:normal;fill-opacity:1;stroke:none;font-family:sans-serif;fill:#000000' ><tspan>5</tspan></text>\n",
       "<text dominant-baseline=\"central\" text-anchor=\"middle\" x='575.58' y='134.971' style='font-size:14px;font-style:normal;font-weight:normal;fill-opacity:1;stroke:none;font-family:sans-serif;fill:#000000' ><tspan>8</tspan></text>\n",
       "<text dominant-baseline=\"central\" text-anchor=\"middle\" x='642.052' y='215.991' style='font-size:14px;font-style:normal;font-weight:normal;fill-opacity:1;stroke:none;font-family:sans-serif;fill:#000000' ><tspan>9</tspan></text>\n",
       "<text dominant-baseline=\"central\" text-anchor=\"middle\" x='652.453' y='88.5003' style='font-size:14px;font-style:normal;font-weight:normal;fill-opacity:1;stroke:none;font-family:sans-serif;fill:#000000' ><tspan>7</tspan></text>\n",
       "<text dominant-baseline=\"central\" text-anchor=\"middle\" x='697.255' y='208.861' style='font-size:14px;font-style:normal;font-weight:normal;fill-opacity:1;stroke:none;font-family:sans-serif;fill:#000000' ><tspan>6</tspan></text>\n",
       "<path d='M 91.4009,163.992 L 91.3976,163.915 L 91.3876,163.839 L 91.3711,163.763 L 91.3482,163.689 L 91.319,163.618 L 91.2837,163.549 L 91.2427,163.483 L 91.1962,163.422 L 91.1446,163.364 L 91.0882,163.311 L 91.0275,163.264 L 90.9629,163.221 L 90.8948,163.184 L 90.8239,163.154 L 90.7506,163.129 L 90.6755,163.111 L 90.5991,163.099 L 90.5219,163.094 L 90.4447,163.096 L 90.3678,163.104 L 90.292,163.119 L 90.2177,163.141 L 90.1455,163.168 L 90.076,163.202 L 90.0096,163.242 L 89.9469,163.287 L 89.8883,163.337 L 89.8342,163.392 L 89.7851,163.452 L 89.7413,163.516 L 89.7031,163.583 L 89.6709,163.653 L 89.6448,163.726 L 89.6251,163.801 L 89.6118,163.877 L 89.6052,163.954 L 89.6052,164.031 L 89.6118,164.108 L 89.6251,164.184 L 89.6448,164.259 L 89.6709,164.332 L 89.7031,164.402 L 89.7413,164.469 L 89.7851,164.533 L 89.8342,164.593 L 89.8883,164.648 L 89.9469,164.698 L 90.0096,164.743 L 90.076,164.783 L 90.1455,164.817 L 90.2177,164.844 L 90.292,164.866 L 90.3678,164.881 L 90.4447,164.889 L 90.5219,164.891 L 90.5991,164.886 L 90.6755,164.874 L 90.7506,164.856 L 90.8239,164.831 L 90.8948,164.801 L 90.9629,164.764 L 91.0275,164.721 L 91.0882,164.674 L 91.1446,164.621 L 91.1962,164.563 L 91.2427,164.502 L 91.2837,164.436 L 91.319,164.367 L 91.3482,164.296 L 91.3711,164.222 L 91.3876,164.146 L 91.3976,164.07 L 91.4009,163.992 L 90.5026,163.992 Z' style='fill:#000000;fill-rule:evenodd;fill-opacity=1;stroke:#000000;stroke-width:2px;stroke-linecap:butt;stroke-linejoin:miter;stroke-opacity:1;' />\n",
       "<path d='M 97.589,163.992 L 97.5857,163.915 L 97.5757,163.839 L 97.5592,163.763 L 97.5363,163.689 L 97.5071,163.618 L 97.4719,163.549 L 97.4308,163.483 L 97.3843,163.422 L 97.3327,163.364 L 97.2763,163.311 L 97.2156,163.264 L 97.151,163.221 L 97.083,163.184 L 97.012,163.154 L 96.9387,163.129 L 96.8636,163.111 L 96.7872,163.099 L 96.71,163.094 L 96.6328,163.096 L 96.5559,163.104 L 96.4801,163.119 L 96.4058,163.141 L 96.3336,163.168 L 96.2641,163.202 L 96.1977,163.242 L 96.135,163.287 L 96.0764,163.337 L 96.0223,163.392 L 95.9732,163.452 L 95.9294,163.516 L 95.8912,163.583 L 95.859,163.653 L 95.8329,163.726 L 95.8132,163.801 L 95.7999,163.877 L 95.7933,163.954 L 95.7933,164.031 L 95.7999,164.108 L 95.8132,164.184 L 95.8329,164.259 L 95.859,164.332 L 95.8912,164.402 L 95.9294,164.469 L 95.9732,164.533 L 96.0223,164.593 L 96.0764,164.648 L 96.135,164.698 L 96.1977,164.743 L 96.2641,164.783 L 96.3336,164.817 L 96.4058,164.844 L 96.4801,164.866 L 96.5559,164.881 L 96.6328,164.889 L 96.71,164.891 L 96.7872,164.886 L 96.8636,164.874 L 96.9387,164.856 L 97.012,164.831 L 97.083,164.801 L 97.151,164.764 L 97.2156,164.721 L 97.2763,164.674 L 97.3327,164.621 L 97.3843,164.563 L 97.4308,164.502 L 97.4719,164.436 L 97.5071,164.367 L 97.5363,164.296 L 97.5592,164.222 L 97.5757,164.146 L 97.5857,164.07 L 97.589,163.992 L 96.6907,163.992 Z' style='fill:#000000;fill-rule:evenodd;fill-opacity=1;stroke:#000000;stroke-width:2px;stroke-linecap:butt;stroke-linejoin:miter;stroke-opacity:1;' />\n",
       "<text dominant-baseline=\"central\" text-anchor=\"middle\" x='190.401' y='153.6' style='font-size:24px;font-style:normal;font-weight:normal;fill-opacity:1;stroke:none;font-family:sans-serif;fill:#000000' ><tspan>+</tspan></text>\n",
       "<path d='M 396.044,150 L 515.814,150' style='fill:none;fill-rule:evenodd;stroke:#000000;stroke-width:2px;stroke-linecap:butt;stroke-linejoin:miter;stroke-opacity:1' />\n",
       "<path d='M 515.814,150 L 510.628,147.006' style='fill:none;fill-rule:evenodd;stroke:#000000;stroke-width:2px;stroke-linecap:butt;stroke-linejoin:miter;stroke-opacity:1' />\n",
       "<path d='M 515.814,150 L 510.628,152.994' style='fill:none;fill-rule:evenodd;stroke:#000000;stroke-width:2px;stroke-linecap:butt;stroke-linejoin:miter;stroke-opacity:1' />\n",
       "</svg>\n"
      ],
      "text/plain": [
       "<rdmc.reaction.Reaction at 0x7fdc05c1bd10>"
      ]
     },
     "metadata": {},
     "output_type": "display_data"
    },
    {
     "name": "stdout",
     "output_type": "stream",
     "text": [
      "[C:1]([H:2])[H:3].[C:4](=[C:5]([H:8])[H:9])([H:6])[H:7]>>[C:1]([H:2])([H:3])([C:4](=[C:5]([H:8])[H:9])[H:7])[H:6]\n"
     ]
    }
   ],
   "source": [
    "rxn = Reaction(r_complex, p_complex)\n",
    "display(rxn)\n",
    "print(rxn.to_smiles())"
   ]
  },
  {
   "cell_type": "markdown",
   "id": "72011132",
   "metadata": {},
   "source": [
    "# [Method 2] Atommapping using RXNMapper (Beta)"
   ]
  },
  {
   "cell_type": "markdown",
   "id": "00c88598",
   "metadata": {},
   "source": [
    "### Map heavy atoms using RXNMapper"
   ]
  },
  {
   "cell_type": "markdown",
   "id": "0cf8b498",
   "metadata": {},
   "source": [
    "Based on version 90a7012c9c0127f4a347baf815e270d8807b5a39\n",
    "\n",
    "[Developer TODO]\n",
    "\n",
    "- A deeper investigation in rxn_mapper is need in the future to check possibilities of built-in H mapping \n",
    "- modularize the following cells"
   ]
  },
  {
   "cell_type": "code",
   "execution_count": 10,
   "id": "dce65ebe",
   "metadata": {},
   "outputs": [
    {
     "name": "stderr",
     "output_type": "stream",
     "text": [
      "Some weights of the model checkpoint at /Users/xiaorui/Apps/mambaforge/envs/rmg_3.2/lib/python3.7/site-packages/rxnmapper/models/transformers/albert_heads_8_uspto_all_1310k were not used when initializing AlbertModel: ['predictions.dense.bias', 'predictions.bias', 'predictions.decoder.bias', 'predictions.LayerNorm.weight', 'predictions.LayerNorm.bias', 'predictions.decoder.weight', 'predictions.dense.weight']\n",
      "- This IS expected if you are initializing AlbertModel from the checkpoint of a model trained on another task or with another architecture (e.g. initializing a BertForSequenceClassification model from a BertForPreTraining model).\n",
      "- This IS NOT expected if you are initializing AlbertModel from the checkpoint of a model that you expect to be exactly identical (initializing a BertForSequenceClassification model from a BertForSequenceClassification model).\n"
     ]
    }
   ],
   "source": [
    "rxn_mapper = RXNMapper()\n",
    "r_complex_smi = \".\".join([rsmi[0] if isinstance(rsmi, tuple) else rsmi for rsmi in reactants])\n",
    "p_complex_smi = \".\".join([psmi[0] if isinstance(psmi, tuple) else psmi for psmi in products])\n",
    "rxns = [r_complex_smi + '>>' + p_complex_smi,]\n",
    "atommapped_rxn_smi = rxn_mapper.get_attention_guided_atom_maps(rxns)[0]['mapped_rxn']"
   ]
  },
  {
   "cell_type": "code",
   "execution_count": 11,
   "id": "9d627a25",
   "metadata": {},
   "outputs": [
    {
     "data": {
      "image/svg+xml": [
       "<?xml version='1.0' encoding='iso-8859-1'?>\n",
       "<svg version='1.1' baseProfile='full'\n",
       "              xmlns='http://www.w3.org/2000/svg'\n",
       "                      xmlns:rdkit='http://www.rdkit.org/xml'\n",
       "                      xmlns:xlink='http://www.w3.org/1999/xlink'\n",
       "                  xml:space='preserve'\n",
       "width='800px' height='300px' viewBox='0 0 800 300'>\n",
       "<!-- END OF HEADER -->\n",
       "<rect style='opacity:1.0;fill:#FFFFFF;stroke:none' width='800' height='300' x='0' y='0'> </rect>\n",
       "<path d='M 43.6967,99.5297 L 69.0783,143.492' style='fill:none;fill-rule:evenodd;stroke:#FFFFAA;stroke-width:10px;stroke-linecap:butt;stroke-linejoin:miter;stroke-opacity:1' />\n",
       "<path d='M 69.0783,143.492 L 119.841,143.492' style='fill:none;fill-rule:evenodd;stroke:#FFFFAA;stroke-width:10px;stroke-linecap:butt;stroke-linejoin:miter;stroke-opacity:1' />\n",
       "<path d='M 330.163,135.031 L 286.201,160.413' style='fill:none;fill-rule:evenodd;stroke:#FFCC99;stroke-width:10px;stroke-linecap:butt;stroke-linejoin:miter;stroke-opacity:1' />\n",
       "<path d='M 711.839,136.869 L 668.397,163.131' style='fill:none;fill-rule:evenodd;stroke:#FFFFAA;stroke-width:10px;stroke-linecap:butt;stroke-linejoin:miter;stroke-opacity:1' />\n",
       "<ellipse cx='69.0783' cy='143.492' rx='10.1526' ry='10.1526' style='fill:#FFFFAA;fill-rule:evenodd;stroke:#FFFFAA;stroke-width:2px;stroke-linecap:butt;stroke-linejoin:miter;stroke-opacity:1' />\n",
       "<ellipse cx='119.841' cy='143.492' rx='10.1526' ry='10.1526' style='fill:#FFFFAA;fill-rule:evenodd;stroke:#FFFFAA;stroke-width:2px;stroke-linecap:butt;stroke-linejoin:miter;stroke-opacity:1' />\n",
       "<ellipse cx='286.201' cy='160.413' rx='10.1526' ry='10.1526' style='fill:#FFCC99;fill-rule:evenodd;stroke:#FFCC99;stroke-width:2px;stroke-linecap:butt;stroke-linejoin:miter;stroke-opacity:1' />\n",
       "<ellipse cx='711.839' cy='136.869' rx='10.1526' ry='10.1526' style='fill:#FFFFAA;fill-rule:evenodd;stroke:#FFFFAA;stroke-width:2px;stroke-linecap:butt;stroke-linejoin:miter;stroke-opacity:1' />\n",
       "<ellipse cx='668.397' cy='163.131' rx='10.1526' ry='10.1526' style='fill:#FFFFAA;fill-rule:evenodd;stroke:#FFFFAA;stroke-width:2px;stroke-linecap:butt;stroke-linejoin:miter;stroke-opacity:1' />\n",
       "<ellipse cx='623.933' cy='138.639' rx='10.1526' ry='10.1526' style='fill:#FFCC99;fill-rule:evenodd;stroke:#FFCC99;stroke-width:2px;stroke-linecap:butt;stroke-linejoin:miter;stroke-opacity:1' />\n",
       "<path class='bond-0' d='M 48.5814,107.99 L 69.0783,143.492' style='fill:none;fill-rule:evenodd;stroke:#000000;stroke-width:2px;stroke-linecap:butt;stroke-linejoin:miter;stroke-opacity:1' />\n",
       "<path class='bond-1' d='M 69.0783,143.492 L 48.5814,178.993' style='fill:none;fill-rule:evenodd;stroke:#000000;stroke-width:2px;stroke-linecap:butt;stroke-linejoin:miter;stroke-opacity:1' />\n",
       "<path class='bond-2' d='M 69.0783,143.492 L 119.841,143.492' style='fill:none;fill-rule:evenodd;stroke:#000000;stroke-width:2px;stroke-linecap:butt;stroke-linejoin:miter;stroke-opacity:1' />\n",
       "<path class='bond-2' d='M 76.6927,133.339 L 112.227,133.339' style='fill:none;fill-rule:evenodd;stroke:#000000;stroke-width:2px;stroke-linecap:butt;stroke-linejoin:miter;stroke-opacity:1' />\n",
       "<path class='bond-3' d='M 119.841,143.492 L 140.338,178.993' style='fill:none;fill-rule:evenodd;stroke:#000000;stroke-width:2px;stroke-linecap:butt;stroke-linejoin:miter;stroke-opacity:1' />\n",
       "<path class='bond-4' d='M 119.841,143.492 L 140.338,107.99' style='fill:none;fill-rule:evenodd;stroke:#000000;stroke-width:2px;stroke-linecap:butt;stroke-linejoin:miter;stroke-opacity:1' />\n",
       "<path class='bond-5' d='M 322.83,139.265 L 286.201,160.413' style='fill:none;fill-rule:evenodd;stroke:#000000;stroke-width:2px;stroke-linecap:butt;stroke-linejoin:miter;stroke-opacity:1' />\n",
       "<path class='bond-6' d='M 286.201,160.413 L 249.572,139.265' style='fill:none;fill-rule:evenodd;stroke:#000000;stroke-width:2px;stroke-linecap:butt;stroke-linejoin:miter;stroke-opacity:1' />\n",
       "<path class='bond-7' d='M 748.97,157.322 L 711.839,136.869' style='fill:none;fill-rule:evenodd;stroke:#000000;stroke-width:2px;stroke-linecap:butt;stroke-linejoin:miter;stroke-opacity:1' />\n",
       "<path class='bond-8' d='M 711.839,136.869 L 710.988,94.5772' style='fill:none;fill-rule:evenodd;stroke:#000000;stroke-width:2px;stroke-linecap:butt;stroke-linejoin:miter;stroke-opacity:1' />\n",
       "<path class='bond-9' d='M 711.839,136.869 L 668.397,163.131' style='fill:none;fill-rule:evenodd;stroke:#000000;stroke-width:2px;stroke-linecap:butt;stroke-linejoin:miter;stroke-opacity:1' />\n",
       "<path class='bond-9' d='M 710.575,149.497 L 680.166,167.88' style='fill:none;fill-rule:evenodd;stroke:#000000;stroke-width:2px;stroke-linecap:butt;stroke-linejoin:miter;stroke-opacity:1' />\n",
       "<path class='bond-10' d='M 668.397,163.131 L 669.248,205.423' style='fill:none;fill-rule:evenodd;stroke:#000000;stroke-width:2px;stroke-linecap:butt;stroke-linejoin:miter;stroke-opacity:1' />\n",
       "<path class='bond-11' d='M 668.397,163.131 L 623.933,138.639' style='fill:none;fill-rule:evenodd;stroke:#000000;stroke-width:2px;stroke-linecap:butt;stroke-linejoin:miter;stroke-opacity:1' />\n",
       "<path class='bond-12' d='M 623.933,138.639 L 586.802,118.187' style='fill:none;fill-rule:evenodd;stroke:#000000;stroke-width:2px;stroke-linecap:butt;stroke-linejoin:miter;stroke-opacity:1' />\n",
       "<path class='bond-13' d='M 623.933,138.639 L 604.102,174.643' style='fill:none;fill-rule:evenodd;stroke:#000000;stroke-width:2px;stroke-linecap:butt;stroke-linejoin:miter;stroke-opacity:1' />\n",
       "<path class='bond-14' d='M 623.933,138.639 L 643.764,102.636' style='fill:none;fill-rule:evenodd;stroke:#000000;stroke-width:2px;stroke-linecap:butt;stroke-linejoin:miter;stroke-opacity:1' />\n",
       "<text dominant-baseline=\"central\" text-anchor=\"end\" x='49.3378' y='102.068' style='font-size:16px;font-style:normal;font-weight:normal;fill-opacity:1;stroke:none;font-family:sans-serif;fill:#000000' ><tspan>H</tspan></text>\n",
       "<text dominant-baseline=\"central\" text-anchor=\"end\" x='49.3378' y='189.992' style='font-size:16px;font-style:normal;font-weight:normal;fill-opacity:1;stroke:none;font-family:sans-serif;fill:#000000' ><tspan>H</tspan></text>\n",
       "<text dominant-baseline=\"central\" text-anchor=\"start\" x='139.582' y='189.992' style='font-size:16px;font-style:normal;font-weight:normal;fill-opacity:1;stroke:none;font-family:sans-serif;fill:#000000' ><tspan>H</tspan></text>\n",
       "<text dominant-baseline=\"central\" text-anchor=\"start\" x='139.582' y='102.068' style='font-size:16px;font-style:normal;font-weight:normal;fill-opacity:1;stroke:none;font-family:sans-serif;fill:#000000' ><tspan>H</tspan></text>\n",
       "<text dominant-baseline=\"central\" text-anchor=\"start\" x='324.522' y='137.569' style='font-size:16px;font-style:normal;font-weight:normal;fill-opacity:1;stroke:none;font-family:sans-serif;fill:#000000' ><tspan>H</tspan></text>\n",
       "<text dominant-baseline=\"central\" text-anchor=\"end\" x='247.88' y='137.569' style='font-size:16px;font-style:normal;font-weight:normal;fill-opacity:1;stroke:none;font-family:sans-serif;fill:#000000' ><tspan>H</tspan></text>\n",
       "<text dominant-baseline=\"central\" text-anchor=\"start\" x='750.662' y='163.899' style='font-size:16px;font-style:normal;font-weight:normal;fill-opacity:1;stroke:none;font-family:sans-serif;fill:#000000' ><tspan>H</tspan></text>\n",
       "<text dominant-baseline=\"central\" text-anchor=\"start\" x='705.176' y='88.6548' style='font-size:16px;font-style:normal;font-weight:normal;fill-opacity:1;stroke:none;font-family:sans-serif;fill:#000000' ><tspan>H</tspan></text>\n",
       "<text dominant-baseline=\"central\" text-anchor=\"start\" x='663.778' y='216.421' style='font-size:16px;font-style:normal;font-weight:normal;fill-opacity:1;stroke:none;font-family:sans-serif;fill:#000000' ><tspan>H</tspan></text>\n",
       "<text dominant-baseline=\"central\" text-anchor=\"end\" x='585.11' y='116.686' style='font-size:16px;font-style:normal;font-weight:normal;fill-opacity:1;stroke:none;font-family:sans-serif;fill:#000000' ><tspan>H</tspan></text>\n",
       "<text dominant-baseline=\"central\" text-anchor=\"end\" x='605.082' y='185.641' style='font-size:16px;font-style:normal;font-weight:normal;fill-opacity:1;stroke:none;font-family:sans-serif;fill:#000000' ><tspan>H</tspan></text>\n",
       "<text dominant-baseline=\"central\" text-anchor=\"start\" x='642.783' y='96.7132' style='font-size:16px;font-style:normal;font-weight:normal;fill-opacity:1;stroke:none;font-family:sans-serif;fill:#000000' ><tspan>H</tspan></text>\n",
       "<text dominant-baseline=\"central\" text-anchor=\"middle\" x='52.1573' y='146.03' style='font-size:16px;font-style:normal;font-weight:normal;fill-opacity:1;stroke:none;font-family:sans-serif;fill:#000000' ><tspan>1</tspan></text>\n",
       "<text dominant-baseline=\"central\" text-anchor=\"middle\" x='111.381' y='160.684' style='font-size:16px;font-style:normal;font-weight:normal;fill-opacity:1;stroke:none;font-family:sans-serif;fill:#000000' ><tspan>2</tspan></text>\n",
       "<text dominant-baseline=\"central\" text-anchor=\"middle\" x='286.201' y='179.872' style='font-size:16px;font-style:normal;font-weight:normal;fill-opacity:1;stroke:none;font-family:sans-serif;fill:#000000' ><tspan>3</tspan></text>\n",
       "<text dominant-baseline=\"central\" text-anchor=\"middle\" x='726.32' y='130.654' style='font-size:16px;font-style:normal;font-weight:normal;fill-opacity:1;stroke:none;font-family:sans-serif;fill:#000000' ><tspan>1</tspan></text>\n",
       "<text dominant-baseline=\"central\" text-anchor=\"middle\" x='668.056' y='148.751' style='font-size:16px;font-style:normal;font-weight:normal;fill-opacity:1;stroke:none;font-family:sans-serif;fill:#000000' ><tspan>2</tspan></text>\n",
       "<text dominant-baseline=\"central\" text-anchor=\"middle\" x='628.64' y='157.43' style='font-size:16px;font-style:normal;font-weight:normal;fill-opacity:1;stroke:none;font-family:sans-serif;fill:#000000' ><tspan>3</tspan></text>\n",
       "<path d='M 283.72,152.798 L 283.716,152.711 L 283.705,152.624 L 283.686,152.539 L 283.66,152.456 L 283.627,152.375 L 283.587,152.297 L 283.541,152.223 L 283.488,152.153 L 283.43,152.088 L 283.366,152.028 L 283.298,151.974 L 283.224,151.926 L 283.148,151.885 L 283.067,151.85 L 282.985,151.823 L 282.9,151.802 L 282.813,151.789 L 282.726,151.783 L 282.639,151.785 L 282.552,151.795 L 282.466,151.811 L 282.382,151.835 L 282.301,151.867 L 282.222,151.905 L 282.147,151.95 L 282.076,152.001 L 282.01,152.058 L 281.949,152.12 L 281.893,152.188 L 281.844,152.259 L 281.801,152.335 L 281.764,152.415 L 281.735,152.497 L 281.712,152.582 L 281.697,152.668 L 281.69,152.755 L 281.69,152.842 L 281.697,152.929 L 281.712,153.015 L 281.735,153.1 L 281.764,153.182 L 281.801,153.261 L 281.844,153.337 L 281.893,153.409 L 281.949,153.477 L 282.01,153.539 L 282.076,153.596 L 282.147,153.647 L 282.222,153.692 L 282.301,153.73 L 282.382,153.761 L 282.466,153.785 L 282.552,153.802 L 282.639,153.811 L 282.726,153.813 L 282.813,153.808 L 282.9,153.795 L 282.985,153.774 L 283.067,153.746 L 283.148,153.712 L 283.224,153.67 L 283.298,153.622 L 283.366,153.568 L 283.43,153.508 L 283.488,153.443 L 283.541,153.374 L 283.587,153.3 L 283.627,153.222 L 283.66,153.141 L 283.686,153.058 L 283.705,152.972 L 283.716,152.886 L 283.72,152.798 L 282.704,152.798 Z' style='fill:#000000;fill-rule:evenodd;fill-opacity=1;stroke:#000000;stroke-width:2px;stroke-linecap:butt;stroke-linejoin:miter;stroke-opacity:1;' />\n",
       "<path d='M 290.714,152.798 L 290.71,152.711 L 290.699,152.624 L 290.68,152.539 L 290.654,152.456 L 290.621,152.375 L 290.581,152.297 L 290.535,152.223 L 290.482,152.153 L 290.424,152.088 L 290.36,152.028 L 290.292,151.974 L 290.219,151.926 L 290.142,151.885 L 290.061,151.85 L 289.979,151.823 L 289.894,151.802 L 289.807,151.789 L 289.72,151.783 L 289.633,151.785 L 289.546,151.795 L 289.46,151.811 L 289.376,151.835 L 289.295,151.867 L 289.216,151.905 L 289.141,151.95 L 289.07,152.001 L 289.004,152.058 L 288.943,152.12 L 288.887,152.188 L 288.838,152.259 L 288.795,152.335 L 288.758,152.415 L 288.729,152.497 L 288.706,152.582 L 288.692,152.668 L 288.684,152.755 L 288.684,152.842 L 288.692,152.929 L 288.706,153.015 L 288.729,153.1 L 288.758,153.182 L 288.795,153.261 L 288.838,153.337 L 288.887,153.409 L 288.943,153.477 L 289.004,153.539 L 289.07,153.596 L 289.141,153.647 L 289.216,153.692 L 289.295,153.73 L 289.376,153.761 L 289.46,153.785 L 289.546,153.802 L 289.633,153.811 L 289.72,153.813 L 289.807,153.808 L 289.894,153.795 L 289.979,153.774 L 290.061,153.746 L 290.142,153.712 L 290.219,153.67 L 290.292,153.622 L 290.36,153.568 L 290.424,153.508 L 290.482,153.443 L 290.535,153.374 L 290.581,153.3 L 290.621,153.222 L 290.654,153.141 L 290.68,153.058 L 290.699,152.972 L 290.71,152.886 L 290.714,152.798 L 289.698,152.798 Z' style='fill:#000000;fill-rule:evenodd;fill-opacity=1;stroke:#000000;stroke-width:2px;stroke-linecap:butt;stroke-linejoin:miter;stroke-opacity:1;' />\n",
       "<text dominant-baseline=\"central\" text-anchor=\"middle\" x='193.731' y='153.6' style='font-size:24px;font-style:normal;font-weight:normal;fill-opacity:1;stroke:none;font-family:sans-serif;fill:#000000' ><tspan>+</tspan></text>\n",
       "<path d='M 378.672,150 L 514.04,150' style='fill:none;fill-rule:evenodd;stroke:#000000;stroke-width:2px;stroke-linecap:butt;stroke-linejoin:miter;stroke-opacity:1' />\n",
       "<path d='M 514.04,150 L 508.178,146.616' style='fill:none;fill-rule:evenodd;stroke:#000000;stroke-width:2px;stroke-linecap:butt;stroke-linejoin:miter;stroke-opacity:1' />\n",
       "<path d='M 514.04,150 L 508.178,153.384' style='fill:none;fill-rule:evenodd;stroke:#000000;stroke-width:2px;stroke-linecap:butt;stroke-linejoin:miter;stroke-opacity:1' />\n",
       "</svg>\n"
      ],
      "text/plain": [
       "<rdmc.reaction.Reaction at 0x7fdc05c1bcd0>"
      ]
     },
     "metadata": {},
     "output_type": "display_data"
    }
   ],
   "source": [
    "rxn = Reaction.from_reaction_smiles(atommapped_rxn_smi)\n",
    "display(rxn)\n",
    "r_complex = rxn.reactant_complex\n",
    "p_complex = rxn.product_complex"
   ]
  },
  {
   "cell_type": "markdown",
   "id": "28f08cf8",
   "metadata": {},
   "source": [
    "### Sort Heavy Atoms"
   ]
  },
  {
   "cell_type": "code",
   "execution_count": 12,
   "id": "a2d1c702",
   "metadata": {},
   "outputs": [],
   "source": [
    "# There are cases with unequal number of atoms labeled with atom map index. Known cases:\n",
    "# - H will not be labeled in most case but will be labeled if there is a [H][H] or [H]\n",
    "H_atoms = []\n",
    "if max(r_complex.GetAtomMapNumbers()) != max(p_complex.GetAtomMapNumbers()):\n",
    "    # There are H2\n",
    "    H_atoms = [i - 1 for i in \n",
    "               set(r_complex.GetAtomMapNumbers()).symmetric_difference(p_complex.GetAtomMapNumbers())]\n",
    "\n",
    "atommap_id_counter = max(r_complex.GetAtomMapNumbers()) + 1\n",
    "for ratom in r_complex.GetAtoms():\n",
    "    if ratom.GetAtomMapNum() == 0:\n",
    "        ratom.SetAtomMapNum(atommap_id_counter)\n",
    "        atommap_id_counter += 1\n",
    "\n",
    "atommap_id_counter = max(p_complex.GetAtomMapNumbers()) + 1\n",
    "for patom in p_complex.GetAtoms():\n",
    "    if patom.GetAtomMapNum() == 0:\n",
    "        patom.SetAtomMapNum(atommap_id_counter)\n",
    "        atommap_id_counter += 1\n",
    "\n",
    "r_complex = r_complex.RenumberAtoms()\n",
    "p_complex = p_complex.RenumberAtoms()"
   ]
  },
  {
   "cell_type": "markdown",
   "id": "ebf6a71d",
   "metadata": {},
   "source": [
    "### Map non-reacting H atoms"
   ]
  },
  {
   "cell_type": "code",
   "execution_count": 13,
   "id": "8f38fdd2",
   "metadata": {},
   "outputs": [],
   "source": [
    "# Check each heavy atoms and and match non-reacting H atoms assuming minimal bond change\n",
    "\n",
    "unused_ratom_ids = []\n",
    "unset_patom_ids = []\n",
    "for ratom in r_complex.GetAtoms():\n",
    "\n",
    "    # Skip H atoms\n",
    "    if ratom.GetAtomicNum() == 1:\n",
    "        continue\n",
    "\n",
    "    patom = p_complex.GetAtomWithIdx(ratom.GetIdx())\n",
    "    rH_nbs, pH_nbs = [], []\n",
    "    \n",
    "    for rnb in ratom.GetNeighbors():\n",
    "        if rnb.GetAtomicNum() == 1:\n",
    "            rH_nbs.append(rnb.GetIdx())\n",
    "    for pnb in patom.GetNeighbors():\n",
    "        if pnb.GetAtomicNum() == 1:\n",
    "            pH_nbs.append(pnb.GetIdx())\n",
    "    \n",
    "    for rH_idx, pH_idx in zip(rH_nbs, pH_nbs):\n",
    "        p_complex.GetAtomWithIdx(pH_idx).SetAtomMapNum(\n",
    "            r_complex.GetAtomWithIdx(rH_idx).GetAtomMapNum())\n",
    "        \n",
    "    if len(rH_nbs) > len(pH_nbs):\n",
    "        unused_ratom_ids.extend(rH_nbs[len(pH_nbs):])\n",
    "    elif len(rH_nbs) < len(pH_nbs):\n",
    "        unset_patom_ids.extend(pH_nbs[len(rH_nbs):])"
   ]
  },
  {
   "cell_type": "markdown",
   "id": "c5728cef",
   "metadata": {},
   "source": [
    "### Map reacting H atoms"
   ]
  },
  {
   "cell_type": "code",
   "execution_count": 14,
   "id": "98e86a6c",
   "metadata": {},
   "outputs": [],
   "source": [
    "if H_atoms:\n",
    "    # Can only handle H2 generation without H migration\n",
    "    if (len(unused_ratom_ids) == 0) and (len(unset_patom_ids) == len(H_atoms)):\n",
    "        # There is H2 in reactants\n",
    "        for rH_idx, pH_idx in zip(H_atoms, unset_patom_ids):\n",
    "            p_complex.GetAtomWithIdx(pH_idx).SetAtomMapNum(r_complex.GetAtomWithIdx(rH_idx).GetAtomMapNum())\n",
    "    elif (len(unset_patom_ids) == 0) and (len(unused_ratom_ids) == len(H_atoms)):\n",
    "        # There is H2 in products\n",
    "        for rH_idx, pH_idx in zip(unused_ratom_ids, H_atoms):\n",
    "            p_complex.GetAtomWithIdx(pH_idx).SetAtomMapNum(r_complex.GetAtomWithIdx(rH_idx).GetAtomMapNum())\n",
    "    else:\n",
    "        raise Runtime('Unexpected behavior in atommapping')\n",
    "else:\n",
    "    assert len(unused_ratom_ids) == len(unset_patom_ids), 'Unexpected behavior when assigning H atommapping'\n",
    "    if len(unused_ratom_ids) > 1:\n",
    "        from itertools import permutations\n",
    "        import numpy as np\n",
    "\n",
    "        min_num_bond_change = np.inf\n",
    "        opt_pairs = []\n",
    "        for pairs in permutations(zip(unused_ratom_ids, unset_patom_ids)):\n",
    "            for rH_idx, pH_idx in pairs:\n",
    "                p_complex.GetAtomWithIdx(pH_idx).SetAtomMapNum(r_complex.GetAtomWithIdx(rH_idx).GetAtomMapNum())\n",
    "            formed, broken = get_formed_and_broken_bonds(r_complex, p_complex.RenumberAtoms())\n",
    "            if len(formed + broken) < min_num_bond_change:\n",
    "                opt_pairs = pairs\n",
    "    elif len(unused_ratom_ids) == 1:\n",
    "        opt_pairs = ((unused_ratom_ids[0], unset_patom_ids[0]),)\n",
    "    else:\n",
    "        opt_pairs = tuple()\n",
    "\n",
    "    for rH_idx, pH_idx in opt_pairs:\n",
    "        p_complex.GetAtomWithIdx(pH_idx).SetAtomMapNum(r_complex.GetAtomWithIdx(rH_idx).GetAtomMapNum())\n",
    "p_complex = p_complex.RenumberAtoms()"
   ]
  },
  {
   "cell_type": "markdown",
   "id": "3d0acdb2",
   "metadata": {},
   "source": [
    "### Generate Reaction Smiles"
   ]
  },
  {
   "cell_type": "code",
   "execution_count": 15,
   "id": "f5ecd19a",
   "metadata": {},
   "outputs": [
    {
     "data": {
      "image/svg+xml": [
       "<?xml version='1.0' encoding='iso-8859-1'?>\n",
       "<svg version='1.1' baseProfile='full'\n",
       "              xmlns='http://www.w3.org/2000/svg'\n",
       "                      xmlns:rdkit='http://www.rdkit.org/xml'\n",
       "                      xmlns:xlink='http://www.w3.org/1999/xlink'\n",
       "                  xml:space='preserve'\n",
       "width='800px' height='300px' viewBox='0 0 800 300'>\n",
       "<!-- END OF HEADER -->\n",
       "<rect style='opacity:1.0;fill:#FFFFFF;stroke:none' width='800' height='300' x='0' y='0'> </rect>\n",
       "<path d='M 77.1571,144.242 L 122.071,144.242' style='fill:none;fill-rule:evenodd;stroke:#FFFFAA;stroke-width:9px;stroke-linecap:butt;stroke-linejoin:miter;stroke-opacity:1' />\n",
       "<path d='M 77.1571,144.242 L 54.7002,105.345' style='fill:none;fill-rule:evenodd;stroke:#FFFFAA;stroke-width:9px;stroke-linecap:butt;stroke-linejoin:miter;stroke-opacity:1' />\n",
       "<path d='M 77.1571,144.242 L 54.7002,183.138' style='fill:none;fill-rule:evenodd;stroke:#FFFFAA;stroke-width:9px;stroke-linecap:butt;stroke-linejoin:miter;stroke-opacity:1' />\n",
       "<path d='M 122.071,144.242 L 144.528,183.138' style='fill:none;fill-rule:evenodd;stroke:#FFFFAA;stroke-width:9px;stroke-linecap:butt;stroke-linejoin:miter;stroke-opacity:1' />\n",
       "<path d='M 122.071,144.242 L 144.528,105.345' style='fill:none;fill-rule:evenodd;stroke:#FFFFAA;stroke-width:9px;stroke-linecap:butt;stroke-linejoin:miter;stroke-opacity:1' />\n",
       "<path d='M 299.24,159.213 L 338.136,136.756' style='fill:none;fill-rule:evenodd;stroke:#FFCC99;stroke-width:9px;stroke-linecap:butt;stroke-linejoin:miter;stroke-opacity:1' />\n",
       "<path d='M 299.24,159.213 L 260.344,136.756' style='fill:none;fill-rule:evenodd;stroke:#FFCC99;stroke-width:9px;stroke-linecap:butt;stroke-linejoin:miter;stroke-opacity:1' />\n",
       "<path d='M 705.811,138.382 L 667.375,161.618' style='fill:none;fill-rule:evenodd;stroke:#FFFFAA;stroke-width:9px;stroke-linecap:butt;stroke-linejoin:miter;stroke-opacity:1' />\n",
       "<path d='M 705.811,138.382 L 745.152,160.052' style='fill:none;fill-rule:evenodd;stroke:#FFFFAA;stroke-width:9px;stroke-linecap:butt;stroke-linejoin:miter;stroke-opacity:1' />\n",
       "<path d='M 705.811,138.382 L 704.907,93.4778' style='fill:none;fill-rule:evenodd;stroke:#FFFFAA;stroke-width:9px;stroke-linecap:butt;stroke-linejoin:miter;stroke-opacity:1' />\n",
       "<path d='M 667.375,161.618 L 668.279,206.522' style='fill:none;fill-rule:evenodd;stroke:#FFFFAA;stroke-width:9px;stroke-linecap:butt;stroke-linejoin:miter;stroke-opacity:1' />\n",
       "<path d='M 628.034,139.948 L 606.365,179.289' style='fill:none;fill-rule:evenodd;stroke:#FFCC99;stroke-width:9px;stroke-linecap:butt;stroke-linejoin:miter;stroke-opacity:1' />\n",
       "<path d='M 628.034,139.948 L 649.703,100.608' style='fill:none;fill-rule:evenodd;stroke:#FFCC99;stroke-width:9px;stroke-linecap:butt;stroke-linejoin:miter;stroke-opacity:1' />\n",
       "<ellipse cx='77.1571' cy='144.242' rx='8.98274' ry='8.98274' style='fill:#FFFFAA;fill-rule:evenodd;stroke:#FFFFAA;stroke-width:2px;stroke-linecap:butt;stroke-linejoin:miter;stroke-opacity:1' />\n",
       "<ellipse cx='122.071' cy='144.242' rx='8.98274' ry='8.98274' style='fill:#FFFFAA;fill-rule:evenodd;stroke:#FFFFAA;stroke-width:2px;stroke-linecap:butt;stroke-linejoin:miter;stroke-opacity:1' />\n",
       "<ellipse cx='144.528' cy='183.138' rx='9.17561' ry='10.5863' style='fill:#FFFFAA;fill-rule:evenodd;stroke:#FFFFAA;stroke-width:2px;stroke-linecap:butt;stroke-linejoin:miter;stroke-opacity:1' />\n",
       "<ellipse cx='144.528' cy='105.345' rx='9.17561' ry='10.5863' style='fill:#FFFFAA;fill-rule:evenodd;stroke:#FFFFAA;stroke-width:2px;stroke-linecap:butt;stroke-linejoin:miter;stroke-opacity:1' />\n",
       "<ellipse cx='54.7002' cy='105.345' rx='9.17561' ry='10.5863' style='fill:#FFFFAA;fill-rule:evenodd;stroke:#FFFFAA;stroke-width:2px;stroke-linecap:butt;stroke-linejoin:miter;stroke-opacity:1' />\n",
       "<ellipse cx='54.7002' cy='183.138' rx='9.17561' ry='10.5863' style='fill:#FFFFAA;fill-rule:evenodd;stroke:#FFFFAA;stroke-width:2px;stroke-linecap:butt;stroke-linejoin:miter;stroke-opacity:1' />\n",
       "<ellipse cx='299.24' cy='159.213' rx='8.98274' ry='8.98274' style='fill:#FFCC99;fill-rule:evenodd;stroke:#FFCC99;stroke-width:2px;stroke-linecap:butt;stroke-linejoin:miter;stroke-opacity:1' />\n",
       "<ellipse cx='338.136' cy='136.756' rx='9.17561' ry='10.5863' style='fill:#FFCC99;fill-rule:evenodd;stroke:#FFCC99;stroke-width:2px;stroke-linecap:butt;stroke-linejoin:miter;stroke-opacity:1' />\n",
       "<ellipse cx='260.344' cy='136.756' rx='9.17561' ry='10.5863' style='fill:#FFCC99;fill-rule:evenodd;stroke:#FFCC99;stroke-width:2px;stroke-linecap:butt;stroke-linejoin:miter;stroke-opacity:1' />\n",
       "<ellipse cx='705.811' cy='138.382' rx='8.98274' ry='8.98274' style='fill:#FFFFAA;fill-rule:evenodd;stroke:#FFFFAA;stroke-width:2px;stroke-linecap:butt;stroke-linejoin:miter;stroke-opacity:1' />\n",
       "<ellipse cx='667.375' cy='161.618' rx='8.98274' ry='8.98274' style='fill:#FFFFAA;fill-rule:evenodd;stroke:#FFFFAA;stroke-width:2px;stroke-linecap:butt;stroke-linejoin:miter;stroke-opacity:1' />\n",
       "<ellipse cx='628.034' cy='139.948' rx='8.98274' ry='8.98274' style='fill:#FFCC99;fill-rule:evenodd;stroke:#FFCC99;stroke-width:2px;stroke-linecap:butt;stroke-linejoin:miter;stroke-opacity:1' />\n",
       "<ellipse cx='588.694' cy='118.279' rx='9.17561' ry='10.5863' style='fill:#FFFFAA;fill-rule:evenodd;stroke:#FFFFAA;stroke-width:2px;stroke-linecap:butt;stroke-linejoin:miter;stroke-opacity:1' />\n",
       "<ellipse cx='606.365' cy='179.289' rx='9.17561' ry='10.5863' style='fill:#FFCC99;fill-rule:evenodd;stroke:#FFCC99;stroke-width:2px;stroke-linecap:butt;stroke-linejoin:miter;stroke-opacity:1' />\n",
       "<ellipse cx='649.703' cy='100.608' rx='9.17561' ry='10.5863' style='fill:#FFCC99;fill-rule:evenodd;stroke:#FFCC99;stroke-width:2px;stroke-linecap:butt;stroke-linejoin:miter;stroke-opacity:1' />\n",
       "<ellipse cx='668.279' cy='206.522' rx='9.17561' ry='10.5863' style='fill:#FFFFAA;fill-rule:evenodd;stroke:#FFFFAA;stroke-width:2px;stroke-linecap:butt;stroke-linejoin:miter;stroke-opacity:1' />\n",
       "<ellipse cx='745.152' cy='160.052' rx='9.17561' ry='10.5863' style='fill:#FFFFAA;fill-rule:evenodd;stroke:#FFFFAA;stroke-width:2px;stroke-linecap:butt;stroke-linejoin:miter;stroke-opacity:1' />\n",
       "<ellipse cx='704.907' cy='93.4778' rx='9.17561' ry='10.5863' style='fill:#FFFFAA;fill-rule:evenodd;stroke:#FFFFAA;stroke-width:2px;stroke-linecap:butt;stroke-linejoin:miter;stroke-opacity:1' />\n",
       "<path class='bond-0' d='M 77.1571,144.242 L 122.071,144.242' style='fill:none;fill-rule:evenodd;stroke:#000000;stroke-width:2px;stroke-linecap:butt;stroke-linejoin:miter;stroke-opacity:1' />\n",
       "<path class='bond-0' d='M 83.8942,135.259 L 115.334,135.259' style='fill:none;fill-rule:evenodd;stroke:#000000;stroke-width:2px;stroke-linecap:butt;stroke-linejoin:miter;stroke-opacity:1' />\n",
       "<path class='bond-3' d='M 77.1571,144.242 L 59.0221,112.831' style='fill:none;fill-rule:evenodd;stroke:#000000;stroke-width:2px;stroke-linecap:butt;stroke-linejoin:miter;stroke-opacity:1' />\n",
       "<path class='bond-4' d='M 77.1571,144.242 L 59.0221,175.652' style='fill:none;fill-rule:evenodd;stroke:#000000;stroke-width:2px;stroke-linecap:butt;stroke-linejoin:miter;stroke-opacity:1' />\n",
       "<path class='bond-1' d='M 122.071,144.242 L 140.206,175.652' style='fill:none;fill-rule:evenodd;stroke:#000000;stroke-width:2px;stroke-linecap:butt;stroke-linejoin:miter;stroke-opacity:1' />\n",
       "<path class='bond-2' d='M 122.071,144.242 L 140.206,112.831' style='fill:none;fill-rule:evenodd;stroke:#000000;stroke-width:2px;stroke-linecap:butt;stroke-linejoin:miter;stroke-opacity:1' />\n",
       "<path class='bond-5' d='M 299.24,159.213 L 331.648,140.502' style='fill:none;fill-rule:evenodd;stroke:#000000;stroke-width:2px;stroke-linecap:butt;stroke-linejoin:miter;stroke-opacity:1' />\n",
       "<path class='bond-6' d='M 299.24,159.213 L 266.832,140.502' style='fill:none;fill-rule:evenodd;stroke:#000000;stroke-width:2px;stroke-linecap:butt;stroke-linejoin:miter;stroke-opacity:1' />\n",
       "<path class='bond-7' d='M 705.811,138.382 L 667.375,161.618' style='fill:none;fill-rule:evenodd;stroke:#000000;stroke-width:2px;stroke-linecap:butt;stroke-linejoin:miter;stroke-opacity:1' />\n",
       "<path class='bond-7' d='M 704.693,149.555 L 677.787,165.82' style='fill:none;fill-rule:evenodd;stroke:#000000;stroke-width:2px;stroke-linecap:butt;stroke-linejoin:miter;stroke-opacity:1' />\n",
       "<path class='bond-13' d='M 705.811,138.382 L 738.664,156.478' style='fill:none;fill-rule:evenodd;stroke:#000000;stroke-width:2px;stroke-linecap:butt;stroke-linejoin:miter;stroke-opacity:1' />\n",
       "<path class='bond-14' d='M 705.811,138.382 L 705.058,100.963' style='fill:none;fill-rule:evenodd;stroke:#000000;stroke-width:2px;stroke-linecap:butt;stroke-linejoin:miter;stroke-opacity:1' />\n",
       "<path class='bond-8' d='M 667.375,161.618 L 628.034,139.948' style='fill:none;fill-rule:evenodd;stroke:#000000;stroke-width:2px;stroke-linecap:butt;stroke-linejoin:miter;stroke-opacity:1' />\n",
       "<path class='bond-12' d='M 667.375,161.618 L 668.128,199.037' style='fill:none;fill-rule:evenodd;stroke:#000000;stroke-width:2px;stroke-linecap:butt;stroke-linejoin:miter;stroke-opacity:1' />\n",
       "<path class='bond-9' d='M 628.034,139.948 L 595.182,121.853' style='fill:none;fill-rule:evenodd;stroke:#000000;stroke-width:2px;stroke-linecap:butt;stroke-linejoin:miter;stroke-opacity:1' />\n",
       "<path class='bond-10' d='M 628.034,139.948 L 610.488,171.803' style='fill:none;fill-rule:evenodd;stroke:#000000;stroke-width:2px;stroke-linecap:butt;stroke-linejoin:miter;stroke-opacity:1' />\n",
       "<path class='bond-11' d='M 628.034,139.948 L 645.58,108.093' style='fill:none;fill-rule:evenodd;stroke:#000000;stroke-width:2px;stroke-linecap:butt;stroke-linejoin:miter;stroke-opacity:1' />\n",
       "<text dominant-baseline=\"central\" text-anchor=\"start\" x='139.537' y='185.384' style='font-size:14px;font-style:normal;font-weight:normal;fill-opacity:1;stroke:none;font-family:sans-serif;fill:#000000' ><tspan>H</tspan></text>\n",
       "<text dominant-baseline=\"central\" text-anchor=\"start\" x='139.537' y='107.591' style='font-size:14px;font-style:normal;font-weight:normal;fill-opacity:1;stroke:none;font-family:sans-serif;fill:#000000' ><tspan>H</tspan></text>\n",
       "<text dominant-baseline=\"central\" text-anchor=\"end\" x='59.6913' y='107.591' style='font-size:14px;font-style:normal;font-weight:normal;fill-opacity:1;stroke:none;font-family:sans-serif;fill:#000000' ><tspan>H</tspan></text>\n",
       "<text dominant-baseline=\"central\" text-anchor=\"end\" x='59.6913' y='185.384' style='font-size:14px;font-style:normal;font-weight:normal;fill-opacity:1;stroke:none;font-family:sans-serif;fill:#000000' ><tspan>H</tspan></text>\n",
       "<text dominant-baseline=\"central\" text-anchor=\"start\" x='333.145' y='139.002' style='font-size:14px;font-style:normal;font-weight:normal;fill-opacity:1;stroke:none;font-family:sans-serif;fill:#000000' ><tspan>H</tspan></text>\n",
       "<text dominant-baseline=\"central\" text-anchor=\"end\" x='265.335' y='139.002' style='font-size:14px;font-style:normal;font-weight:normal;fill-opacity:1;stroke:none;font-family:sans-serif;fill:#000000' ><tspan>H</tspan></text>\n",
       "<text dominant-baseline=\"central\" text-anchor=\"end\" x='593.685' y='120.524' style='font-size:14px;font-style:normal;font-weight:normal;fill-opacity:1;stroke:none;font-family:sans-serif;fill:#000000' ><tspan>H</tspan></text>\n",
       "<text dominant-baseline=\"central\" text-anchor=\"end\" x='611.356' y='181.534' style='font-size:14px;font-style:normal;font-weight:normal;fill-opacity:1;stroke:none;font-family:sans-serif;fill:#000000' ><tspan>H</tspan></text>\n",
       "<text dominant-baseline=\"central\" text-anchor=\"start\" x='644.712' y='102.853' style='font-size:14px;font-style:normal;font-weight:normal;fill-opacity:1;stroke:none;font-family:sans-serif;fill:#000000' ><tspan>H</tspan></text>\n",
       "<text dominant-baseline=\"central\" text-anchor=\"start\" x='663.288' y='208.768' style='font-size:14px;font-style:normal;font-weight:normal;fill-opacity:1;stroke:none;font-family:sans-serif;fill:#000000' ><tspan>H</tspan></text>\n",
       "<text dominant-baseline=\"central\" text-anchor=\"start\" x='740.161' y='162.297' style='font-size:14px;font-style:normal;font-weight:normal;fill-opacity:1;stroke:none;font-family:sans-serif;fill:#000000' ><tspan>H</tspan></text>\n",
       "<text dominant-baseline=\"central\" text-anchor=\"start\" x='699.916' y='95.7235' style='font-size:14px;font-style:normal;font-weight:normal;fill-opacity:1;stroke:none;font-family:sans-serif;fill:#000000' ><tspan>H</tspan></text>\n",
       "<text dominant-baseline=\"central\" text-anchor=\"middle\" x='62.1859' y='146.487' style='font-size:14px;font-style:normal;font-weight:normal;fill-opacity:1;stroke:none;font-family:sans-serif;fill:#000000' ><tspan>1</tspan></text>\n",
       "<text dominant-baseline=\"central\" text-anchor=\"middle\" x='114.585' y='159.453' style='font-size:14px;font-style:normal;font-weight:normal;fill-opacity:1;stroke:none;font-family:sans-serif;fill:#000000' ><tspan>2</tspan></text>\n",
       "<text dominant-baseline=\"central\" text-anchor=\"middle\" x='157.493' y='192.869' style='font-size:14px;font-style:normal;font-weight:normal;fill-opacity:1;stroke:none;font-family:sans-serif;fill:#000000' ><tspan>6</tspan></text>\n",
       "<text dominant-baseline=\"central\" text-anchor=\"middle\" x='131.562' y='100.105' style='font-size:14px;font-style:normal;font-weight:normal;fill-opacity:1;stroke:none;font-family:sans-serif;fill:#000000' ><tspan>7</tspan></text>\n",
       "<text dominant-baseline=\"central\" text-anchor=\"middle\" x='41.7348' y='100.105' style='font-size:14px;font-style:normal;font-weight:normal;fill-opacity:1;stroke:none;font-family:sans-serif;fill:#000000' ><tspan>4</tspan></text>\n",
       "<text dominant-baseline=\"central\" text-anchor=\"middle\" x='67.6657' y='192.869' style='font-size:14px;font-style:normal;font-weight:normal;fill-opacity:1;stroke:none;font-family:sans-serif;fill:#000000' ><tspan>5</tspan></text>\n",
       "<text dominant-baseline=\"central\" text-anchor=\"middle\" x='299.24' y='176.43' style='font-size:14px;font-style:normal;font-weight:normal;fill-opacity:1;stroke:none;font-family:sans-serif;fill:#000000' ><tspan>3</tspan></text>\n",
       "<text dominant-baseline=\"central\" text-anchor=\"middle\" x='351.102' y='131.516' style='font-size:14px;font-style:normal;font-weight:normal;fill-opacity:1;stroke:none;font-family:sans-serif;fill:#000000' ><tspan>8</tspan></text>\n",
       "<text dominant-baseline=\"central\" text-anchor=\"middle\" x='247.378' y='131.516' style='font-size:14px;font-style:normal;font-weight:normal;fill-opacity:1;stroke:none;font-family:sans-serif;fill:#000000' ><tspan>9</tspan></text>\n",
       "<text dominant-baseline=\"central\" text-anchor=\"middle\" x='718.623' y='132.883' style='font-size:14px;font-style:normal;font-weight:normal;fill-opacity:1;stroke:none;font-family:sans-serif;fill:#000000' ><tspan>1</tspan></text>\n",
       "<text dominant-baseline=\"central\" text-anchor=\"middle\" x='667.073' y='148.895' style='font-size:14px;font-style:normal;font-weight:normal;fill-opacity:1;stroke:none;font-family:sans-serif;fill:#000000' ><tspan>2</tspan></text>\n",
       "<text dominant-baseline=\"central\" text-anchor=\"middle\" x='632.199' y='156.574' style='font-size:14px;font-style:normal;font-weight:normal;fill-opacity:1;stroke:none;font-family:sans-serif;fill:#000000' ><tspan>3</tspan></text>\n",
       "<text dominant-baseline=\"central\" text-anchor=\"middle\" x='575.58' y='113.301' style='font-size:14px;font-style:normal;font-weight:normal;fill-opacity:1;stroke:none;font-family:sans-serif;fill:#000000' ><tspan>7</tspan></text>\n",
       "<text dominant-baseline=\"central\" text-anchor=\"middle\" x='619.478' y='188.758' style='font-size:14px;font-style:normal;font-weight:normal;fill-opacity:1;stroke:none;font-family:sans-serif;fill:#000000' ><tspan>8</tspan></text>\n",
       "<text dominant-baseline=\"central\" text-anchor=\"middle\" x='636.59' y='95.6302' style='font-size:14px;font-style:normal;font-weight:normal;fill-opacity:1;stroke:none;font-family:sans-serif;fill:#000000' ><tspan>9</tspan></text>\n",
       "<text dominant-baseline=\"central\" text-anchor=\"middle\" x='681.392' y='215.991' style='font-size:14px;font-style:normal;font-weight:normal;fill-opacity:1;stroke:none;font-family:sans-serif;fill:#000000' ><tspan>6</tspan></text>\n",
       "<text dominant-baseline=\"central\" text-anchor=\"middle\" x='758.265' y='169.521' style='font-size:14px;font-style:normal;font-weight:normal;fill-opacity:1;stroke:none;font-family:sans-serif;fill:#000000' ><tspan>4</tspan></text>\n",
       "<text dominant-baseline=\"central\" text-anchor=\"middle\" x='691.794' y='88.5003' style='font-size:14px;font-style:normal;font-weight:normal;fill-opacity:1;stroke:none;font-family:sans-serif;fill:#000000' ><tspan>5</tspan></text>\n",
       "<path d='M 297.044,152.476 L 297.041,152.399 L 297.031,152.322 L 297.014,152.246 L 296.992,152.173 L 296.962,152.101 L 296.927,152.032 L 296.886,151.967 L 296.84,151.905 L 296.788,151.848 L 296.732,151.795 L 296.671,151.747 L 296.606,151.704 L 296.538,151.668 L 296.467,151.637 L 296.394,151.613 L 296.319,151.594 L 296.242,151.583 L 296.165,151.578 L 296.088,151.579 L 296.011,151.588 L 295.935,151.603 L 295.861,151.624 L 295.789,151.652 L 295.719,151.685 L 295.653,151.725 L 295.59,151.77 L 295.532,151.821 L 295.478,151.876 L 295.428,151.935 L 295.385,151.999 L 295.346,152.066 L 295.314,152.137 L 295.288,152.209 L 295.268,152.284 L 295.255,152.36 L 295.249,152.437 L 295.249,152.515 L 295.255,152.592 L 295.268,152.668 L 295.288,152.742 L 295.314,152.815 L 295.346,152.885 L 295.385,152.953 L 295.428,153.016 L 295.478,153.076 L 295.532,153.131 L 295.59,153.182 L 295.653,153.227 L 295.719,153.266 L 295.789,153.3 L 295.861,153.328 L 295.935,153.349 L 296.011,153.364 L 296.088,153.372 L 296.165,153.374 L 296.242,153.369 L 296.319,153.357 L 296.394,153.339 L 296.467,153.315 L 296.538,153.284 L 296.606,153.247 L 296.671,153.205 L 296.732,153.157 L 296.788,153.104 L 296.84,153.047 L 296.886,152.985 L 296.927,152.919 L 296.962,152.851 L 296.992,152.779 L 297.014,152.705 L 297.031,152.63 L 297.041,152.553 L 297.044,152.476 L 296.146,152.476 Z' style='fill:#000000;fill-rule:evenodd;fill-opacity=1;stroke:#000000;stroke-width:2px;stroke-linecap:butt;stroke-linejoin:miter;stroke-opacity:1;' />\n",
       "<path d='M 303.232,152.476 L 303.229,152.399 L 303.219,152.322 L 303.203,152.246 L 303.18,152.173 L 303.15,152.101 L 303.115,152.032 L 303.074,151.967 L 303.028,151.905 L 302.976,151.848 L 302.92,151.795 L 302.859,151.747 L 302.794,151.704 L 302.726,151.668 L 302.655,151.637 L 302.582,151.613 L 302.507,151.594 L 302.431,151.583 L 302.353,151.578 L 302.276,151.579 L 302.199,151.588 L 302.123,151.603 L 302.049,151.624 L 301.977,151.652 L 301.907,151.685 L 301.841,151.725 L 301.778,151.77 L 301.72,151.821 L 301.666,151.876 L 301.617,151.935 L 301.573,151.999 L 301.535,152.066 L 301.502,152.137 L 301.476,152.209 L 301.457,152.284 L 301.443,152.36 L 301.437,152.437 L 301.437,152.515 L 301.443,152.592 L 301.457,152.668 L 301.476,152.742 L 301.502,152.815 L 301.535,152.885 L 301.573,152.953 L 301.617,153.016 L 301.666,153.076 L 301.72,153.131 L 301.778,153.182 L 301.841,153.227 L 301.907,153.266 L 301.977,153.3 L 302.049,153.328 L 302.123,153.349 L 302.199,153.364 L 302.276,153.372 L 302.353,153.374 L 302.431,153.369 L 302.507,153.357 L 302.582,153.339 L 302.655,153.315 L 302.726,153.284 L 302.794,153.247 L 302.859,153.205 L 302.92,153.157 L 302.976,153.104 L 303.028,153.047 L 303.074,152.985 L 303.115,152.919 L 303.15,152.851 L 303.18,152.779 L 303.203,152.705 L 303.219,152.63 L 303.229,152.553 L 303.232,152.476 L 302.334,152.476 Z' style='fill:#000000;fill-rule:evenodd;fill-opacity=1;stroke:#000000;stroke-width:2px;stroke-linecap:butt;stroke-linejoin:miter;stroke-opacity:1;' />\n",
       "<text dominant-baseline=\"central\" text-anchor=\"middle\" x='202.436' y='153.6' style='font-size:24px;font-style:normal;font-weight:normal;fill-opacity:1;stroke:none;font-family:sans-serif;fill:#000000' ><tspan>+</tspan></text>\n",
       "<path d='M 396.044,150 L 515.814,150' style='fill:none;fill-rule:evenodd;stroke:#000000;stroke-width:2px;stroke-linecap:butt;stroke-linejoin:miter;stroke-opacity:1' />\n",
       "<path d='M 515.814,150 L 510.628,147.006' style='fill:none;fill-rule:evenodd;stroke:#000000;stroke-width:2px;stroke-linecap:butt;stroke-linejoin:miter;stroke-opacity:1' />\n",
       "<path d='M 515.814,150 L 510.628,152.994' style='fill:none;fill-rule:evenodd;stroke:#000000;stroke-width:2px;stroke-linecap:butt;stroke-linejoin:miter;stroke-opacity:1' />\n",
       "</svg>\n"
      ],
      "text/plain": [
       "<rdmc.reaction.Reaction at 0x7fdbf45d6c50>"
      ]
     },
     "metadata": {},
     "output_type": "display_data"
    },
    {
     "name": "stdout",
     "output_type": "stream",
     "text": [
      "[C:1](=[C:2]([H:6])[H:7])([H:4])[H:5].[C:3]([H:8])[H:9]>>[C:1](=[C:2]([C:3]([H:7])([H:8])[H:9])[H:6])([H:4])[H:5]\n"
     ]
    }
   ],
   "source": [
    "new_rxn = Reaction(r_complex, p_complex)\n",
    "display(new_rxn)\n",
    "print(rxn.to_smiles())"
   ]
  },
  {
   "cell_type": "code",
   "execution_count": null,
   "id": "19a25df1",
   "metadata": {},
   "outputs": [],
   "source": []
  }
 ],
 "metadata": {
  "@webio": {
   "lastCommId": null,
   "lastKernelId": null
  },
  "kernelspec": {
   "display_name": "Python 3 (ipykernel)",
   "language": "python",
   "name": "python3"
  },
  "language_info": {
   "codemirror_mode": {
    "name": "ipython",
    "version": 3
   },
   "file_extension": ".py",
   "mimetype": "text/x-python",
   "name": "python",
   "nbconvert_exporter": "python",
   "pygments_lexer": "ipython3",
   "version": "3.7.12"
  },
  "vscode": {
   "interpreter": {
    "hash": "f734dd8bb8dba54e055a6b986ac72a1a3509c3dff380149774060d53d7aed57a"
   }
  }
 },
 "nbformat": 4,
 "nbformat_minor": 5
}
