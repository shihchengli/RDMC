{
 "cells": [
  {
   "cell_type": "markdown",
   "metadata": {},
   "source": [
    "# Generate Atom-mapped SMILES for RMG reactions.\n",
    "This notebook helps create atom-mapped SMILES for reactants and products that belong to a RMG reaction family."
   ]
  },
  {
   "cell_type": "code",
   "execution_count": 1,
   "metadata": {},
   "outputs": [
    {
     "name": "stderr",
     "output_type": "stream",
     "text": [
      "WARNING:root:No normalization for BCUT2D_MWHI\n",
      "WARNING:root:No normalization for BCUT2D_MWLOW\n",
      "WARNING:root:No normalization for BCUT2D_CHGHI\n",
      "WARNING:root:No normalization for BCUT2D_CHGLO\n",
      "WARNING:root:No normalization for BCUT2D_LOGPHI\n",
      "WARNING:root:No normalization for BCUT2D_LOGPLOW\n",
      "WARNING:root:No normalization for BCUT2D_MRHI\n",
      "WARNING:root:No normalization for BCUT2D_MRLOW\n"
     ]
    }
   ],
   "source": [
    "import os\n",
    "import sys\n",
    "# To add this RDMC into PYTHONPATH in case you haven't do it\n",
    "sys.path.append(os.path.dirname(os.path.abspath('')))\n",
    "\n",
    "from rdmc.mol import RDKitMol, parse_xyz_or_smiles_list\n",
    "\n",
    "try:\n",
    "    # import RMG dependencies\n",
    "    from rdmc.external.rmg import (from_rdkit_mol,\n",
    "                                   load_rxn_family_database,\n",
    "                                   generate_reaction_complex,)\n",
    "    # Load RMG database\n",
    "    database = load_rxn_family_database(families='all')\n",
    "except (ImportError, ModuleNotFoundError):\n",
    "    print('You need to install RMG-Py first and run this IPYNB in rmg_env!')\n",
    "\n",
    "%load_ext autoreload\n",
    "%autoreload 2"
   ]
  },
  {
   "cell_type": "markdown",
   "metadata": {},
   "source": [
    "## Examples\n",
    "For carbenes and biradicals, you need to specify the multiplicity as well. E.g., `reactants=[('[CH2]', 1)]`"
   ]
  },
  {
   "cell_type": "markdown",
   "metadata": {},
   "source": [
    "H_migration"
   ]
  },
  {
   "cell_type": "code",
   "execution_count": 2,
   "metadata": {},
   "outputs": [],
   "source": [
    "reactants = [\n",
    "\"\"\"[CH2]CCCCO\"\"\",]\n",
    "products = [\n",
    "\"\"\"CCCCC[O]\"\"\",]"
   ]
  },
  {
   "cell_type": "markdown",
   "metadata": {},
   "source": [
    "Retroene"
   ]
  },
  {
   "cell_type": "code",
   "execution_count": 3,
   "metadata": {},
   "outputs": [],
   "source": [
    "reactants = [\n",
    "\"\"\" C1=CC(C2C=CCC2)C=C1\"\"\",]\n",
    "\n",
    "products = [\n",
    "\"\"\"C1=CC=CC1\"\"\",\n",
    "\"\"\"C1=CC=CC1\"\"\",]"
   ]
  },
  {
   "cell_type": "markdown",
   "metadata": {},
   "source": [
    "H abstraction"
   ]
  },
  {
   "cell_type": "code",
   "execution_count": 4,
   "metadata": {},
   "outputs": [],
   "source": [
    "reactants = [\n",
    "\"\"\"[O]\"\"\",\n",
    "\"\"\"CCCCO\"\"\",]\n",
    "\n",
    "products = [\n",
    "\"\"\"[OH]\"\"\",\n",
    "\"\"\"[CH2]CCCO\"\"\",]"
   ]
  },
  {
   "cell_type": "markdown",
   "metadata": {},
   "source": [
    "1+2_Cycloaddition"
   ]
  },
  {
   "cell_type": "code",
   "execution_count": 5,
   "metadata": {},
   "outputs": [],
   "source": [
    "reactants = [\n",
    "(\"\"\"[O]\"\"\", 1),\n",
    "\"\"\"C=C\"\"\",]\n",
    "\n",
    "products = [\n",
    "\"\"\"C1OC1\"\"\",]"
   ]
  },
  {
   "cell_type": "markdown",
   "metadata": {},
   "source": [
    "1,2_Insertion_carbene"
   ]
  },
  {
   "cell_type": "code",
   "execution_count": 6,
   "metadata": {},
   "outputs": [],
   "source": [
    "reactants = [\n",
    "    (\"\"\"[CH2]\"\"\", 1),\n",
    "    \"\"\"C=C\"\"\", ]\n",
    "\n",
    "products = [\n",
    "    \"\"\"CC=C\"\"\", ]\n"
   ]
  },
  {
   "cell_type": "markdown",
   "metadata": {},
   "source": [
    "## Generate reactant and product complex"
   ]
  },
  {
   "cell_type": "code",
   "execution_count": 3,
   "metadata": {},
   "outputs": [
    {
     "name": "stderr",
     "output_type": "stream",
     "text": [
      "==============================\n",
      "*** Open Babel Warning  in ReadMolecule\n",
      "  Problems reading an XYZ file: The first line must contain the number of atoms.\n",
      "==============================\n",
      "*** Open Babel Warning  in ReadMolecule\n",
      "  Problems reading an XYZ file: The first line must contain the number of atoms.\n"
     ]
    },
    {
     "name": "stdout",
     "output_type": "stream",
     "text": [
      "[CH2]CCCCO <=> CCCCC[O]\n",
      "RMG family: intra_H_migration\n",
      "Is forward reaction: True\n"
     ]
    }
   ],
   "source": [
    "try:\n",
    "    # Generate RMG Molecule\n",
    "    r_mols = parse_xyz_or_smiles_list(reactants)\n",
    "    p_mols = parse_xyz_or_smiles_list(products)\n",
    "    reactant_molecules = [from_rdkit_mol(r) for r in r_mols]\n",
    "    product_molecules = [from_rdkit_mol(p) for p in p_mols]\n",
    "\n",
    "except Exception as e:\n",
    "    print(e)\n",
    "    print('Have issues generating molecules.')\n",
    "else:\n",
    "    # A product complex with the same atom indexing as the reactant is generated\n",
    "    reactant_complex, product_complex = generate_reaction_complex(\n",
    "                                            database,\n",
    "                                            reactant_molecules,\n",
    "                                            product_molecules,\n",
    "                                            verbose=True)\n",
    "\n",
    "if reactant_complex:\n",
    "    r_complex = RDKitMol.FromRMGMol(reactant_complex)\n",
    "    p_complex = RDKitMol.FromRMGMol(product_complex)"
   ]
  },
  {
   "cell_type": "markdown",
   "metadata": {},
   "source": [
    "### Generate SMILES"
   ]
  },
  {
   "cell_type": "markdown",
   "metadata": {},
   "source": [
    "Reactant"
   ]
  },
  {
   "cell_type": "code",
   "execution_count": 4,
   "metadata": {},
   "outputs": [
    {
     "data": {
      "text/plain": [
       "['[C:1]([C:2]([C:3]([C:4]([C:5]([O:6][H:17])([H:15])[H:16])([H:13])[H:14])([H:11])[H:12])([H:9])[H:10])([H:7])[H:8]']"
      ]
     },
     "execution_count": 4,
     "metadata": {},
     "output_type": "execute_result"
    }
   ],
   "source": [
    "r_complex.ToSmiles(removeAtomMap=False, removeHs=False).split('.')"
   ]
  },
  {
   "cell_type": "markdown",
   "metadata": {},
   "source": [
    "Product"
   ]
  },
  {
   "cell_type": "code",
   "execution_count": 5,
   "metadata": {},
   "outputs": [
    {
     "data": {
      "text/plain": [
       "['[C:1]([C:2]([C:3]([C:4]([C:5]([O:6])([H:15])[H:16])([H:13])[H:14])([H:11])[H:12])([H:9])[H:10])([H:7])([H:8])[H:17]']"
      ]
     },
     "execution_count": 5,
     "metadata": {},
     "output_type": "execute_result"
    }
   ],
   "source": [
    "p_complex.ToSmiles(removeAtomMap=False, removeHs=False).split('.')\n"
   ]
  },
  {
   "cell_type": "markdown",
   "metadata": {},
   "source": [
    "Visualize reactant and product in molecule graphs"
   ]
  },
  {
   "cell_type": "code",
   "execution_count": 6,
   "metadata": {},
   "outputs": [
    {
     "data": {
      "image/png": "[encoded data removed]",
      "text/plain": [
       "<rdmc.mol.RDKitMol at 0x7fab24888a50>"
      ]
     },
     "execution_count": 6,
     "metadata": {},
     "output_type": "execute_result"
    }
   ],
   "source": [
    "r_complex"
   ]
  },
  {
   "cell_type": "code",
   "execution_count": 7,
   "metadata": {},
   "outputs": [
    {
     "data": {
      "image/png": "[encoded data removed]",
      "text/plain": [
       "<rdmc.mol.RDKitMol at 0x7fab1a202450>"
      ]
     },
     "execution_count": 7,
     "metadata": {},
     "output_type": "execute_result"
    }
   ],
   "source": [
    "p_complex"
   ]
  },
  {
   "cell_type": "code",
   "execution_count": null,
   "metadata": {},
   "outputs": [],
   "source": []
  }
 ],
 "metadata": {
  "@webio": {
   "lastCommId": null,
   "lastKernelId": null
  },
  "kernelspec": {
   "display_name": "Python 3.7.12 ('arc_env': conda)",
   "language": "python",
   "name": "python3"
  },
  "language_info": {
   "codemirror_mode": {
    "name": "ipython",
    "version": 3
   },
   "file_extension": ".py",
   "mimetype": "text/x-python",
   "name": "python",
   "nbconvert_exporter": "python",
   "pygments_lexer": "ipython3",
   "version": "3.7.12"
  },
  "vscode": {
   "interpreter": {
    "hash": "f734dd8bb8dba54e055a6b986ac72a1a3509c3dff380149774060d53d7aed57a"
   }
  }
 },
 "nbformat": 4,
 "nbformat_minor": 5
}
