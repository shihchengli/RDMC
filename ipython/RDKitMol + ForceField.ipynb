{
 "cells": [
  {
   "cell_type": "markdown",
   "metadata": {},
   "source": [
    "# A demo of using RDKitFF and OpenBabelFF\n",
    "Demonstrate using the force field wrapper `RDKitFF` for RDKit force field and `OpenBabelFF` for Openbabel force field. Compared to the original APIs,\n",
    "- ROO cannot be optimized by RDKit Force Field, but RDKitFF provides a workaround for it.\n",
    "- more consistent APIs using RDKitFF and OpenBabelFF\n",
    "\n",
    "Something needs to keep in mind:\n",
    "- OpenBabelFF by default allowing interfragmental interactions, but you need to set `ignore_interfrag_interactions=False` to allow interfragmental interactions for RDKitFF.\n",
    "- When dealing with constrained optimization, in using OpenBabelFF, you need to set constraint before calling `setup()` (or calling `setup()` again after setting constraints); but in RDKitFF, you can only set constraint after calling `setup()`"
   ]
  },
  {
   "cell_type": "code",
   "execution_count": 1,
   "metadata": {},
   "outputs": [],
   "source": [
    "import os\n",
    "import sys\n",
    "# To add this RDMC into PYTHONPATH in case you doesn't do it\n",
    "sys.path.append(os.path.dirname(os.path.abspath('')))\n",
    "\n",
    "import numpy as np\n",
    "import matplotlib.pyplot as plt\n",
    "\n",
    "from rdmc import OpenBabelFF, RDKitFF, RDKitMol\n",
    "from rdmc.plotter import plot_curve\n",
    "from rdmc.view import grid_viewer, mol_viewer, mol_animation\n",
    "\n",
    "%load_ext autoreload\n",
    "%autoreload 2"
   ]
  },
  {
   "cell_type": "markdown",
   "metadata": {},
   "source": [
    "## 1. RDKit Force Field "
   ]
  },
  {
   "cell_type": "code",
   "execution_count": 2,
   "metadata": {},
   "outputs": [],
   "source": [
    "mol1 = RDKitMol.FromSmiles('CCCO[O]')\n",
    "mol1.EmbedConformer()"
   ]
  },
  {
   "cell_type": "markdown",
   "metadata": {},
   "source": [
    "Create a force field object"
   ]
  },
  {
   "cell_type": "code",
   "execution_count": 3,
   "metadata": {},
   "outputs": [
    {
     "name": "stdout",
     "output_type": "stream",
     "text": [
      "mmff94s\n"
     ]
    }
   ],
   "source": [
    "ff = RDKitFF('mmff94s')\n",
    "print(ff.type)"
   ]
  },
  {
   "cell_type": "markdown",
   "metadata": {},
   "source": [
    "Check optimizibility and make molecule optimizable"
   ]
  },
  {
   "cell_type": "code",
   "execution_count": 4,
   "metadata": {},
   "outputs": [
    {
     "name": "stdout",
     "output_type": "stream",
     "text": [
      "Optimizability of this molecule: True\n"
     ]
    }
   ],
   "source": [
    "opt_mol = mol1.Copy()\n",
    "ff.setup(opt_mol, ignore_interfrag_interactions=False)\n",
    "print(f'Optimizability of this molecule: {ff.is_optimizable()}')"
   ]
  },
  {
   "cell_type": "markdown",
   "metadata": {},
   "source": [
    "Optimize a single conformer (conformer 0)"
   ]
  },
  {
   "cell_type": "code",
   "execution_count": 5,
   "metadata": {},
   "outputs": [
    {
     "name": "stdout",
     "output_type": "stream",
     "text": [
      "Optimization success: True\n"
     ]
    },
    {
     "data": {
      "application/3dmoljs_load.v0": "<div id=\"3dmolviewer_1646956313785142\"  style=\"position: relative; width: 400px; height: 400px\">\n        <p id=\"3dmolwarning_1646956313785142\" style=\"background-color:#ffcccc;color:black\">You appear to be running in JupyterLab (or JavaScript failed to load for some other reason).  You need to install the 3dmol extension: <br>\n        <tt>jupyter labextension install jupyterlab_3dmol</tt></p>\n        </div>\n<script>\n\nvar loadScriptAsync = function(uri){\n  return new Promise((resolve, reject) => {\n    var tag = document.createElement('script');\n    tag.src = uri;\n    tag.async = true;\n    tag.onload = () => {\n      resolve();\n    };\n  var firstScriptTag = document.getElementsByTagName('script')[0];\n  firstScriptTag.parentNode.insertBefore(tag, firstScriptTag);\n});\n};\n\nif(typeof $3Dmolpromise === 'undefined') {\n$3Dmolpromise = null;\n  $3Dmolpromise = loadScriptAsync('https://3dmol.csb.pitt.edu/build/3Dmol.js');\n}\n\nvar viewer_1646956313785142 = null;\nvar warn = document.getElementById(\"3dmolwarning_1646956313785142\");\nif(warn) {\n    warn.parentNode.removeChild(warn);\n}\n$3Dmolpromise.then(function() {\nviewer_1646956313785142 = $3Dmol.createViewer($(\"#3dmolviewer_1646956313785142\"),{backgroundColor:\"white\"});\n\tviewer_1646956313785142.addModel(\"\\n     RDKit          3D\\n\\n 12 11  0  0  0  0  0  0  0  0999 V2000\\n   -1.5426   -0.3102   -0.0613 C   0  0  0  0  0  0  0  0  0  1  0  0\\n   -0.1266   -0.6610    0.3586 C   0  0  0  0  0  0  0  0  0  2  0  0\\n    0.8060    0.5357    0.2579 C   0  0  0  0  0  0  0  0  0  3  0  0\\n    2.1090    0.1405    0.6635 O   0  0  0  0  0  0  0  0  0  4  0  0\\n    3.0104    1.2312    0.5835 O   0  0  0  0  0  1  0  0  0  5  0  0\\n   -2.1912   -1.1879    0.0208 H   0  0  0  0  0  0  0  0  0  6  0  0\\n   -1.5694    0.0361   -1.0994 H   0  0  0  0  0  0  0  0  0  7  0  0\\n   -1.9564    0.4786    0.5751 H   0  0  0  0  0  0  0  0  0  8  0  0\\n   -0.1268   -1.0419    1.3869 H   0  0  0  0  0  0  0  0  0  9  0  0\\n    0.2549   -1.4784   -0.2649 H   0  0  0  0  0  0  0  0  0 10  0  0\\n    0.8603    0.9068   -0.7704 H   0  0  0  0  0  0  0  0  0 11  0  0\\n    0.4724    1.3504    0.9083 H   0  0  0  0  0  0  0  0  0 12  0  0\\n  1  2  1  0\\n  2  3  1  0\\n  3  4  1  0\\n  4  5  1  0\\n  1  6  1  0\\n  1  7  1  0\\n  1  8  1  0\\n  2  9  1  0\\n  2 10  1  0\\n  3 11  1  0\\n  3 12  1  0\\nM  RAD  1   5   2\\nM  END\\n\",\"sdf\");\n\tviewer_1646956313785142.setStyle({\"stick\": {\"radius\": 0.05, \"color\": \"#f2f2f2\"}, \"sphere\": {\"scale\": 0.25}});\n\tviewer_1646956313785142.addPropertyLabels(\"index\",\"\",{\"fontSize\": 15, \"fontColor\": \"white\", \"showBackground\": true, \"alignment\": \"center\", \"backgroundOpacity\": 0.2, \"backgroundColor\": \"black\"});\n\tviewer_1646956313785142.zoomTo();\nviewer_1646956313785142.render();\n});\n</script>",
      "text/html": [
       "<div id=\"3dmolviewer_1646956313785142\"  style=\"position: relative; width: 400px; height: 400px\">\n",
       "        <p id=\"3dmolwarning_1646956313785142\" style=\"background-color:#ffcccc;color:black\">You appear to be running in JupyterLab (or JavaScript failed to load for some other reason).  You need to install the 3dmol extension: <br>\n",
       "        <tt>jupyter labextension install jupyterlab_3dmol</tt></p>\n",
       "        </div>\n",
       "<script>\n",
       "\n",
       "var loadScriptAsync = function(uri){\n",
       "  return new Promise((resolve, reject) => {\n",
       "    var tag = document.createElement('script');\n",
       "    tag.src = uri;\n",
       "    tag.async = true;\n",
       "    tag.onload = () => {\n",
       "      resolve();\n",
       "    };\n",
       "  var firstScriptTag = document.getElementsByTagName('script')[0];\n",
       "  firstScriptTag.parentNode.insertBefore(tag, firstScriptTag);\n",
       "});\n",
       "};\n",
       "\n",
       "if(typeof $3Dmolpromise === 'undefined') {\n",
       "$3Dmolpromise = null;\n",
       "  $3Dmolpromise = loadScriptAsync('https://3dmol.csb.pitt.edu/build/3Dmol.js');\n",
       "}\n",
       "\n",
       "var viewer_1646956313785142 = null;\n",
       "var warn = document.getElementById(\"3dmolwarning_1646956313785142\");\n",
       "if(warn) {\n",
       "    warn.parentNode.removeChild(warn);\n",
       "}\n",
       "$3Dmolpromise.then(function() {\n",
       "viewer_1646956313785142 = $3Dmol.createViewer($(\"#3dmolviewer_1646956313785142\"),{backgroundColor:\"white\"});\n",
       "\tviewer_1646956313785142.addModel(\"\\n     RDKit          3D\\n\\n 12 11  0  0  0  0  0  0  0  0999 V2000\\n   -1.5426   -0.3102   -0.0613 C   0  0  0  0  0  0  0  0  0  1  0  0\\n   -0.1266   -0.6610    0.3586 C   0  0  0  0  0  0  0  0  0  2  0  0\\n    0.8060    0.5357    0.2579 C   0  0  0  0  0  0  0  0  0  3  0  0\\n    2.1090    0.1405    0.6635 O   0  0  0  0  0  0  0  0  0  4  0  0\\n    3.0104    1.2312    0.5835 O   0  0  0  0  0  1  0  0  0  5  0  0\\n   -2.1912   -1.1879    0.0208 H   0  0  0  0  0  0  0  0  0  6  0  0\\n   -1.5694    0.0361   -1.0994 H   0  0  0  0  0  0  0  0  0  7  0  0\\n   -1.9564    0.4786    0.5751 H   0  0  0  0  0  0  0  0  0  8  0  0\\n   -0.1268   -1.0419    1.3869 H   0  0  0  0  0  0  0  0  0  9  0  0\\n    0.2549   -1.4784   -0.2649 H   0  0  0  0  0  0  0  0  0 10  0  0\\n    0.8603    0.9068   -0.7704 H   0  0  0  0  0  0  0  0  0 11  0  0\\n    0.4724    1.3504    0.9083 H   0  0  0  0  0  0  0  0  0 12  0  0\\n  1  2  1  0\\n  2  3  1  0\\n  3  4  1  0\\n  4  5  1  0\\n  1  6  1  0\\n  1  7  1  0\\n  1  8  1  0\\n  2  9  1  0\\n  2 10  1  0\\n  3 11  1  0\\n  3 12  1  0\\nM  RAD  1   5   2\\nM  END\\n\",\"sdf\");\n",
       "\tviewer_1646956313785142.setStyle({\"stick\": {\"radius\": 0.05, \"color\": \"#f2f2f2\"}, \"sphere\": {\"scale\": 0.25}});\n",
       "\tviewer_1646956313785142.addPropertyLabels(\"index\",\"\",{\"fontSize\": 15, \"fontColor\": \"white\", \"showBackground\": true, \"alignment\": \"center\", \"backgroundOpacity\": 0.2, \"backgroundColor\": \"black\"});\n",
       "\tviewer_1646956313785142.zoomTo();\n",
       "viewer_1646956313785142.render();\n",
       "});\n",
       "</script>"
      ]
     },
     "metadata": {},
     "output_type": "display_data"
    },
    {
     "data": {
      "text/plain": [
       "<py3Dmol.view at 0x7fc075542910>"
      ]
     },
     "execution_count": 5,
     "metadata": {},
     "output_type": "execute_result"
    }
   ],
   "source": [
    "success = ff.optimize()\n",
    "print(f'Optimization success: {success}')\n",
    "opt_mol = ff.get_optimized_mol()\n",
    "mol_viewer(opt_mol)"
   ]
  },
  {
   "cell_type": "markdown",
   "metadata": {},
   "source": [
    "## 2. Openbabel Force Field"
   ]
  },
  {
   "cell_type": "markdown",
   "metadata": {},
   "source": [
    "Create a Openbabel force field object"
   ]
  },
  {
   "cell_type": "code",
   "execution_count": 6,
   "metadata": {},
   "outputs": [
    {
     "name": "stdout",
     "output_type": "stream",
     "text": [
      "mmff94s\n"
     ]
    }
   ],
   "source": [
    "obff = OpenBabelFF('mmff94s')\n",
    "print(obff.type)"
   ]
  },
  {
   "cell_type": "markdown",
   "metadata": {},
   "source": [
    "Check optimizibility and make molecule optimizable"
   ]
  },
  {
   "cell_type": "code",
   "execution_count": 7,
   "metadata": {},
   "outputs": [
    {
     "name": "stdout",
     "output_type": "stream",
     "text": [
      "Optimizability of this molecule: True\n"
     ]
    }
   ],
   "source": [
    "opt_mol = mol1.Copy()\n",
    "obff.setup(opt_mol)\n",
    "print(f'Optimizability of this molecule: {obff.is_optimizable()}')"
   ]
  },
  {
   "cell_type": "code",
   "execution_count": 8,
   "metadata": {},
   "outputs": [
    {
     "data": {
      "application/3dmoljs_load.v0": "<div id=\"3dmolviewer_16469563216346712\"  style=\"position: relative; width: 400px; height: 400px\">\n        <p id=\"3dmolwarning_16469563216346712\" style=\"background-color:#ffcccc;color:black\">You appear to be running in JupyterLab (or JavaScript failed to load for some other reason).  You need to install the 3dmol extension: <br>\n        <tt>jupyter labextension install jupyterlab_3dmol</tt></p>\n        </div>\n<script>\n\nvar loadScriptAsync = function(uri){\n  return new Promise((resolve, reject) => {\n    var tag = document.createElement('script');\n    tag.src = uri;\n    tag.async = true;\n    tag.onload = () => {\n      resolve();\n    };\n  var firstScriptTag = document.getElementsByTagName('script')[0];\n  firstScriptTag.parentNode.insertBefore(tag, firstScriptTag);\n});\n};\n\nif(typeof $3Dmolpromise === 'undefined') {\n$3Dmolpromise = null;\n  $3Dmolpromise = loadScriptAsync('https://3dmol.csb.pitt.edu/build/3Dmol.js');\n}\n\nvar viewer_16469563216346712 = null;\nvar warn = document.getElementById(\"3dmolwarning_16469563216346712\");\nif(warn) {\n    warn.parentNode.removeChild(warn);\n}\n$3Dmolpromise.then(function() {\nviewer_16469563216346712 = $3Dmol.createViewer($(\"#3dmolviewer_16469563216346712\"),{backgroundColor:\"white\"});\n\tviewer_16469563216346712.addModel(\"\\n     RDKit          3D\\n\\n 12 11  0  0  0  0  0  0  0  0999 V2000\\n   -1.5380   -0.2957   -0.0673 C   0  0  0  0  0  0  0  0  0  1  0  0\\n   -0.1263   -0.6608    0.3533 C   0  0  0  0  0  0  0  0  0  2  0  0\\n    0.8192    0.5298    0.2643 C   0  0  0  0  0  0  0  0  0  3  0  0\\n    2.1215    0.1008    0.6509 O   0  0  0  0  0  0  0  0  0  4  0  0\\n    2.9301    1.2476    0.5704 O   0  0  0  0  0  1  0  0  0  5  0  0\\n   -2.2071   -1.1511    0.0666 H   0  0  0  0  0  0  0  0  0  6  0  0\\n   -1.5679   -0.0028   -1.1216 H   0  0  0  0  0  0  0  0  0  7  0  0\\n   -1.9252    0.5355    0.5312 H   0  0  0  0  0  0  0  0  0  8  0  0\\n   -0.1318   -1.0448    1.3807 H   0  0  0  0  0  0  0  0  0  9  0  0\\n    0.2489   -1.4798   -0.2719 H   0  0  0  0  0  0  0  0  0 10  0  0\\n    0.8539    0.9145   -0.7624 H   0  0  0  0  0  0  0  0  0 11  0  0\\n    0.4858    1.3301    0.9348 H   0  0  0  0  0  0  0  0  0 12  0  0\\n  1  2  1  0\\n  2  3  1  0\\n  3  4  1  0\\n  4  5  1  0\\n  1  6  1  0\\n  1  7  1  0\\n  1  8  1  0\\n  2  9  1  0\\n  2 10  1  0\\n  3 11  1  0\\n  3 12  1  0\\nM  RAD  1   5   2\\nM  END\\n\",\"sdf\");\n\tviewer_16469563216346712.setStyle({\"stick\": {\"radius\": 0.05, \"color\": \"#f2f2f2\"}, \"sphere\": {\"scale\": 0.25}});\n\tviewer_16469563216346712.addPropertyLabels(\"index\",\"\",{\"fontSize\": 15, \"fontColor\": \"white\", \"showBackground\": true, \"alignment\": \"center\", \"backgroundOpacity\": 0.2, \"backgroundColor\": \"black\"});\n\tviewer_16469563216346712.zoomTo();\nviewer_16469563216346712.render();\n});\n</script>",
      "text/html": [
       "<div id=\"3dmolviewer_16469563216346712\"  style=\"position: relative; width: 400px; height: 400px\">\n",
       "        <p id=\"3dmolwarning_16469563216346712\" style=\"background-color:#ffcccc;color:black\">You appear to be running in JupyterLab (or JavaScript failed to load for some other reason).  You need to install the 3dmol extension: <br>\n",
       "        <tt>jupyter labextension install jupyterlab_3dmol</tt></p>\n",
       "        </div>\n",
       "<script>\n",
       "\n",
       "var loadScriptAsync = function(uri){\n",
       "  return new Promise((resolve, reject) => {\n",
       "    var tag = document.createElement('script');\n",
       "    tag.src = uri;\n",
       "    tag.async = true;\n",
       "    tag.onload = () => {\n",
       "      resolve();\n",
       "    };\n",
       "  var firstScriptTag = document.getElementsByTagName('script')[0];\n",
       "  firstScriptTag.parentNode.insertBefore(tag, firstScriptTag);\n",
       "});\n",
       "};\n",
       "\n",
       "if(typeof $3Dmolpromise === 'undefined') {\n",
       "$3Dmolpromise = null;\n",
       "  $3Dmolpromise = loadScriptAsync('https://3dmol.csb.pitt.edu/build/3Dmol.js');\n",
       "}\n",
       "\n",
       "var viewer_16469563216346712 = null;\n",
       "var warn = document.getElementById(\"3dmolwarning_16469563216346712\");\n",
       "if(warn) {\n",
       "    warn.parentNode.removeChild(warn);\n",
       "}\n",
       "$3Dmolpromise.then(function() {\n",
       "viewer_16469563216346712 = $3Dmol.createViewer($(\"#3dmolviewer_16469563216346712\"),{backgroundColor:\"white\"});\n",
       "\tviewer_16469563216346712.addModel(\"\\n     RDKit          3D\\n\\n 12 11  0  0  0  0  0  0  0  0999 V2000\\n   -1.5380   -0.2957   -0.0673 C   0  0  0  0  0  0  0  0  0  1  0  0\\n   -0.1263   -0.6608    0.3533 C   0  0  0  0  0  0  0  0  0  2  0  0\\n    0.8192    0.5298    0.2643 C   0  0  0  0  0  0  0  0  0  3  0  0\\n    2.1215    0.1008    0.6509 O   0  0  0  0  0  0  0  0  0  4  0  0\\n    2.9301    1.2476    0.5704 O   0  0  0  0  0  1  0  0  0  5  0  0\\n   -2.2071   -1.1511    0.0666 H   0  0  0  0  0  0  0  0  0  6  0  0\\n   -1.5679   -0.0028   -1.1216 H   0  0  0  0  0  0  0  0  0  7  0  0\\n   -1.9252    0.5355    0.5312 H   0  0  0  0  0  0  0  0  0  8  0  0\\n   -0.1318   -1.0448    1.3807 H   0  0  0  0  0  0  0  0  0  9  0  0\\n    0.2489   -1.4798   -0.2719 H   0  0  0  0  0  0  0  0  0 10  0  0\\n    0.8539    0.9145   -0.7624 H   0  0  0  0  0  0  0  0  0 11  0  0\\n    0.4858    1.3301    0.9348 H   0  0  0  0  0  0  0  0  0 12  0  0\\n  1  2  1  0\\n  2  3  1  0\\n  3  4  1  0\\n  4  5  1  0\\n  1  6  1  0\\n  1  7  1  0\\n  1  8  1  0\\n  2  9  1  0\\n  2 10  1  0\\n  3 11  1  0\\n  3 12  1  0\\nM  RAD  1   5   2\\nM  END\\n\",\"sdf\");\n",
       "\tviewer_16469563216346712.setStyle({\"stick\": {\"radius\": 0.05, \"color\": \"#f2f2f2\"}, \"sphere\": {\"scale\": 0.25}});\n",
       "\tviewer_16469563216346712.addPropertyLabels(\"index\",\"\",{\"fontSize\": 15, \"fontColor\": \"white\", \"showBackground\": true, \"alignment\": \"center\", \"backgroundOpacity\": 0.2, \"backgroundColor\": \"black\"});\n",
       "\tviewer_16469563216346712.zoomTo();\n",
       "viewer_16469563216346712.render();\n",
       "});\n",
       "</script>"
      ]
     },
     "metadata": {},
     "output_type": "display_data"
    },
    {
     "data": {
      "text/plain": [
       "<py3Dmol.view at 0x7fc0750c5bd0>"
      ]
     },
     "execution_count": 8,
     "metadata": {},
     "output_type": "execute_result"
    }
   ],
   "source": [
    "obff.optimize()\n",
    "opt_mol = obff.get_optimized_mol()\n",
    "mol_viewer(opt_mol)"
   ]
  },
  {
   "cell_type": "markdown",
   "metadata": {},
   "source": [
    "## 3. Intermolecular optimization\n",
    "RDKitFF and OpenBabelFF may not converge to the same orientation due to being differently parametrized"
   ]
  },
  {
   "cell_type": "code",
   "execution_count": 9,
   "metadata": {},
   "outputs": [
    {
     "name": "stdout",
     "output_type": "stream",
     "text": [
      "Before optimization\n"
     ]
    },
    {
     "data": {
      "application/3dmoljs_load.v0": "<div id=\"3dmolviewer_1646956324784266\"  style=\"position: relative; width: 400px; height: 400px\">\n        <p id=\"3dmolwarning_1646956324784266\" style=\"background-color:#ffcccc;color:black\">You appear to be running in JupyterLab (or JavaScript failed to load for some other reason).  You need to install the 3dmol extension: <br>\n        <tt>jupyter labextension install jupyterlab_3dmol</tt></p>\n        </div>\n<script>\n\nvar loadScriptAsync = function(uri){\n  return new Promise((resolve, reject) => {\n    var tag = document.createElement('script');\n    tag.src = uri;\n    tag.async = true;\n    tag.onload = () => {\n      resolve();\n    };\n  var firstScriptTag = document.getElementsByTagName('script')[0];\n  firstScriptTag.parentNode.insertBefore(tag, firstScriptTag);\n});\n};\n\nif(typeof $3Dmolpromise === 'undefined') {\n$3Dmolpromise = null;\n  $3Dmolpromise = loadScriptAsync('https://3dmol.csb.pitt.edu/build/3Dmol.js');\n}\n\nvar viewer_1646956324784266 = null;\nvar warn = document.getElementById(\"3dmolwarning_1646956324784266\");\nif(warn) {\n    warn.parentNode.removeChild(warn);\n}\n$3Dmolpromise.then(function() {\nviewer_1646956324784266 = $3Dmol.createViewer($(\"#3dmolviewer_1646956324784266\"),{backgroundColor:\"white\"});\n\tviewer_1646956324784266.addModel(\"\\n     RDKit          3D\\n\\n  8  6  0  0  0  0  0  0  0  0999 V2000\\n   -0.0320    0.0136    0.0023 C   0  0  0  0  0  0  0  0  0  1  0  0\\n    1.1818   -0.0860   -0.0775 O   0  0  0  0  0  0  0  0  0  2  0  0\\n   -0.0259   -0.0051   -0.0044 C   0  0  0  0  0  0  0  0  0  3  0  0\\n    1.1805   -0.0144    0.1675 O   0  0  0  0  0  0  0  0  0  4  0  0\\n   -0.6198   -0.8938    0.0277 H   0  0  0  0  0  0  0  0  0  5  0  0\\n   -0.5300    0.9662    0.0475 H   0  0  0  0  0  0  0  0  0  6  0  0\\n   -0.5720    0.9234    0.0399 H   0  0  0  0  0  0  0  0  0  7  0  0\\n   -0.5826   -0.9038   -0.2030 H   0  0  0  0  0  0  0  0  0  8  0  0\\n  1  2  2  0\\n  3  4  2  0\\n  1  5  1  0\\n  1  6  1  0\\n  3  7  1  0\\n  3  8  1  0\\nM  END\\n\",\"sdf\");\n\tviewer_1646956324784266.setStyle({\"stick\": {\"radius\": 0.05, \"color\": \"#f2f2f2\"}, \"sphere\": {\"scale\": 0.25}});\n\tviewer_1646956324784266.addPropertyLabels(\"index\",\"\",{\"fontSize\": 15, \"fontColor\": \"white\", \"showBackground\": true, \"alignment\": \"center\", \"backgroundOpacity\": 0.2, \"backgroundColor\": \"black\"});\n\tviewer_1646956324784266.zoomTo();\nviewer_1646956324784266.render();\n});\n</script>",
      "text/html": [
       "<div id=\"3dmolviewer_1646956324784266\"  style=\"position: relative; width: 400px; height: 400px\">\n",
       "        <p id=\"3dmolwarning_1646956324784266\" style=\"background-color:#ffcccc;color:black\">You appear to be running in JupyterLab (or JavaScript failed to load for some other reason).  You need to install the 3dmol extension: <br>\n",
       "        <tt>jupyter labextension install jupyterlab_3dmol</tt></p>\n",
       "        </div>\n",
       "<script>\n",
       "\n",
       "var loadScriptAsync = function(uri){\n",
       "  return new Promise((resolve, reject) => {\n",
       "    var tag = document.createElement('script');\n",
       "    tag.src = uri;\n",
       "    tag.async = true;\n",
       "    tag.onload = () => {\n",
       "      resolve();\n",
       "    };\n",
       "  var firstScriptTag = document.getElementsByTagName('script')[0];\n",
       "  firstScriptTag.parentNode.insertBefore(tag, firstScriptTag);\n",
       "});\n",
       "};\n",
       "\n",
       "if(typeof $3Dmolpromise === 'undefined') {\n",
       "$3Dmolpromise = null;\n",
       "  $3Dmolpromise = loadScriptAsync('https://3dmol.csb.pitt.edu/build/3Dmol.js');\n",
       "}\n",
       "\n",
       "var viewer_1646956324784266 = null;\n",
       "var warn = document.getElementById(\"3dmolwarning_1646956324784266\");\n",
       "if(warn) {\n",
       "    warn.parentNode.removeChild(warn);\n",
       "}\n",
       "$3Dmolpromise.then(function() {\n",
       "viewer_1646956324784266 = $3Dmol.createViewer($(\"#3dmolviewer_1646956324784266\"),{backgroundColor:\"white\"});\n",
       "\tviewer_1646956324784266.addModel(\"\\n     RDKit          3D\\n\\n  8  6  0  0  0  0  0  0  0  0999 V2000\\n   -0.0320    0.0136    0.0023 C   0  0  0  0  0  0  0  0  0  1  0  0\\n    1.1818   -0.0860   -0.0775 O   0  0  0  0  0  0  0  0  0  2  0  0\\n   -0.0259   -0.0051   -0.0044 C   0  0  0  0  0  0  0  0  0  3  0  0\\n    1.1805   -0.0144    0.1675 O   0  0  0  0  0  0  0  0  0  4  0  0\\n   -0.6198   -0.8938    0.0277 H   0  0  0  0  0  0  0  0  0  5  0  0\\n   -0.5300    0.9662    0.0475 H   0  0  0  0  0  0  0  0  0  6  0  0\\n   -0.5720    0.9234    0.0399 H   0  0  0  0  0  0  0  0  0  7  0  0\\n   -0.5826   -0.9038   -0.2030 H   0  0  0  0  0  0  0  0  0  8  0  0\\n  1  2  2  0\\n  3  4  2  0\\n  1  5  1  0\\n  1  6  1  0\\n  3  7  1  0\\n  3  8  1  0\\nM  END\\n\",\"sdf\");\n",
       "\tviewer_1646956324784266.setStyle({\"stick\": {\"radius\": 0.05, \"color\": \"#f2f2f2\"}, \"sphere\": {\"scale\": 0.25}});\n",
       "\tviewer_1646956324784266.addPropertyLabels(\"index\",\"\",{\"fontSize\": 15, \"fontColor\": \"white\", \"showBackground\": true, \"alignment\": \"center\", \"backgroundOpacity\": 0.2, \"backgroundColor\": \"black\"});\n",
       "\tviewer_1646956324784266.zoomTo();\n",
       "viewer_1646956324784266.render();\n",
       "});\n",
       "</script>"
      ]
     },
     "metadata": {},
     "output_type": "display_data"
    },
    {
     "data": {
      "text/plain": [
       "<py3Dmol.view at 0x7fc0751e3d10>"
      ]
     },
     "execution_count": 9,
     "metadata": {},
     "output_type": "execute_result"
    }
   ],
   "source": [
    "mol2 = RDKitMol.FromSmiles('C=O.C=O')\n",
    "mol2.EmbedConformer()\n",
    "\n",
    "print('Before optimization')\n",
    "mol_viewer(mol2)"
   ]
  },
  {
   "cell_type": "markdown",
   "metadata": {},
   "source": [
    "RDKitFF"
   ]
  },
  {
   "cell_type": "code",
   "execution_count": 10,
   "metadata": {},
   "outputs": [
    {
     "data": {
      "application/3dmoljs_load.v0": "<div id=\"3dmolviewer_1646956328984415\"  style=\"position: relative; width: 400px; height: 400px\">\n        <p id=\"3dmolwarning_1646956328984415\" style=\"background-color:#ffcccc;color:black\">You appear to be running in JupyterLab (or JavaScript failed to load for some other reason).  You need to install the 3dmol extension: <br>\n        <tt>jupyter labextension install jupyterlab_3dmol</tt></p>\n        </div>\n<script>\n\nvar loadScriptAsync = function(uri){\n  return new Promise((resolve, reject) => {\n    var tag = document.createElement('script');\n    tag.src = uri;\n    tag.async = true;\n    tag.onload = () => {\n      resolve();\n    };\n  var firstScriptTag = document.getElementsByTagName('script')[0];\n  firstScriptTag.parentNode.insertBefore(tag, firstScriptTag);\n});\n};\n\nif(typeof $3Dmolpromise === 'undefined') {\n$3Dmolpromise = null;\n  $3Dmolpromise = loadScriptAsync('https://3dmol.csb.pitt.edu/build/3Dmol.js');\n}\n\nvar viewer_1646956328984415 = null;\nvar warn = document.getElementById(\"3dmolwarning_1646956328984415\");\nif(warn) {\n    warn.parentNode.removeChild(warn);\n}\n$3Dmolpromise.then(function() {\nviewer_1646956328984415 = $3Dmol.createViewer($(\"#3dmolviewer_1646956328984415\"),{backgroundColor:\"white\"});\n\tviewer_1646956328984415.addModel(\"\\n     RDKit          3D\\n\\n  8  6  0  0  0  0  0  0  0  0999 V2000\\n   -0.3555    1.6205    0.1154 C   0  0  0  0  0  0  0  0  0  1  0  0\\n   -0.6611    1.1893   -0.9916 O   0  0  0  0  0  0  0  0  0  2  0  0\\n    0.3552   -1.6206   -0.1153 C   0  0  0  0  0  0  0  0  0  3  0  0\\n    0.6112   -1.1998    1.0082 O   0  0  0  0  0  0  0  0  0  4  0  0\\n   -0.9275    1.3685    1.0229 H   0  0  0  0  0  0  0  0  0  5  0  0\\n    0.5132    2.2801    0.2700 H   0  0  0  0  0  0  0  0  0  6  0  0\\n   -0.6791   -1.7563   -0.4706 H   0  0  0  0  0  0  0  0  0  7  0  0\\n    1.1436   -1.8816   -0.8390 H   0  0  0  0  0  0  0  0  0  8  0  0\\n  1  2  2  0\\n  3  4  2  0\\n  1  5  1  0\\n  1  6  1  0\\n  3  7  1  0\\n  3  8  1  0\\nM  END\\n\",\"sdf\");\n\tviewer_1646956328984415.setStyle({\"stick\": {\"radius\": 0.05, \"color\": \"#f2f2f2\"}, \"sphere\": {\"scale\": 0.25}});\n\tviewer_1646956328984415.addPropertyLabels(\"index\",\"\",{\"fontSize\": 15, \"fontColor\": \"white\", \"showBackground\": true, \"alignment\": \"center\", \"backgroundOpacity\": 0.2, \"backgroundColor\": \"black\"});\n\tviewer_1646956328984415.zoomTo();\nviewer_1646956328984415.render();\n});\n</script>",
      "text/html": [
       "<div id=\"3dmolviewer_1646956328984415\"  style=\"position: relative; width: 400px; height: 400px\">\n",
       "        <p id=\"3dmolwarning_1646956328984415\" style=\"background-color:#ffcccc;color:black\">You appear to be running in JupyterLab (or JavaScript failed to load for some other reason).  You need to install the 3dmol extension: <br>\n",
       "        <tt>jupyter labextension install jupyterlab_3dmol</tt></p>\n",
       "        </div>\n",
       "<script>\n",
       "\n",
       "var loadScriptAsync = function(uri){\n",
       "  return new Promise((resolve, reject) => {\n",
       "    var tag = document.createElement('script');\n",
       "    tag.src = uri;\n",
       "    tag.async = true;\n",
       "    tag.onload = () => {\n",
       "      resolve();\n",
       "    };\n",
       "  var firstScriptTag = document.getElementsByTagName('script')[0];\n",
       "  firstScriptTag.parentNode.insertBefore(tag, firstScriptTag);\n",
       "});\n",
       "};\n",
       "\n",
       "if(typeof $3Dmolpromise === 'undefined') {\n",
       "$3Dmolpromise = null;\n",
       "  $3Dmolpromise = loadScriptAsync('https://3dmol.csb.pitt.edu/build/3Dmol.js');\n",
       "}\n",
       "\n",
       "var viewer_1646956328984415 = null;\n",
       "var warn = document.getElementById(\"3dmolwarning_1646956328984415\");\n",
       "if(warn) {\n",
       "    warn.parentNode.removeChild(warn);\n",
       "}\n",
       "$3Dmolpromise.then(function() {\n",
       "viewer_1646956328984415 = $3Dmol.createViewer($(\"#3dmolviewer_1646956328984415\"),{backgroundColor:\"white\"});\n",
       "\tviewer_1646956328984415.addModel(\"\\n     RDKit          3D\\n\\n  8  6  0  0  0  0  0  0  0  0999 V2000\\n   -0.3555    1.6205    0.1154 C   0  0  0  0  0  0  0  0  0  1  0  0\\n   -0.6611    1.1893   -0.9916 O   0  0  0  0  0  0  0  0  0  2  0  0\\n    0.3552   -1.6206   -0.1153 C   0  0  0  0  0  0  0  0  0  3  0  0\\n    0.6112   -1.1998    1.0082 O   0  0  0  0  0  0  0  0  0  4  0  0\\n   -0.9275    1.3685    1.0229 H   0  0  0  0  0  0  0  0  0  5  0  0\\n    0.5132    2.2801    0.2700 H   0  0  0  0  0  0  0  0  0  6  0  0\\n   -0.6791   -1.7563   -0.4706 H   0  0  0  0  0  0  0  0  0  7  0  0\\n    1.1436   -1.8816   -0.8390 H   0  0  0  0  0  0  0  0  0  8  0  0\\n  1  2  2  0\\n  3  4  2  0\\n  1  5  1  0\\n  1  6  1  0\\n  3  7  1  0\\n  3  8  1  0\\nM  END\\n\",\"sdf\");\n",
       "\tviewer_1646956328984415.setStyle({\"stick\": {\"radius\": 0.05, \"color\": \"#f2f2f2\"}, \"sphere\": {\"scale\": 0.25}});\n",
       "\tviewer_1646956328984415.addPropertyLabels(\"index\",\"\",{\"fontSize\": 15, \"fontColor\": \"white\", \"showBackground\": true, \"alignment\": \"center\", \"backgroundOpacity\": 0.2, \"backgroundColor\": \"black\"});\n",
       "\tviewer_1646956328984415.zoomTo();\n",
       "viewer_1646956328984415.render();\n",
       "});\n",
       "</script>"
      ]
     },
     "metadata": {},
     "output_type": "display_data"
    },
    {
     "data": {
      "text/plain": [
       "<py3Dmol.view at 0x7fc072c65350>"
      ]
     },
     "execution_count": 10,
     "metadata": {},
     "output_type": "execute_result"
    }
   ],
   "source": [
    "ff = RDKitFF()\n",
    "ff.setup(mol2.Copy(), ignore_interfrag_interactions=False)\n",
    "ff.optimize()\n",
    "mol_viewer(ff.get_optimized_mol())"
   ]
  },
  {
   "cell_type": "markdown",
   "metadata": {},
   "source": [
    "OpenBabelFF"
   ]
  },
  {
   "cell_type": "code",
   "execution_count": 11,
   "metadata": {},
   "outputs": [
    {
     "data": {
      "application/3dmoljs_load.v0": "<div id=\"3dmolviewer_1646956335981277\"  style=\"position: relative; width: 400px; height: 400px\">\n        <p id=\"3dmolwarning_1646956335981277\" style=\"background-color:#ffcccc;color:black\">You appear to be running in JupyterLab (or JavaScript failed to load for some other reason).  You need to install the 3dmol extension: <br>\n        <tt>jupyter labextension install jupyterlab_3dmol</tt></p>\n        </div>\n<script>\n\nvar loadScriptAsync = function(uri){\n  return new Promise((resolve, reject) => {\n    var tag = document.createElement('script');\n    tag.src = uri;\n    tag.async = true;\n    tag.onload = () => {\n      resolve();\n    };\n  var firstScriptTag = document.getElementsByTagName('script')[0];\n  firstScriptTag.parentNode.insertBefore(tag, firstScriptTag);\n});\n};\n\nif(typeof $3Dmolpromise === 'undefined') {\n$3Dmolpromise = null;\n  $3Dmolpromise = loadScriptAsync('https://3dmol.csb.pitt.edu/build/3Dmol.js');\n}\n\nvar viewer_1646956335981277 = null;\nvar warn = document.getElementById(\"3dmolwarning_1646956335981277\");\nif(warn) {\n    warn.parentNode.removeChild(warn);\n}\n$3Dmolpromise.then(function() {\nviewer_1646956335981277 = $3Dmol.createViewer($(\"#3dmolviewer_1646956335981277\"),{backgroundColor:\"white\"});\n\tviewer_1646956335981277.addModel(\"\\n     RDKit          3D\\n\\n  8  6  0  0  0  0  0  0  0  0999 V2000\\n   -0.2067    1.5825    0.1431 C   0  0  0  0  0  0  0  0  0  1  0  0\\n   -0.2424    1.0112   -0.9415 O   0  0  0  0  0  0  0  0  0  2  0  0\\n    0.1744   -1.8216   -0.0780 C   0  0  0  0  0  0  0  0  0  3  0  0\\n    0.6955   -1.7537    1.0313 O   0  0  0  0  0  0  0  0  0  4  0  0\\n   -0.2328    1.0323    1.0977 H   0  0  0  0  0  0  0  0  0  5  0  0\\n   -0.1553    2.6798    0.2287 H   0  0  0  0  0  0  0  0  0  6  0  0\\n   -0.9167   -1.7913   -0.2134 H   0  0  0  0  0  0  0  0  0  7  0  0\\n    0.7649   -1.9021   -1.0057 H   0  0  0  0  0  0  0  0  0  8  0  0\\n  1  2  2  0\\n  3  4  2  0\\n  1  5  1  0\\n  1  6  1  0\\n  3  7  1  0\\n  3  8  1  0\\nM  END\\n\",\"sdf\");\n\tviewer_1646956335981277.setStyle({\"stick\": {\"radius\": 0.05, \"color\": \"#f2f2f2\"}, \"sphere\": {\"scale\": 0.25}});\n\tviewer_1646956335981277.addPropertyLabels(\"index\",\"\",{\"fontSize\": 15, \"fontColor\": \"white\", \"showBackground\": true, \"alignment\": \"center\", \"backgroundOpacity\": 0.2, \"backgroundColor\": \"black\"});\n\tviewer_1646956335981277.zoomTo();\nviewer_1646956335981277.render();\n});\n</script>",
      "text/html": [
       "<div id=\"3dmolviewer_1646956335981277\"  style=\"position: relative; width: 400px; height: 400px\">\n",
       "        <p id=\"3dmolwarning_1646956335981277\" style=\"background-color:#ffcccc;color:black\">You appear to be running in JupyterLab (or JavaScript failed to load for some other reason).  You need to install the 3dmol extension: <br>\n",
       "        <tt>jupyter labextension install jupyterlab_3dmol</tt></p>\n",
       "        </div>\n",
       "<script>\n",
       "\n",
       "var loadScriptAsync = function(uri){\n",
       "  return new Promise((resolve, reject) => {\n",
       "    var tag = document.createElement('script');\n",
       "    tag.src = uri;\n",
       "    tag.async = true;\n",
       "    tag.onload = () => {\n",
       "      resolve();\n",
       "    };\n",
       "  var firstScriptTag = document.getElementsByTagName('script')[0];\n",
       "  firstScriptTag.parentNode.insertBefore(tag, firstScriptTag);\n",
       "});\n",
       "};\n",
       "\n",
       "if(typeof $3Dmolpromise === 'undefined') {\n",
       "$3Dmolpromise = null;\n",
       "  $3Dmolpromise = loadScriptAsync('https://3dmol.csb.pitt.edu/build/3Dmol.js');\n",
       "}\n",
       "\n",
       "var viewer_1646956335981277 = null;\n",
       "var warn = document.getElementById(\"3dmolwarning_1646956335981277\");\n",
       "if(warn) {\n",
       "    warn.parentNode.removeChild(warn);\n",
       "}\n",
       "$3Dmolpromise.then(function() {\n",
       "viewer_1646956335981277 = $3Dmol.createViewer($(\"#3dmolviewer_1646956335981277\"),{backgroundColor:\"white\"});\n",
       "\tviewer_1646956335981277.addModel(\"\\n     RDKit          3D\\n\\n  8  6  0  0  0  0  0  0  0  0999 V2000\\n   -0.2067    1.5825    0.1431 C   0  0  0  0  0  0  0  0  0  1  0  0\\n   -0.2424    1.0112   -0.9415 O   0  0  0  0  0  0  0  0  0  2  0  0\\n    0.1744   -1.8216   -0.0780 C   0  0  0  0  0  0  0  0  0  3  0  0\\n    0.6955   -1.7537    1.0313 O   0  0  0  0  0  0  0  0  0  4  0  0\\n   -0.2328    1.0323    1.0977 H   0  0  0  0  0  0  0  0  0  5  0  0\\n   -0.1553    2.6798    0.2287 H   0  0  0  0  0  0  0  0  0  6  0  0\\n   -0.9167   -1.7913   -0.2134 H   0  0  0  0  0  0  0  0  0  7  0  0\\n    0.7649   -1.9021   -1.0057 H   0  0  0  0  0  0  0  0  0  8  0  0\\n  1  2  2  0\\n  3  4  2  0\\n  1  5  1  0\\n  1  6  1  0\\n  3  7  1  0\\n  3  8  1  0\\nM  END\\n\",\"sdf\");\n",
       "\tviewer_1646956335981277.setStyle({\"stick\": {\"radius\": 0.05, \"color\": \"#f2f2f2\"}, \"sphere\": {\"scale\": 0.25}});\n",
       "\tviewer_1646956335981277.addPropertyLabels(\"index\",\"\",{\"fontSize\": 15, \"fontColor\": \"white\", \"showBackground\": true, \"alignment\": \"center\", \"backgroundOpacity\": 0.2, \"backgroundColor\": \"black\"});\n",
       "\tviewer_1646956335981277.zoomTo();\n",
       "viewer_1646956335981277.render();\n",
       "});\n",
       "</script>"
      ]
     },
     "metadata": {},
     "output_type": "display_data"
    },
    {
     "data": {
      "text/plain": [
       "<py3Dmol.view at 0x7fc0749f3910>"
      ]
     },
     "execution_count": 11,
     "metadata": {},
     "output_type": "execute_result"
    }
   ],
   "source": [
    "ff = OpenBabelFF()\n",
    "ff.setup(mol2.Copy())\n",
    "ff.optimize()\n",
    "mol_viewer(ff.get_optimized_mol())"
   ]
  },
  {
   "cell_type": "markdown",
   "metadata": {},
   "source": [
    "## 4. Constrained optimization"
   ]
  },
  {
   "cell_type": "markdown",
   "metadata": {},
   "source": [
    "Set atom (1, 2) and (0, 3) = 2 Angstrom"
   ]
  },
  {
   "cell_type": "code",
   "execution_count": 12,
   "metadata": {},
   "outputs": [
    {
     "name": "stdout",
     "output_type": "stream",
     "text": [
      "Before optimization\n",
      "d(1,2) = 3.091533633597571\n",
      "d(0,3) = 5.54344245067431\n",
      "\n"
     ]
    },
    {
     "data": {
      "application/3dmoljs_load.v0": "<div id=\"3dmolviewer_16469563381801379\"  style=\"position: relative; width: 400px; height: 400px\">\n        <p id=\"3dmolwarning_16469563381801379\" style=\"background-color:#ffcccc;color:black\">You appear to be running in JupyterLab (or JavaScript failed to load for some other reason).  You need to install the 3dmol extension: <br>\n        <tt>jupyter labextension install jupyterlab_3dmol</tt></p>\n        </div>\n<script>\n\nvar loadScriptAsync = function(uri){\n  return new Promise((resolve, reject) => {\n    var tag = document.createElement('script');\n    tag.src = uri;\n    tag.async = true;\n    tag.onload = () => {\n      resolve();\n    };\n  var firstScriptTag = document.getElementsByTagName('script')[0];\n  firstScriptTag.parentNode.insertBefore(tag, firstScriptTag);\n});\n};\n\nif(typeof $3Dmolpromise === 'undefined') {\n$3Dmolpromise = null;\n  $3Dmolpromise = loadScriptAsync('https://3dmol.csb.pitt.edu/build/3Dmol.js');\n}\n\nvar viewer_16469563381801379 = null;\nvar warn = document.getElementById(\"3dmolwarning_16469563381801379\");\nif(warn) {\n    warn.parentNode.removeChild(warn);\n}\n$3Dmolpromise.then(function() {\nviewer_16469563381801379 = $3Dmol.createViewer($(\"#3dmolviewer_16469563381801379\"),{backgroundColor:\"white\"});\n\tviewer_16469563381801379.addModel(\"\\n     RDKit          3D\\n\\n  8  6  0  0  0  0  0  0  0  0999 V2000\\n    2.1642    0.1807    0.0054 C   0  0  0  0  0  0  0  0  0  1  0  0\\n    0.9426    0.0787    0.0023 O   0  0  0  0  0  0  0  0  0  2  0  0\\n   -2.1382   -0.1785   -0.0053 C   0  0  0  0  0  0  0  0  0  3  0  0\\n   -3.3600   -0.2805   -0.0084 O   0  0  0  0  0  0  0  0  0  4  0  0\\n    2.8265   -0.6920    0.1238 H   0  0  0  0  0  0  0  0  0  5  0  0\\n    2.6732    1.1511   -0.1101 H   0  0  0  0  0  0  0  0  0  6  0  0\\n   -1.5187   -0.5296   -0.8456 H   0  0  0  0  0  0  0  0  0  7  0  0\\n   -1.5896    0.2701    0.8379 H   0  0  0  0  0  0  0  0  0  8  0  0\\n  7  3  1  0\\n  6  1  1  0\\n  4  3  2  0\\n  3  8  1  0\\n  2  1  2  0\\n  1  5  1  0\\nM  END\\n\",\"sdf\");\n\tviewer_16469563381801379.setStyle({\"stick\": {\"radius\": 0.05, \"color\": \"#f2f2f2\"}, \"sphere\": {\"scale\": 0.25}});\n\tviewer_16469563381801379.addPropertyLabels(\"index\",\"\",{\"fontSize\": 15, \"fontColor\": \"white\", \"showBackground\": true, \"alignment\": \"center\", \"backgroundOpacity\": 0.2, \"backgroundColor\": \"black\"});\n\tviewer_16469563381801379.zoomTo();\nviewer_16469563381801379.render();\n});\n</script><script>\n            $3Dmolpromise.done(function() { //wrap in promise for non-interactive functionality\n                \n                viewer_16469563381801379.render();\n            });\n            </script>",
      "text/html": [
       "<div id=\"3dmolviewer_16469563381801379\"  style=\"position: relative; width: 400px; height: 400px\">\n",
       "        <p id=\"3dmolwarning_16469563381801379\" style=\"background-color:#ffcccc;color:black\">You appear to be running in JupyterLab (or JavaScript failed to load for some other reason).  You need to install the 3dmol extension: <br>\n",
       "        <tt>jupyter labextension install jupyterlab_3dmol</tt></p>\n",
       "        </div>\n",
       "<script>\n",
       "\n",
       "var loadScriptAsync = function(uri){\n",
       "  return new Promise((resolve, reject) => {\n",
       "    var tag = document.createElement('script');\n",
       "    tag.src = uri;\n",
       "    tag.async = true;\n",
       "    tag.onload = () => {\n",
       "      resolve();\n",
       "    };\n",
       "  var firstScriptTag = document.getElementsByTagName('script')[0];\n",
       "  firstScriptTag.parentNode.insertBefore(tag, firstScriptTag);\n",
       "});\n",
       "};\n",
       "\n",
       "if(typeof $3Dmolpromise === 'undefined') {\n",
       "$3Dmolpromise = null;\n",
       "  $3Dmolpromise = loadScriptAsync('https://3dmol.csb.pitt.edu/build/3Dmol.js');\n",
       "}\n",
       "\n",
       "var viewer_16469563381801379 = null;\n",
       "var warn = document.getElementById(\"3dmolwarning_16469563381801379\");\n",
       "if(warn) {\n",
       "    warn.parentNode.removeChild(warn);\n",
       "}\n",
       "$3Dmolpromise.then(function() {\n",
       "viewer_16469563381801379 = $3Dmol.createViewer($(\"#3dmolviewer_16469563381801379\"),{backgroundColor:\"white\"});\n",
       "\tviewer_16469563381801379.addModel(\"\\n     RDKit          3D\\n\\n  8  6  0  0  0  0  0  0  0  0999 V2000\\n    2.1642    0.1807    0.0054 C   0  0  0  0  0  0  0  0  0  1  0  0\\n    0.9426    0.0787    0.0023 O   0  0  0  0  0  0  0  0  0  2  0  0\\n   -2.1382   -0.1785   -0.0053 C   0  0  0  0  0  0  0  0  0  3  0  0\\n   -3.3600   -0.2805   -0.0084 O   0  0  0  0  0  0  0  0  0  4  0  0\\n    2.8265   -0.6920    0.1238 H   0  0  0  0  0  0  0  0  0  5  0  0\\n    2.6732    1.1511   -0.1101 H   0  0  0  0  0  0  0  0  0  6  0  0\\n   -1.5187   -0.5296   -0.8456 H   0  0  0  0  0  0  0  0  0  7  0  0\\n   -1.5896    0.2701    0.8379 H   0  0  0  0  0  0  0  0  0  8  0  0\\n  7  3  1  0\\n  6  1  1  0\\n  4  3  2  0\\n  3  8  1  0\\n  2  1  2  0\\n  1  5  1  0\\nM  END\\n\",\"sdf\");\n",
       "\tviewer_16469563381801379.setStyle({\"stick\": {\"radius\": 0.05, \"color\": \"#f2f2f2\"}, \"sphere\": {\"scale\": 0.25}});\n",
       "\tviewer_16469563381801379.addPropertyLabels(\"index\",\"\",{\"fontSize\": 15, \"fontColor\": \"white\", \"showBackground\": true, \"alignment\": \"center\", \"backgroundOpacity\": 0.2, \"backgroundColor\": \"black\"});\n",
       "\tviewer_16469563381801379.zoomTo();\n",
       "viewer_16469563381801379.render();\n",
       "});\n",
       "</script><script>\n",
       "            $3Dmolpromise.done(function() { //wrap in promise for non-interactive functionality\n",
       "                \n",
       "                viewer_16469563381801379.render();\n",
       "            });\n",
       "            </script>"
      ]
     },
     "metadata": {},
     "output_type": "display_data"
    }
   ],
   "source": [
    "xyz = \"\"\"C      2.164196    0.180658    0.005381\n",
    "O      0.942631    0.078687    0.002344\n",
    "C     -2.138178   -0.178485   -0.005316\n",
    "O     -3.360016   -0.280479   -0.008354\n",
    "H      2.826486   -0.691971    0.123773\n",
    "H      2.673219    1.151062   -0.110098\n",
    "H     -1.518697   -0.529599   -0.845624\n",
    "H     -1.589641    0.270129    0.837895\"\"\"\n",
    "\n",
    "mol3 = RDKitMol.FromXYZ(xyz, header=False)\n",
    "\n",
    "print('Before optimization')\n",
    "print(f'd(1,2) = {mol3.GetConformer().GetBondLength([1,2])}\\n'\n",
    "      f'd(0,3) = {mol3.GetConformer().GetBondLength([0,3])}\\n')\n",
    "mol_viewer(mol3).update()"
   ]
  },
  {
   "cell_type": "code",
   "execution_count": 14,
   "metadata": {},
   "outputs": [
    {
     "name": "stdout",
     "output_type": "stream",
     "text": [
      "d(1,2) = 2.0104160746707507\n",
      "d(0,3) = 2.010416257048526\n",
      "\n"
     ]
    },
    {
     "data": {
      "application/3dmoljs_load.v0": "<div id=\"3dmolviewer_1646956355116679\"  style=\"position: relative; width: 400px; height: 400px\">\n        <p id=\"3dmolwarning_1646956355116679\" style=\"background-color:#ffcccc;color:black\">You appear to be running in JupyterLab (or JavaScript failed to load for some other reason).  You need to install the 3dmol extension: <br>\n        <tt>jupyter labextension install jupyterlab_3dmol</tt></p>\n        </div>\n<script>\n\nvar loadScriptAsync = function(uri){\n  return new Promise((resolve, reject) => {\n    var tag = document.createElement('script');\n    tag.src = uri;\n    tag.async = true;\n    tag.onload = () => {\n      resolve();\n    };\n  var firstScriptTag = document.getElementsByTagName('script')[0];\n  firstScriptTag.parentNode.insertBefore(tag, firstScriptTag);\n});\n};\n\nif(typeof $3Dmolpromise === 'undefined') {\n$3Dmolpromise = null;\n  $3Dmolpromise = loadScriptAsync('https://3dmol.csb.pitt.edu/build/3Dmol.js');\n}\n\nvar viewer_1646956355116679 = null;\nvar warn = document.getElementById(\"3dmolwarning_1646956355116679\");\nif(warn) {\n    warn.parentNode.removeChild(warn);\n}\n$3Dmolpromise.then(function() {\nviewer_1646956355116679 = $3Dmol.createViewer($(\"#3dmolviewer_1646956355116679\"),{backgroundColor:\"white\"});\n\tviewer_1646956355116679.addModel(\"\\n     RDKit          3D\\n\\n  8  6  0  0  0  0  0  0  0  0999 V2000\\n    1.2067    0.2473    0.0576 C   0  0  0  0  0  0  0  0  0  1  0  0\\n    0.4954   -0.1155    1.0041 O   0  0  0  0  0  0  0  0  0  2  0  0\\n   -1.2067   -0.2473   -0.0577 C   0  0  0  0  0  0  0  0  0  3  0  0\\n   -0.4954    0.1155   -1.0041 O   0  0  0  0  0  0  0  0  0  4  0  0\\n    1.7694   -0.4730   -0.5635 H   0  0  0  0  0  0  0  0  0  5  0  0\\n    1.3843    1.3145   -0.1677 H   0  0  0  0  0  0  0  0  0  6  0  0\\n   -1.3842   -1.3145    0.1678 H   0  0  0  0  0  0  0  0  0  7  0  0\\n   -1.7695    0.4730    0.5634 H   0  0  0  0  0  0  0  0  0  8  0  0\\n  7  3  1  0\\n  6  1  1  0\\n  4  3  2  0\\n  3  8  1  0\\n  2  1  2  0\\n  1  5  1  0\\nM  END\\n\",\"sdf\");\n\tviewer_1646956355116679.setStyle({\"stick\": {\"radius\": 0.05, \"color\": \"#f2f2f2\"}, \"sphere\": {\"scale\": 0.25}});\n\tviewer_1646956355116679.addPropertyLabels(\"index\",\"\",{\"fontSize\": 15, \"fontColor\": \"white\", \"showBackground\": true, \"alignment\": \"center\", \"backgroundOpacity\": 0.2, \"backgroundColor\": \"black\"});\n\tviewer_1646956355116679.zoomTo();\n\tviewer_1646956355116679.render();\nviewer_1646956355116679.render();\n});\n</script>",
      "text/html": [
       "<div id=\"3dmolviewer_1646956355116679\"  style=\"position: relative; width: 400px; height: 400px\">\n",
       "        <p id=\"3dmolwarning_1646956355116679\" style=\"background-color:#ffcccc;color:black\">You appear to be running in JupyterLab (or JavaScript failed to load for some other reason).  You need to install the 3dmol extension: <br>\n",
       "        <tt>jupyter labextension install jupyterlab_3dmol</tt></p>\n",
       "        </div>\n",
       "<script>\n",
       "\n",
       "var loadScriptAsync = function(uri){\n",
       "  return new Promise((resolve, reject) => {\n",
       "    var tag = document.createElement('script');\n",
       "    tag.src = uri;\n",
       "    tag.async = true;\n",
       "    tag.onload = () => {\n",
       "      resolve();\n",
       "    };\n",
       "  var firstScriptTag = document.getElementsByTagName('script')[0];\n",
       "  firstScriptTag.parentNode.insertBefore(tag, firstScriptTag);\n",
       "});\n",
       "};\n",
       "\n",
       "if(typeof $3Dmolpromise === 'undefined') {\n",
       "$3Dmolpromise = null;\n",
       "  $3Dmolpromise = loadScriptAsync('https://3dmol.csb.pitt.edu/build/3Dmol.js');\n",
       "}\n",
       "\n",
       "var viewer_1646956355116679 = null;\n",
       "var warn = document.getElementById(\"3dmolwarning_1646956355116679\");\n",
       "if(warn) {\n",
       "    warn.parentNode.removeChild(warn);\n",
       "}\n",
       "$3Dmolpromise.then(function() {\n",
       "viewer_1646956355116679 = $3Dmol.createViewer($(\"#3dmolviewer_1646956355116679\"),{backgroundColor:\"white\"});\n",
       "\tviewer_1646956355116679.addModel(\"\\n     RDKit          3D\\n\\n  8  6  0  0  0  0  0  0  0  0999 V2000\\n    1.2067    0.2473    0.0576 C   0  0  0  0  0  0  0  0  0  1  0  0\\n    0.4954   -0.1155    1.0041 O   0  0  0  0  0  0  0  0  0  2  0  0\\n   -1.2067   -0.2473   -0.0577 C   0  0  0  0  0  0  0  0  0  3  0  0\\n   -0.4954    0.1155   -1.0041 O   0  0  0  0  0  0  0  0  0  4  0  0\\n    1.7694   -0.4730   -0.5635 H   0  0  0  0  0  0  0  0  0  5  0  0\\n    1.3843    1.3145   -0.1677 H   0  0  0  0  0  0  0  0  0  6  0  0\\n   -1.3842   -1.3145    0.1678 H   0  0  0  0  0  0  0  0  0  7  0  0\\n   -1.7695    0.4730    0.5634 H   0  0  0  0  0  0  0  0  0  8  0  0\\n  7  3  1  0\\n  6  1  1  0\\n  4  3  2  0\\n  3  8  1  0\\n  2  1  2  0\\n  1  5  1  0\\nM  END\\n\",\"sdf\");\n",
       "\tviewer_1646956355116679.setStyle({\"stick\": {\"radius\": 0.05, \"color\": \"#f2f2f2\"}, \"sphere\": {\"scale\": 0.25}});\n",
       "\tviewer_1646956355116679.addPropertyLabels(\"index\",\"\",{\"fontSize\": 15, \"fontColor\": \"white\", \"showBackground\": true, \"alignment\": \"center\", \"backgroundOpacity\": 0.2, \"backgroundColor\": \"black\"});\n",
       "\tviewer_1646956355116679.zoomTo();\n",
       "\tviewer_1646956355116679.render();\n",
       "viewer_1646956355116679.render();\n",
       "});\n",
       "</script>"
      ]
     },
     "metadata": {},
     "output_type": "display_data"
    },
    {
     "data": {
      "text/plain": [
       "<py3Dmol.view at 0x7fc0755424d0>"
      ]
     },
     "execution_count": 14,
     "metadata": {},
     "output_type": "execute_result"
    }
   ],
   "source": [
    "ff = RDKitFF()\n",
    "ff.setup(mol3.Copy())\n",
    "ff.add_distance_constraint([1,2], 2.0, force_constant=1e4)\n",
    "ff.add_distance_constraint([0,3], 2.0, force_constant=1e4)\n",
    "ff.optimize()\n",
    "opt_mol = ff.get_optimized_mol()\n",
    "print(f'd(1,2) = {opt_mol.GetConformer().GetBondLength([1,2])}\\n'\n",
    "      f'd(0,3) = {opt_mol.GetConformer().GetBondLength([0,3])}\\n')\n",
    "mol_viewer(opt_mol).render()"
   ]
  },
  {
   "cell_type": "code",
   "execution_count": 15,
   "metadata": {},
   "outputs": [
    {
     "name": "stdout",
     "output_type": "stream",
     "text": [
      "d(1,2) = 2.0010086236275195\n",
      "d(0,3) = 2.001076854366215\n",
      "\n"
     ]
    },
    {
     "data": {
      "application/3dmoljs_load.v0": "<div id=\"3dmolviewer_16469563558052359\"  style=\"position: relative; width: 400px; height: 400px\">\n        <p id=\"3dmolwarning_16469563558052359\" style=\"background-color:#ffcccc;color:black\">You appear to be running in JupyterLab (or JavaScript failed to load for some other reason).  You need to install the 3dmol extension: <br>\n        <tt>jupyter labextension install jupyterlab_3dmol</tt></p>\n        </div>\n<script>\n\nvar loadScriptAsync = function(uri){\n  return new Promise((resolve, reject) => {\n    var tag = document.createElement('script');\n    tag.src = uri;\n    tag.async = true;\n    tag.onload = () => {\n      resolve();\n    };\n  var firstScriptTag = document.getElementsByTagName('script')[0];\n  firstScriptTag.parentNode.insertBefore(tag, firstScriptTag);\n});\n};\n\nif(typeof $3Dmolpromise === 'undefined') {\n$3Dmolpromise = null;\n  $3Dmolpromise = loadScriptAsync('https://3dmol.csb.pitt.edu/build/3Dmol.js');\n}\n\nvar viewer_16469563558052359 = null;\nvar warn = document.getElementById(\"3dmolwarning_16469563558052359\");\nif(warn) {\n    warn.parentNode.removeChild(warn);\n}\n$3Dmolpromise.then(function() {\nviewer_16469563558052359 = $3Dmol.createViewer($(\"#3dmolviewer_16469563558052359\"),{backgroundColor:\"white\"});\n\tviewer_16469563558052359.addModel(\"\\n     RDKit          3D\\n\\n  8  6  0  0  0  0  0  0  0  0999 V2000\\n    0.9900    0.0236   -0.1647 C   0  0  0  0  0  0  0  0  0  1  0  0\\n    0.1497    0.7732   -0.6804 O   0  0  0  0  0  0  0  0  0  2  0  0\\n   -1.4475   -0.1458    0.0996 C   0  0  0  0  0  0  0  0  0  3  0  0\\n   -0.6123   -0.9513    0.5328 O   0  0  0  0  0  0  0  0  0  4  0  0\\n    1.3769   -0.8791   -0.6727 H   0  0  0  0  0  0  0  0  0  5  0  0\\n    1.4746    0.2753    0.7959 H   0  0  0  0  0  0  0  0  0  6  0  0\\n   -1.9462   -0.2724   -0.8790 H   0  0  0  0  0  0  0  0  0  7  0  0\\n   -1.8131    0.6945    0.7168 H   0  0  0  0  0  0  0  0  0  8  0  0\\n  7  3  1  0\\n  6  1  1  0\\n  4  3  2  0\\n  3  8  1  0\\n  2  1  2  0\\n  1  5  1  0\\nM  END\\n\",\"sdf\");\n\tviewer_16469563558052359.setStyle({\"stick\": {\"radius\": 0.05, \"color\": \"#f2f2f2\"}, \"sphere\": {\"scale\": 0.25}});\n\tviewer_16469563558052359.addPropertyLabels(\"index\",\"\",{\"fontSize\": 15, \"fontColor\": \"white\", \"showBackground\": true, \"alignment\": \"center\", \"backgroundOpacity\": 0.2, \"backgroundColor\": \"black\"});\n\tviewer_16469563558052359.zoomTo();\n\tviewer_16469563558052359.render();\nviewer_16469563558052359.render();\n});\n</script>",
      "text/html": [
       "<div id=\"3dmolviewer_16469563558052359\"  style=\"position: relative; width: 400px; height: 400px\">\n",
       "        <p id=\"3dmolwarning_16469563558052359\" style=\"background-color:#ffcccc;color:black\">You appear to be running in JupyterLab (or JavaScript failed to load for some other reason).  You need to install the 3dmol extension: <br>\n",
       "        <tt>jupyter labextension install jupyterlab_3dmol</tt></p>\n",
       "        </div>\n",
       "<script>\n",
       "\n",
       "var loadScriptAsync = function(uri){\n",
       "  return new Promise((resolve, reject) => {\n",
       "    var tag = document.createElement('script');\n",
       "    tag.src = uri;\n",
       "    tag.async = true;\n",
       "    tag.onload = () => {\n",
       "      resolve();\n",
       "    };\n",
       "  var firstScriptTag = document.getElementsByTagName('script')[0];\n",
       "  firstScriptTag.parentNode.insertBefore(tag, firstScriptTag);\n",
       "});\n",
       "};\n",
       "\n",
       "if(typeof $3Dmolpromise === 'undefined') {\n",
       "$3Dmolpromise = null;\n",
       "  $3Dmolpromise = loadScriptAsync('https://3dmol.csb.pitt.edu/build/3Dmol.js');\n",
       "}\n",
       "\n",
       "var viewer_16469563558052359 = null;\n",
       "var warn = document.getElementById(\"3dmolwarning_16469563558052359\");\n",
       "if(warn) {\n",
       "    warn.parentNode.removeChild(warn);\n",
       "}\n",
       "$3Dmolpromise.then(function() {\n",
       "viewer_16469563558052359 = $3Dmol.createViewer($(\"#3dmolviewer_16469563558052359\"),{backgroundColor:\"white\"});\n",
       "\tviewer_16469563558052359.addModel(\"\\n     RDKit          3D\\n\\n  8  6  0  0  0  0  0  0  0  0999 V2000\\n    0.9900    0.0236   -0.1647 C   0  0  0  0  0  0  0  0  0  1  0  0\\n    0.1497    0.7732   -0.6804 O   0  0  0  0  0  0  0  0  0  2  0  0\\n   -1.4475   -0.1458    0.0996 C   0  0  0  0  0  0  0  0  0  3  0  0\\n   -0.6123   -0.9513    0.5328 O   0  0  0  0  0  0  0  0  0  4  0  0\\n    1.3769   -0.8791   -0.6727 H   0  0  0  0  0  0  0  0  0  5  0  0\\n    1.4746    0.2753    0.7959 H   0  0  0  0  0  0  0  0  0  6  0  0\\n   -1.9462   -0.2724   -0.8790 H   0  0  0  0  0  0  0  0  0  7  0  0\\n   -1.8131    0.6945    0.7168 H   0  0  0  0  0  0  0  0  0  8  0  0\\n  7  3  1  0\\n  6  1  1  0\\n  4  3  2  0\\n  3  8  1  0\\n  2  1  2  0\\n  1  5  1  0\\nM  END\\n\",\"sdf\");\n",
       "\tviewer_16469563558052359.setStyle({\"stick\": {\"radius\": 0.05, \"color\": \"#f2f2f2\"}, \"sphere\": {\"scale\": 0.25}});\n",
       "\tviewer_16469563558052359.addPropertyLabels(\"index\",\"\",{\"fontSize\": 15, \"fontColor\": \"white\", \"showBackground\": true, \"alignment\": \"center\", \"backgroundOpacity\": 0.2, \"backgroundColor\": \"black\"});\n",
       "\tviewer_16469563558052359.zoomTo();\n",
       "\tviewer_16469563558052359.render();\n",
       "viewer_16469563558052359.render();\n",
       "});\n",
       "</script>"
      ]
     },
     "metadata": {},
     "output_type": "display_data"
    },
    {
     "data": {
      "text/plain": [
       "<py3Dmol.view at 0x7fc075555c10>"
      ]
     },
     "execution_count": 15,
     "metadata": {},
     "output_type": "execute_result"
    }
   ],
   "source": [
    "ff = OpenBabelFF()\n",
    "ff.setup(mol3.Copy())  # directly assign mol to allow correct atom index when setting constraints\n",
    "ff.add_distance_constraint([1,2], 2.0)\n",
    "ff.add_distance_constraint([0,3], 2.0)\n",
    "ff.optimize()\n",
    "opt_mol = ff.get_optimized_mol()\n",
    "print(f'd(1,2) = {opt_mol.GetConformer().GetBondLength([1,2])}\\n'\n",
    "      f'd(0,3) = {opt_mol.GetConformer().GetBondLength([0,3])}\\n')\n",
    "mol_viewer(opt_mol, 'sdf').render()"
   ]
  },
  {
   "cell_type": "markdown",
   "metadata": {},
   "source": [
    "### 5. Simultaneous constrained optimization for multiple conformers"
   ]
  },
  {
   "cell_type": "markdown",
   "metadata": {},
   "source": [
    "Before optimization"
   ]
  },
  {
   "cell_type": "code",
   "execution_count": 16,
   "metadata": {},
   "outputs": [
    {
     "name": "stdout",
     "output_type": "stream",
     "text": [
      "conformer 0\n",
      "d(1,2) = 1.2063998108523586\n",
      "d(0,3) = 1.2184912938829549\n",
      "\n",
      "conformer 1\n",
      "d(1,2) = 1.2174957149586882\n",
      "d(0,3) = 1.200772130496606\n",
      "\n",
      "conformer 2\n",
      "d(1,2) = 1.215740413408354\n",
      "d(0,3) = 1.2160368385583347\n",
      "\n",
      "conformer 3\n",
      "d(1,2) = 1.2325016220391336\n",
      "d(0,3) = 1.1830709948398148\n",
      "\n"
     ]
    }
   ],
   "source": [
    "xyz = \"\"\"C      2.164196    0.180658    0.005381\n",
    "O      0.942631    0.078687    0.002344\n",
    "C     -2.138178   -0.178485   -0.005316\n",
    "O     -3.360016   -0.280479   -0.008354\n",
    "H      2.826486   -0.691971    0.123773\n",
    "H      2.673219    1.151062   -0.110098\n",
    "H     -1.518697   -0.529599   -0.845624\n",
    "H     -1.589641    0.270129    0.837895\"\"\"\n",
    "\n",
    "mol5 = RDKitMol.FromXYZ(xyz, header=False)\n",
    "mol5.EmbedMultipleConfs(4)\n",
    "\n",
    "viewer = grid_viewer(viewer_grid=(2, 2), viewer_size=(600, 400))\n",
    "grids = [(0, 0), (0, 1), (1, 0), (1, 1)]\n",
    "for i in range(4):\n",
    "    print(f'conformer {i}')\n",
    "    print(f'd(1,2) = {mol5.GetConformer(i).GetBondLength([1,2])}\\n'\n",
    "          f'd(0,3) = {mol5.GetConformer(i).GetBondLength([0,3])}\\n')\n",
    "    mol_viewer(opt_mol, viewer=viewer, viewer_loc=grids[i])\n"
   ]
  },
  {
   "cell_type": "markdown",
   "metadata": {},
   "source": [
    "Optimization and constraint both d(1,2) and d(0,3) to be 2.0"
   ]
  },
  {
   "cell_type": "code",
   "execution_count": 17,
   "metadata": {},
   "outputs": [
    {
     "name": "stdout",
     "output_type": "stream",
     "text": [
      "conformer 0\n",
      "d(1,2) = 2.0813156053971986\n",
      "d(0,3) = 2.0813153695214015\n",
      "\n",
      "conformer 1\n",
      "d(1,2) = 2.0813156435342073\n",
      "d(0,3) = 2.081313941086091\n",
      "\n",
      "conformer 2\n",
      "d(1,2) = 2.0813154939008562\n",
      "d(0,3) = 2.0813154862903285\n",
      "\n",
      "conformer 3\n",
      "d(1,2) = 2.0813163949439963\n",
      "d(0,3) = 2.081315013481825\n",
      "\n",
      "Force field energies for each conformers: [44.319330798428155, 44.31933084017121, 44.31933091646835, 44.31933112746298]\n"
     ]
    },
    {
     "data": {
      "application/3dmoljs_load.v0": "<div id=\"3dmolviewer_1646956370704499\"  style=\"position: relative; width: 600px; height: 400px\">\n        <p id=\"3dmolwarning_1646956370704499\" style=\"background-color:#ffcccc;color:black\">You appear to be running in JupyterLab (or JavaScript failed to load for some other reason).  You need to install the 3dmol extension: <br>\n        <tt>jupyter labextension install jupyterlab_3dmol</tt></p>\n        </div>\n<script>\n\nvar loadScriptAsync = function(uri){\n  return new Promise((resolve, reject) => {\n    var tag = document.createElement('script');\n    tag.src = uri;\n    tag.async = true;\n    tag.onload = () => {\n      resolve();\n    };\n  var firstScriptTag = document.getElementsByTagName('script')[0];\n  firstScriptTag.parentNode.insertBefore(tag, firstScriptTag);\n});\n};\n\nif(typeof $3Dmolpromise === 'undefined') {\n$3Dmolpromise = null;\n  $3Dmolpromise = loadScriptAsync('https://3dmol.csb.pitt.edu/build/3Dmol.js');\n}\n\nvar viewer_1646956370704499 = null;\nvar warn = document.getElementById(\"3dmolwarning_1646956370704499\");\nif(warn) {\n    warn.parentNode.removeChild(warn);\n}\n$3Dmolpromise.then(function() {\nvar viewergrid_1646956370704499 = null;\nviewergrid_1646956370704499 = $3Dmol.createViewerGrid($(\"#3dmolviewer_1646956370704499\"),{rows: 2, cols: 2, control_all: false},{backgroundColor:\"white\"});\nviewer_1646956370704499 = viewergrid_1646956370704499[0][0];\n\tviewergrid_1646956370704499[0][0].addModel(\"\\n     RDKit          3D\\n\\n  8  6  0  0  0  0  0  0  0  0999 V2000\\n    0.1276    1.2415   -0.1845 C   0  0  0  0  0  0  0  0  0  1  0  0\\n    0.5525    0.3670   -0.9478 O   0  0  0  0  0  0  0  0  0  2  0  0\\n   -0.1276   -1.2415    0.1845 C   0  0  0  0  0  0  0  0  0  3  0  0\\n   -0.5525   -0.3670    0.9478 O   0  0  0  0  0  0  0  0  0  4  0  0\\n   -0.8725    1.6934   -0.3081 H   0  0  0  0  0  0  0  0  0  5  0  0\\n    0.7471    1.6656    0.6252 H   0  0  0  0  0  0  0  0  0  6  0  0\\n   -0.7471   -1.6657   -0.6252 H   0  0  0  0  0  0  0  0  0  7  0  0\\n    0.8725   -1.6933    0.3081 H   0  0  0  0  0  0  0  0  0  8  0  0\\n  7  3  1  0\\n  6  1  1  0\\n  4  3  2  0\\n  3  8  1  0\\n  2  1  2  0\\n  1  5  1  0\\nM  END\\n\",\"sdf\");\n\tviewergrid_1646956370704499[0][0].setStyle({\"stick\": {\"radius\": 0.05, \"color\": \"#f2f2f2\"}, \"sphere\": {\"scale\": 0.25}});\n\tviewergrid_1646956370704499[0][0].addPropertyLabels(\"index\",\"\",{\"fontSize\": 15, \"fontColor\": \"white\", \"showBackground\": true, \"alignment\": \"center\", \"backgroundOpacity\": 0.2, \"backgroundColor\": \"black\"});\n\tviewergrid_1646956370704499[0][0].zoomTo();\n\tviewergrid_1646956370704499[0][1].addModel(\"\\n     RDKit          3D\\n\\n  8  6  0  0  0  0  0  0  0  0999 V2000\\n    0.1276    1.2415   -0.1845 C   0  0  0  0  0  0  0  0  0  1  0  0\\n    0.5525    0.3670   -0.9478 O   0  0  0  0  0  0  0  0  0  2  0  0\\n   -0.1276   -1.2415    0.1845 C   0  0  0  0  0  0  0  0  0  3  0  0\\n   -0.5525   -0.3670    0.9478 O   0  0  0  0  0  0  0  0  0  4  0  0\\n   -0.8725    1.6934   -0.3081 H   0  0  0  0  0  0  0  0  0  5  0  0\\n    0.7471    1.6656    0.6252 H   0  0  0  0  0  0  0  0  0  6  0  0\\n   -0.7471   -1.6657   -0.6252 H   0  0  0  0  0  0  0  0  0  7  0  0\\n    0.8725   -1.6933    0.3081 H   0  0  0  0  0  0  0  0  0  8  0  0\\n  7  3  1  0\\n  6  1  1  0\\n  4  3  2  0\\n  3  8  1  0\\n  2  1  2  0\\n  1  5  1  0\\nM  END\\n\",\"sdf\");\n\tviewergrid_1646956370704499[0][1].setStyle({\"stick\": {\"radius\": 0.05, \"color\": \"#f2f2f2\"}, \"sphere\": {\"scale\": 0.25}});\n\tviewergrid_1646956370704499[0][1].addPropertyLabels(\"index\",\"\",{\"fontSize\": 15, \"fontColor\": \"white\", \"showBackground\": true, \"alignment\": \"center\", \"backgroundOpacity\": 0.2, \"backgroundColor\": \"black\"});\n\tviewergrid_1646956370704499[0][1].zoomTo();\n\tviewergrid_1646956370704499[1][0].addModel(\"\\n     RDKit          3D\\n\\n  8  6  0  0  0  0  0  0  0  0999 V2000\\n    0.1276    1.2415   -0.1845 C   0  0  0  0  0  0  0  0  0  1  0  0\\n    0.5525    0.3670   -0.9478 O   0  0  0  0  0  0  0  0  0  2  0  0\\n   -0.1276   -1.2415    0.1845 C   0  0  0  0  0  0  0  0  0  3  0  0\\n   -0.5525   -0.3670    0.9478 O   0  0  0  0  0  0  0  0  0  4  0  0\\n   -0.8725    1.6934   -0.3081 H   0  0  0  0  0  0  0  0  0  5  0  0\\n    0.7471    1.6656    0.6252 H   0  0  0  0  0  0  0  0  0  6  0  0\\n   -0.7471   -1.6657   -0.6252 H   0  0  0  0  0  0  0  0  0  7  0  0\\n    0.8725   -1.6933    0.3081 H   0  0  0  0  0  0  0  0  0  8  0  0\\n  7  3  1  0\\n  6  1  1  0\\n  4  3  2  0\\n  3  8  1  0\\n  2  1  2  0\\n  1  5  1  0\\nM  END\\n\",\"sdf\");\n\tviewergrid_1646956370704499[1][0].setStyle({\"stick\": {\"radius\": 0.05, \"color\": \"#f2f2f2\"}, \"sphere\": {\"scale\": 0.25}});\n\tviewergrid_1646956370704499[1][0].addPropertyLabels(\"index\",\"\",{\"fontSize\": 15, \"fontColor\": \"white\", \"showBackground\": true, \"alignment\": \"center\", \"backgroundOpacity\": 0.2, \"backgroundColor\": \"black\"});\n\tviewergrid_1646956370704499[1][0].zoomTo();\n\tviewergrid_1646956370704499[1][1].addModel(\"\\n     RDKit          3D\\n\\n  8  6  0  0  0  0  0  0  0  0999 V2000\\n    0.1276    1.2415   -0.1845 C   0  0  0  0  0  0  0  0  0  1  0  0\\n    0.5525    0.3670   -0.9478 O   0  0  0  0  0  0  0  0  0  2  0  0\\n   -0.1276   -1.2415    0.1845 C   0  0  0  0  0  0  0  0  0  3  0  0\\n   -0.5525   -0.3670    0.9478 O   0  0  0  0  0  0  0  0  0  4  0  0\\n   -0.8725    1.6934   -0.3081 H   0  0  0  0  0  0  0  0  0  5  0  0\\n    0.7471    1.6656    0.6252 H   0  0  0  0  0  0  0  0  0  6  0  0\\n   -0.7471   -1.6657   -0.6252 H   0  0  0  0  0  0  0  0  0  7  0  0\\n    0.8725   -1.6933    0.3081 H   0  0  0  0  0  0  0  0  0  8  0  0\\n  7  3  1  0\\n  6  1  1  0\\n  4  3  2  0\\n  3  8  1  0\\n  2  1  2  0\\n  1  5  1  0\\nM  END\\n\",\"sdf\");\n\tviewergrid_1646956370704499[1][1].setStyle({\"stick\": {\"radius\": 0.05, \"color\": \"#f2f2f2\"}, \"sphere\": {\"scale\": 0.25}});\n\tviewergrid_1646956370704499[1][1].addPropertyLabels(\"index\",\"\",{\"fontSize\": 15, \"fontColor\": \"white\", \"showBackground\": true, \"alignment\": \"center\", \"backgroundOpacity\": 0.2, \"backgroundColor\": \"black\"});\n\tviewergrid_1646956370704499[1][1].zoomTo();\nviewergrid_1646956370704499[1][1].render();\nviewergrid_1646956370704499[1][0].render();\nviewergrid_1646956370704499[0][1].render();\nviewergrid_1646956370704499[0][0].render();\n});\n</script><script>\n            $3Dmolpromise.done(function() { //wrap in promise for non-interactive functionality\n                \n                viewer_1646956370704499.render();\n            });\n            </script>",
      "text/html": [
       "<div id=\"3dmolviewer_1646956370704499\"  style=\"position: relative; width: 600px; height: 400px\">\n",
       "        <p id=\"3dmolwarning_1646956370704499\" style=\"background-color:#ffcccc;color:black\">You appear to be running in JupyterLab (or JavaScript failed to load for some other reason).  You need to install the 3dmol extension: <br>\n",
       "        <tt>jupyter labextension install jupyterlab_3dmol</tt></p>\n",
       "        </div>\n",
       "<script>\n",
       "\n",
       "var loadScriptAsync = function(uri){\n",
       "  return new Promise((resolve, reject) => {\n",
       "    var tag = document.createElement('script');\n",
       "    tag.src = uri;\n",
       "    tag.async = true;\n",
       "    tag.onload = () => {\n",
       "      resolve();\n",
       "    };\n",
       "  var firstScriptTag = document.getElementsByTagName('script')[0];\n",
       "  firstScriptTag.parentNode.insertBefore(tag, firstScriptTag);\n",
       "});\n",
       "};\n",
       "\n",
       "if(typeof $3Dmolpromise === 'undefined') {\n",
       "$3Dmolpromise = null;\n",
       "  $3Dmolpromise = loadScriptAsync('https://3dmol.csb.pitt.edu/build/3Dmol.js');\n",
       "}\n",
       "\n",
       "var viewer_1646956370704499 = null;\n",
       "var warn = document.getElementById(\"3dmolwarning_1646956370704499\");\n",
       "if(warn) {\n",
       "    warn.parentNode.removeChild(warn);\n",
       "}\n",
       "$3Dmolpromise.then(function() {\n",
       "var viewergrid_1646956370704499 = null;\n",
       "viewergrid_1646956370704499 = $3Dmol.createViewerGrid($(\"#3dmolviewer_1646956370704499\"),{rows: 2, cols: 2, control_all: false},{backgroundColor:\"white\"});\n",
       "viewer_1646956370704499 = viewergrid_1646956370704499[0][0];\n",
       "\tviewergrid_1646956370704499[0][0].addModel(\"\\n     RDKit          3D\\n\\n  8  6  0  0  0  0  0  0  0  0999 V2000\\n    0.1276    1.2415   -0.1845 C   0  0  0  0  0  0  0  0  0  1  0  0\\n    0.5525    0.3670   -0.9478 O   0  0  0  0  0  0  0  0  0  2  0  0\\n   -0.1276   -1.2415    0.1845 C   0  0  0  0  0  0  0  0  0  3  0  0\\n   -0.5525   -0.3670    0.9478 O   0  0  0  0  0  0  0  0  0  4  0  0\\n   -0.8725    1.6934   -0.3081 H   0  0  0  0  0  0  0  0  0  5  0  0\\n    0.7471    1.6656    0.6252 H   0  0  0  0  0  0  0  0  0  6  0  0\\n   -0.7471   -1.6657   -0.6252 H   0  0  0  0  0  0  0  0  0  7  0  0\\n    0.8725   -1.6933    0.3081 H   0  0  0  0  0  0  0  0  0  8  0  0\\n  7  3  1  0\\n  6  1  1  0\\n  4  3  2  0\\n  3  8  1  0\\n  2  1  2  0\\n  1  5  1  0\\nM  END\\n\",\"sdf\");\n",
       "\tviewergrid_1646956370704499[0][0].setStyle({\"stick\": {\"radius\": 0.05, \"color\": \"#f2f2f2\"}, \"sphere\": {\"scale\": 0.25}});\n",
       "\tviewergrid_1646956370704499[0][0].addPropertyLabels(\"index\",\"\",{\"fontSize\": 15, \"fontColor\": \"white\", \"showBackground\": true, \"alignment\": \"center\", \"backgroundOpacity\": 0.2, \"backgroundColor\": \"black\"});\n",
       "\tviewergrid_1646956370704499[0][0].zoomTo();\n",
       "\tviewergrid_1646956370704499[0][1].addModel(\"\\n     RDKit          3D\\n\\n  8  6  0  0  0  0  0  0  0  0999 V2000\\n    0.1276    1.2415   -0.1845 C   0  0  0  0  0  0  0  0  0  1  0  0\\n    0.5525    0.3670   -0.9478 O   0  0  0  0  0  0  0  0  0  2  0  0\\n   -0.1276   -1.2415    0.1845 C   0  0  0  0  0  0  0  0  0  3  0  0\\n   -0.5525   -0.3670    0.9478 O   0  0  0  0  0  0  0  0  0  4  0  0\\n   -0.8725    1.6934   -0.3081 H   0  0  0  0  0  0  0  0  0  5  0  0\\n    0.7471    1.6656    0.6252 H   0  0  0  0  0  0  0  0  0  6  0  0\\n   -0.7471   -1.6657   -0.6252 H   0  0  0  0  0  0  0  0  0  7  0  0\\n    0.8725   -1.6933    0.3081 H   0  0  0  0  0  0  0  0  0  8  0  0\\n  7  3  1  0\\n  6  1  1  0\\n  4  3  2  0\\n  3  8  1  0\\n  2  1  2  0\\n  1  5  1  0\\nM  END\\n\",\"sdf\");\n",
       "\tviewergrid_1646956370704499[0][1].setStyle({\"stick\": {\"radius\": 0.05, \"color\": \"#f2f2f2\"}, \"sphere\": {\"scale\": 0.25}});\n",
       "\tviewergrid_1646956370704499[0][1].addPropertyLabels(\"index\",\"\",{\"fontSize\": 15, \"fontColor\": \"white\", \"showBackground\": true, \"alignment\": \"center\", \"backgroundOpacity\": 0.2, \"backgroundColor\": \"black\"});\n",
       "\tviewergrid_1646956370704499[0][1].zoomTo();\n",
       "\tviewergrid_1646956370704499[1][0].addModel(\"\\n     RDKit          3D\\n\\n  8  6  0  0  0  0  0  0  0  0999 V2000\\n    0.1276    1.2415   -0.1845 C   0  0  0  0  0  0  0  0  0  1  0  0\\n    0.5525    0.3670   -0.9478 O   0  0  0  0  0  0  0  0  0  2  0  0\\n   -0.1276   -1.2415    0.1845 C   0  0  0  0  0  0  0  0  0  3  0  0\\n   -0.5525   -0.3670    0.9478 O   0  0  0  0  0  0  0  0  0  4  0  0\\n   -0.8725    1.6934   -0.3081 H   0  0  0  0  0  0  0  0  0  5  0  0\\n    0.7471    1.6656    0.6252 H   0  0  0  0  0  0  0  0  0  6  0  0\\n   -0.7471   -1.6657   -0.6252 H   0  0  0  0  0  0  0  0  0  7  0  0\\n    0.8725   -1.6933    0.3081 H   0  0  0  0  0  0  0  0  0  8  0  0\\n  7  3  1  0\\n  6  1  1  0\\n  4  3  2  0\\n  3  8  1  0\\n  2  1  2  0\\n  1  5  1  0\\nM  END\\n\",\"sdf\");\n",
       "\tviewergrid_1646956370704499[1][0].setStyle({\"stick\": {\"radius\": 0.05, \"color\": \"#f2f2f2\"}, \"sphere\": {\"scale\": 0.25}});\n",
       "\tviewergrid_1646956370704499[1][0].addPropertyLabels(\"index\",\"\",{\"fontSize\": 15, \"fontColor\": \"white\", \"showBackground\": true, \"alignment\": \"center\", \"backgroundOpacity\": 0.2, \"backgroundColor\": \"black\"});\n",
       "\tviewergrid_1646956370704499[1][0].zoomTo();\n",
       "\tviewergrid_1646956370704499[1][1].addModel(\"\\n     RDKit          3D\\n\\n  8  6  0  0  0  0  0  0  0  0999 V2000\\n    0.1276    1.2415   -0.1845 C   0  0  0  0  0  0  0  0  0  1  0  0\\n    0.5525    0.3670   -0.9478 O   0  0  0  0  0  0  0  0  0  2  0  0\\n   -0.1276   -1.2415    0.1845 C   0  0  0  0  0  0  0  0  0  3  0  0\\n   -0.5525   -0.3670    0.9478 O   0  0  0  0  0  0  0  0  0  4  0  0\\n   -0.8725    1.6934   -0.3081 H   0  0  0  0  0  0  0  0  0  5  0  0\\n    0.7471    1.6656    0.6252 H   0  0  0  0  0  0  0  0  0  6  0  0\\n   -0.7471   -1.6657   -0.6252 H   0  0  0  0  0  0  0  0  0  7  0  0\\n    0.8725   -1.6933    0.3081 H   0  0  0  0  0  0  0  0  0  8  0  0\\n  7  3  1  0\\n  6  1  1  0\\n  4  3  2  0\\n  3  8  1  0\\n  2  1  2  0\\n  1  5  1  0\\nM  END\\n\",\"sdf\");\n",
       "\tviewergrid_1646956370704499[1][1].setStyle({\"stick\": {\"radius\": 0.05, \"color\": \"#f2f2f2\"}, \"sphere\": {\"scale\": 0.25}});\n",
       "\tviewergrid_1646956370704499[1][1].addPropertyLabels(\"index\",\"\",{\"fontSize\": 15, \"fontColor\": \"white\", \"showBackground\": true, \"alignment\": \"center\", \"backgroundOpacity\": 0.2, \"backgroundColor\": \"black\"});\n",
       "\tviewergrid_1646956370704499[1][1].zoomTo();\n",
       "viewergrid_1646956370704499[1][1].render();\n",
       "viewergrid_1646956370704499[1][0].render();\n",
       "viewergrid_1646956370704499[0][1].render();\n",
       "viewergrid_1646956370704499[0][0].render();\n",
       "});\n",
       "</script><script>\n",
       "            $3Dmolpromise.done(function() { //wrap in promise for non-interactive functionality\n",
       "                \n",
       "                viewer_1646956370704499.render();\n",
       "            });\n",
       "            </script>"
      ]
     },
     "metadata": {},
     "output_type": "display_data"
    }
   ],
   "source": [
    "ff = RDKitFF()\n",
    "ff.setup(mol5.Copy())\n",
    "ff.add_distance_constraint([1,2], 2.0, force_constant=1e3)\n",
    "ff.add_distance_constraint([0,3], 2.0, force_constant=1e3)\n",
    "ff.optimize_confs()\n",
    "opt_mol = ff.get_optimized_mol()\n",
    "\n",
    "viewer = grid_viewer(viewer_grid=(2, 2), viewer_size=(600, 400))\n",
    "grids = [(0,0), (0,1), (1,0), (1,1)]\n",
    "for i in range(4):\n",
    "    print(f'conformer {i}')\n",
    "    print(f'd(1,2) = {opt_mol.GetConformer(i).GetBondLength([1,2])}\\n'\n",
    "          f'd(0,3) = {opt_mol.GetConformer(i).GetBondLength([0,3])}\\n')\n",
    "    mol_viewer(opt_mol, viewer=viewer, viewer_loc=grids[i])\n",
    "print(f'Force field energies for each conformers: {ff.get_conformer_energies()}')\n",
    "viewer.update()"
   ]
  },
  {
   "cell_type": "markdown",
   "metadata": {},
   "source": [
    "### 6. 1D torsional scan"
   ]
  },
  {
   "cell_type": "code",
   "execution_count": 18,
   "metadata": {},
   "outputs": [],
   "source": [
    "xyz=\"\"\"O     -1.4560320000   -0.6564780000   -0.0547780000\n",
    "C      0.6264870000    0.6420160000   -0.2996580000\n",
    "C     -0.7756090000    0.5456950000    0.3029210000\n",
    "C      1.5452770000   -0.5075760000    0.1202110000\n",
    "H      1.0636220000    1.6047080000   -0.0081600000\n",
    "H      0.5390000000    0.6678840000   -1.3943400000\n",
    "H     -1.3675760000    1.4276160000    0.0200750000\n",
    "H     -0.7153500000    0.5286660000    1.3946760000\n",
    "H      1.7247880000   -0.4909950000    1.1997250000\n",
    "H      2.5146430000   -0.4479850000   -0.3811650000\n",
    "H      1.0902030000   -1.4695310000   -0.1238680000\n",
    "H     -1.5780000000   -0.6493500000   -1.0095640000\"\"\"\n",
    "\n",
    "mol6 = RDKitMol.FromXYZ(xyz, header=False)\n",
    "\n",
    "torsion1 = mol6.GetTorsionalModes(excludeMethyl=True)[0]"
   ]
  },
  {
   "cell_type": "code",
   "execution_count": 19,
   "metadata": {},
   "outputs": [],
   "source": [
    "ff = RDKitFF()\n",
    "ff.setup(mol6.Copy())\n",
    "angles1, rigid_E = ff.torsional_scan_1d(torsion1, num_points=45, return_xyz=False)\n",
    "angles2, relax_E = ff.torsional_scan_1d(torsion1, num_points=45, rigid=False, return_xyz=False)\n"
   ]
  },
  {
   "cell_type": "code",
   "execution_count": 20,
   "metadata": {},
   "outputs": [
    {
     "data": {
      "text/plain": [
       "<matplotlib.legend.Legend at 0x7fc07592c850>"
      ]
     },
     "execution_count": 20,
     "metadata": {},
     "output_type": "execute_result"
    },
    {
     "data": {
      "image/png": "[encoded data removed]",
      "text/plain": [
       "<Figure size 432x288 with 1 Axes>"
      ]
     },
     "metadata": {
      "needs_background": "light"
     },
     "output_type": "display_data"
    }
   ],
   "source": [
    "fig, ax = plt.subplots(1, 1)\n",
    "plot_curve(x=angles1, y=rigid_E,\n",
    "           relative_x=0, periodic_x=360, relative_y='min',\n",
    "           ax=ax,\n",
    "           xlabel='Torsional angle (degree)',\n",
    "           ylabel='Energy (kcal/mol)')\n",
    "plot_curve(x=angles2, y=relax_E,\n",
    "           relative_x=0, periodic_x=360, relative_y=0,\n",
    "           ax=ax,\n",
    "           xlabel='Torsional angle (degree)',\n",
    "           ylabel='Energy (kcal/mol)')\n",
    "ax.legend(['Rigid', 'Relax'])\n"
   ]
  },
  {
   "cell_type": "code",
   "execution_count": null,
   "metadata": {},
   "outputs": [],
   "source": []
  }
 ],
 "metadata": {
  "@webio": {
   "lastCommId": null,
   "lastKernelId": null
  },
  "interpreter": {
   "hash": "85d1b8872cf2a473cd94ec60df3b0395d0e9b5ff43584203099638555d530dd7"
  },
  "kernelspec": {
   "display_name": "Python 3 (ipykernel)",
   "language": "python",
   "name": "python3"
  },
  "language_info": {
   "codemirror_mode": {
    "name": "ipython",
    "version": 3
   },
   "file_extension": ".py",
   "mimetype": "text/x-python",
   "name": "python",
   "nbconvert_exporter": "python",
   "pygments_lexer": "ipython3",
   "version": "3.7.12"
  }
 },
 "nbformat": 4,
 "nbformat_minor": 2
}
