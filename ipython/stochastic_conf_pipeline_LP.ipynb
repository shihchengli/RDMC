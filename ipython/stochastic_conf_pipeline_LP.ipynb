{
 "cells": [
  {
   "cell_type": "markdown",
   "metadata": {},
   "source": [
    "# Stable species conformer search\n",
    "Leverage ETKDG for stochastic conformer generation\n",
    "\n",
    "Use this as a base for ML conformer generation\n",
    "\n",
    "The idea is to have modular methods for each step, which are currently hardcoded. This includes:\n",
    "- initial conformer embedding (ETKDG, GeoMol)\n",
    "- optimization/energy (MMFF, UFF, GFN-FF, GFN2-xTB)\n",
    "- pruning (torsion fingerprints, CREGEN)\n",
    "- convergence metrics (conformational entropy/partition function)"
   ]
  },
  {
   "cell_type": "code",
   "execution_count": 1,
   "metadata": {},
   "outputs": [],
   "source": [
    "from rdmc.conformer_generation.embedders import *\n",
    "from rdmc.conformer_generation.optimizers import *\n",
    "from rdmc.conformer_generation.pruners import *\n",
    "from rdmc.conformer_generation.metrics import *\n",
    "from rdmc.conformer_generation.generators import StochasticConformerGenerator\n",
    "\n",
    "from rdmc.view import mol_viewer, interactive_conformer_viewer, conformer_viewer\n",
    "\n",
    "T = 298  # K\n",
    "R = 0.0019872  # kcal/(K*mol)\n",
    "HARTREE_TO_KCAL_MOL = 627.503"
   ]
  },
  {
   "cell_type": "code",
   "execution_count": 4,
   "metadata": {},
   "outputs": [],
   "source": [
    "from rdkit import Chem\n",
    "\n",
    "smi = \"[C:1]([C@@:2]([O:3][H:12])([C:4]([N:5]([C:6](=[O:7])[H:16])[H:15])([H:13])[H:14])[H:11])([H:8])([H:9])[H:10]\""
   ]
  },
  {
   "cell_type": "code",
   "execution_count": 5,
   "metadata": {
    "scrolled": true
   },
   "outputs": [
    {
     "name": "stderr",
     "output_type": "stream",
     "text": [
      "2022/04/01 03:17:42 PM | StochasticConformerGenerator | INFO: Config specified: using default settings for normal config\n",
      "2022/04/01 03:17:42 PM | StochasticConformerGenerator | INFO: Generating conformers for [C:1]([C@@:2]([O:3][H:12])([C:4]([N:5]([C:6](=[O:7])[H:16])[H:15])([H:13])[H:14])[H:11])([H:8])([H:9])[H:10]\n",
      "2022/04/01 03:17:42 PM | StochasticConformerGenerator | INFO: \n",
      "Iteration 1: embedding 100 initial guesses...\n",
      "2022/04/01 03:17:42 PM | StochasticConformerGenerator | INFO: Iteration 1: optimizing initial guesses...\n",
      "2022/04/01 03:17:45 PM | StochasticConformerGenerator | INFO: Iteration 1: pruning conformers...\n",
      "2022/04/01 03:17:45 PM | StochasticConformerGenerator | INFO: Iteration 1: kept 9 unique conformers\n",
      "2022/04/01 03:17:45 PM | StochasticConformerGenerator | INFO: \n",
      "Iteration 2: embedding 100 initial guesses...\n",
      "2022/04/01 03:17:46 PM | StochasticConformerGenerator | INFO: Iteration 2: optimizing initial guesses...\n",
      "2022/04/01 03:17:49 PM | StochasticConformerGenerator | INFO: Iteration 2: pruning conformers...\n",
      "2022/04/01 03:17:49 PM | StochasticConformerGenerator | INFO: Iteration 2: kept 18 unique conformers\n",
      "2022/04/01 03:17:49 PM | StochasticConformerGenerator | INFO: \n",
      "Iteration 3: embedding 100 initial guesses...\n",
      "2022/04/01 03:17:49 PM | StochasticConformerGenerator | INFO: Iteration 3: optimizing initial guesses...\n",
      "2022/04/01 03:17:52 PM | StochasticConformerGenerator | INFO: Iteration 3: pruning conformers...\n",
      "2022/04/01 03:17:52 PM | StochasticConformerGenerator | INFO: Iteration 3: kept 27 unique conformers\n",
      "2022/04/01 03:17:52 PM | StochasticConformerGenerator | INFO: \n",
      "Iteration 4: embedding 100 initial guesses...\n",
      "2022/04/01 03:17:52 PM | StochasticConformerGenerator | INFO: Iteration 4: optimizing initial guesses...\n",
      "2022/04/01 03:17:55 PM | StochasticConformerGenerator | INFO: Iteration 4: pruning conformers...\n",
      "2022/04/01 03:17:55 PM | StochasticConformerGenerator | INFO: Iteration 4: kept 35 unique conformers\n",
      "2022/04/01 03:17:55 PM | StochasticConformerGenerator | INFO: \n",
      "Iteration 5: embedding 100 initial guesses...\n",
      "2022/04/01 03:17:55 PM | StochasticConformerGenerator | INFO: Iteration 5: optimizing initial guesses...\n",
      "2022/04/01 03:17:59 PM | StochasticConformerGenerator | INFO: Iteration 5: pruning conformers...\n",
      "2022/04/01 03:17:59 PM | StochasticConformerGenerator | INFO: Iteration 5: kept 43 unique conformers\n",
      "2022/04/01 03:17:59 PM | StochasticConformerGenerator | INFO: \n",
      "Iteration 6: embedding 100 initial guesses...\n",
      "2022/04/01 03:17:59 PM | StochasticConformerGenerator | INFO: Iteration 6: optimizing initial guesses...\n",
      "2022/04/01 03:18:02 PM | StochasticConformerGenerator | INFO: Iteration 6: pruning conformers...\n",
      "2022/04/01 03:18:02 PM | StochasticConformerGenerator | INFO: Iteration 6: kept 44 unique conformers\n",
      "2022/04/01 03:18:02 PM | StochasticConformerGenerator | INFO: \n",
      "Iteration 7: embedding 100 initial guesses...\n",
      "2022/04/01 03:18:02 PM | StochasticConformerGenerator | INFO: Iteration 7: optimizing initial guesses...\n",
      "2022/04/01 03:18:05 PM | StochasticConformerGenerator | INFO: Iteration 7: pruning conformers...\n",
      "2022/04/01 03:18:05 PM | StochasticConformerGenerator | INFO: Iteration 7: kept 46 unique conformers\n",
      "2022/04/01 03:18:05 PM | StochasticConformerGenerator | INFO: \n",
      "Iteration 8: embedding 100 initial guesses...\n",
      "2022/04/01 03:18:05 PM | StochasticConformerGenerator | INFO: Iteration 8: optimizing initial guesses...\n",
      "2022/04/01 03:18:08 PM | StochasticConformerGenerator | INFO: Iteration 8: pruning conformers...\n",
      "2022/04/01 03:18:08 PM | StochasticConformerGenerator | INFO: Iteration 8: kept 52 unique conformers\n",
      "2022/04/01 03:18:08 PM | StochasticConformerGenerator | INFO: \n",
      "Iteration 9: embedding 100 initial guesses...\n",
      "2022/04/01 03:18:09 PM | StochasticConformerGenerator | INFO: Iteration 9: optimizing initial guesses...\n",
      "2022/04/01 03:18:12 PM | StochasticConformerGenerator | INFO: Iteration 9: pruning conformers...\n",
      "2022/04/01 03:18:12 PM | StochasticConformerGenerator | INFO: Iteration 9: kept 50 unique conformers\n",
      "2022/04/01 03:18:12 PM | StochasticConformerGenerator | INFO: \n",
      "Iteration 10: embedding 100 initial guesses...\n",
      "2022/04/01 03:18:12 PM | StochasticConformerGenerator | INFO: Iteration 10: optimizing initial guesses...\n",
      "2022/04/01 03:18:15 PM | StochasticConformerGenerator | INFO: Iteration 10: pruning conformers...\n",
      "2022/04/01 03:18:15 PM | StochasticConformerGenerator | INFO: Iteration 10: kept 49 unique conformers\n",
      "2022/04/01 03:18:15 PM | StochasticConformerGenerator | INFO: \n",
      "Iteration 11: embedding 100 initial guesses...\n",
      "2022/04/01 03:18:15 PM | StochasticConformerGenerator | INFO: Iteration 11: optimizing initial guesses...\n",
      "2022/04/01 03:18:18 PM | StochasticConformerGenerator | INFO: Iteration 11: pruning conformers...\n",
      "2022/04/01 03:18:18 PM | StochasticConformerGenerator | INFO: Iteration 11: kept 54 unique conformers\n",
      "2022/04/01 03:18:18 PM | StochasticConformerGenerator | INFO: \n",
      "Iteration 12: embedding 100 initial guesses...\n",
      "2022/04/01 03:18:18 PM | StochasticConformerGenerator | INFO: Iteration 12: optimizing initial guesses...\n",
      "2022/04/01 03:18:21 PM | StochasticConformerGenerator | INFO: Iteration 12: pruning conformers...\n",
      "2022/04/01 03:18:22 PM | StochasticConformerGenerator | INFO: Iteration 12: kept 52 unique conformers\n",
      "2022/04/01 03:18:22 PM | StochasticConformerGenerator | INFO: \n",
      "Iteration 13: embedding 100 initial guesses...\n",
      "2022/04/01 03:18:22 PM | StochasticConformerGenerator | INFO: Iteration 13: optimizing initial guesses...\n",
      "2022/04/01 03:18:25 PM | StochasticConformerGenerator | INFO: Iteration 13: pruning conformers...\n",
      "2022/04/01 03:18:25 PM | StochasticConformerGenerator | INFO: Iteration 13: kept 59 unique conformers\n",
      "2022/04/01 03:18:25 PM | StochasticConformerGenerator | INFO: \n",
      "Iteration 14: embedding 100 initial guesses...\n",
      "2022/04/01 03:18:25 PM | StochasticConformerGenerator | INFO: Iteration 14: optimizing initial guesses...\n",
      "2022/04/01 03:18:28 PM | StochasticConformerGenerator | INFO: Iteration 14: pruning conformers...\n",
      "2022/04/01 03:18:28 PM | StochasticConformerGenerator | INFO: Iteration 14: kept 66 unique conformers\n",
      "2022/04/01 03:18:28 PM | StochasticConformerGenerator | INFO: \n",
      "Iteration 15: embedding 100 initial guesses...\n",
      "2022/04/01 03:18:28 PM | StochasticConformerGenerator | INFO: Iteration 15: optimizing initial guesses...\n",
      "2022/04/01 03:18:31 PM | StochasticConformerGenerator | INFO: Iteration 15: pruning conformers...\n",
      "2022/04/01 03:18:31 PM | StochasticConformerGenerator | INFO: Iteration 15: kept 74 unique conformers\n",
      "2022/04/01 03:18:31 PM | StochasticConformerGenerator | INFO: \n",
      "Iteration 16: embedding 100 initial guesses...\n",
      "2022/04/01 03:18:32 PM | StochasticConformerGenerator | INFO: Iteration 16: optimizing initial guesses...\n",
      "2022/04/01 03:18:35 PM | StochasticConformerGenerator | INFO: Iteration 16: pruning conformers...\n",
      "2022/04/01 03:18:35 PM | StochasticConformerGenerator | INFO: Iteration 16: kept 76 unique conformers\n",
      "2022/04/01 03:18:35 PM | StochasticConformerGenerator | INFO: \n",
      "Iteration 17: embedding 100 initial guesses...\n",
      "2022/04/01 03:18:35 PM | StochasticConformerGenerator | INFO: Iteration 17: optimizing initial guesses...\n",
      "2022/04/01 03:18:38 PM | StochasticConformerGenerator | INFO: Iteration 17: pruning conformers...\n",
      "2022/04/01 03:18:38 PM | StochasticConformerGenerator | INFO: Iteration 17: kept 72 unique conformers\n",
      "2022/04/01 03:18:38 PM | StochasticConformerGenerator | INFO: \n",
      "Iteration 18: embedding 100 initial guesses...\n",
      "2022/04/01 03:18:38 PM | StochasticConformerGenerator | INFO: Iteration 18: optimizing initial guesses...\n",
      "2022/04/01 03:18:41 PM | StochasticConformerGenerator | INFO: Iteration 18: pruning conformers...\n",
      "2022/04/01 03:18:41 PM | StochasticConformerGenerator | INFO: Iteration 18: kept 68 unique conformers\n",
      "2022/04/01 03:18:41 PM | StochasticConformerGenerator | INFO: \n",
      "Iteration 19: embedding 100 initial guesses...\n",
      "2022/04/01 03:18:41 PM | StochasticConformerGenerator | INFO: Iteration 19: optimizing initial guesses...\n",
      "2022/04/01 03:18:44 PM | StochasticConformerGenerator | INFO: Iteration 19: pruning conformers...\n",
      "2022/04/01 03:18:44 PM | StochasticConformerGenerator | INFO: Iteration 19: kept 65 unique conformers\n",
      "2022/04/01 03:18:44 PM | StochasticConformerGenerator | INFO: \n",
      "Iteration 20: embedding 100 initial guesses...\n"
     ]
    },
    {
     "name": "stderr",
     "output_type": "stream",
     "text": [
      "2022/04/01 03:18:45 PM | StochasticConformerGenerator | INFO: Iteration 20: optimizing initial guesses...\n",
      "2022/04/01 03:18:48 PM | StochasticConformerGenerator | INFO: Iteration 20: pruning conformers...\n",
      "2022/04/01 03:18:48 PM | StochasticConformerGenerator | INFO: Iteration 20: kept 66 unique conformers\n",
      "2022/04/01 03:18:48 PM | StochasticConformerGenerator | INFO: \n",
      "Iteration 21: embedding 100 initial guesses...\n",
      "2022/04/01 03:18:48 PM | StochasticConformerGenerator | INFO: Iteration 21: optimizing initial guesses...\n",
      "2022/04/01 03:18:51 PM | StochasticConformerGenerator | INFO: Iteration 21: pruning conformers...\n",
      "2022/04/01 03:18:51 PM | StochasticConformerGenerator | INFO: Iteration 21: kept 65 unique conformers\n",
      "2022/04/01 03:18:51 PM | StochasticConformerGenerator | INFO: \n",
      "Iteration 22: embedding 100 initial guesses...\n",
      "2022/04/01 03:18:51 PM | StochasticConformerGenerator | INFO: Iteration 22: optimizing initial guesses...\n",
      "2022/04/01 03:18:54 PM | StochasticConformerGenerator | INFO: Iteration 22: pruning conformers...\n",
      "2022/04/01 03:18:54 PM | StochasticConformerGenerator | INFO: Iteration 22: kept 63 unique conformers\n",
      "2022/04/01 03:18:54 PM | StochasticConformerGenerator | INFO: \n",
      "Iteration 23: embedding 100 initial guesses...\n",
      "2022/04/01 03:18:54 PM | StochasticConformerGenerator | INFO: Iteration 23: optimizing initial guesses...\n",
      "2022/04/01 03:18:58 PM | StochasticConformerGenerator | INFO: Iteration 23: pruning conformers...\n",
      "2022/04/01 03:18:58 PM | StochasticConformerGenerator | INFO: Iteration 23: kept 63 unique conformers\n",
      "2022/04/01 03:18:58 PM | StochasticConformerGenerator | INFO: \n",
      "Iteration 24: embedding 100 initial guesses...\n",
      "2022/04/01 03:18:58 PM | StochasticConformerGenerator | INFO: Iteration 24: optimizing initial guesses...\n",
      "2022/04/01 03:19:01 PM | StochasticConformerGenerator | INFO: Iteration 24: pruning conformers...\n",
      "2022/04/01 03:19:01 PM | StochasticConformerGenerator | INFO: Iteration 24: kept 65 unique conformers\n",
      "2022/04/01 03:19:01 PM | StochasticConformerGenerator | INFO: \n",
      "Iteration 25: embedding 100 initial guesses...\n",
      "2022/04/01 03:19:01 PM | StochasticConformerGenerator | INFO: Iteration 25: optimizing initial guesses...\n",
      "2022/04/01 03:19:04 PM | StochasticConformerGenerator | INFO: Iteration 25: pruning conformers...\n",
      "2022/04/01 03:19:04 PM | StochasticConformerGenerator | INFO: Iteration 25: kept 63 unique conformers\n",
      "2022/04/01 03:19:04 PM | StochasticConformerGenerator | INFO: Iteration 25: stop crietria reached\n",
      "\n",
      "2022/04/01 03:19:04 PM | StochasticConformerGenerator | INFO: Calling CRESTPruner\n",
      "2022/04/01 03:19:04 PM | StochasticConformerGenerator | INFO: Calling XTBOptimizer\n",
      "2022/04/01 03:19:13 PM | StochasticConformerGenerator | INFO: Calling CRESTPruner\n"
     ]
    },
    {
     "name": "stdout",
     "output_type": "stream",
     "text": [
      "9 0.008233205857910033\n"
     ]
    }
   ],
   "source": [
    "embedder = ETKDGEmbedder(track_stats=True)\n",
    "# embedder = GeoMolEmbedder(\"../rdmc/external/GeoMol/trained_models/both/\", dataset=\"drugs\", track_stats=True, temp_schedule=\"none\")\n",
    "optimizer = XTBOptimizer()\n",
    "pruner = TorsionPruner(max_chk_threshold=30)\n",
    "metric = SCGMetric(metric=\"entropy\", window=5, threshold=0.005)\n",
    "n_conformers_per_iter = 100\n",
    "\n",
    "scg = StochasticConformerGenerator(\n",
    "    smiles=smi,\n",
    "    config=\"normal\",\n",
    "    embedder=embedder,\n",
    "    min_iters=5\n",
    ")\n",
    "\n",
    "unique_mol_data = scg(n_conformers_per_iter)\n",
    "print(len(unique_mol_data), scg.metric.metric_history[-1])"
   ]
  },
  {
   "cell_type": "code",
   "execution_count": 6,
   "metadata": {},
   "outputs": [
    {
     "data": {
      "application/vnd.jupyter.widget-view+json": {
       "model_id": "a006a637bd1943c0b5db28b99366abe4",
       "version_major": 2,
       "version_minor": 0
      },
      "text/plain": [
       "interactive(children=(IntSlider(value=0, description='confId', max=8), Output()), _dom_classes=('widget-intera…"
      ]
     },
     "metadata": {},
     "output_type": "display_data"
    },
    {
     "data": {
      "text/plain": [
       "<function rdmc.view.interactive_conformer_viewer.<locals>.<lambda>(confId)>"
      ]
     },
     "execution_count": 6,
     "metadata": {},
     "output_type": "execute_result"
    }
   ],
   "source": [
    "mol = dict_to_mol(unique_mol_data)\n",
    "interactive_conformer_viewer(mol)"
   ]
  },
  {
   "cell_type": "code",
   "execution_count": null,
   "metadata": {},
   "outputs": [],
   "source": [
    "test_smiles = [\n",
    "    \"C([C@@H]1[C@H]([C@@H]([C@H]([C@H](O1)O)O)O)O)O\",\n",
    "    \"CC[C@@H]1CCCC[C@@H]1C\",\n",
    "    \"CCCCCCCCCC\",\n",
    "    \"CC1=CCCC(C1/C=C/C(=O)C)(C)C\",\n",
    "    \"C[C@H]1CC[C@H](CC2=C1CC[C@@H]2C)C(C)(C)O\",\n",
    "    \"N[C@@H](Cc1ccccc1)C(=O)N[C@@H](Cc2ccccc2)C(O)=O\",\n",
    "    \"C1COCC(=O)N1C2=CC=C(C=C2)N3C[C@@H](OC3=O)CNC(=O)C4=CC=C(S4)Cl\",\n",
    "    \"CCCCCOC(=O)NC1=NC(=O)N(C=C1F)[C@H]2[C@@H]([C@@H]([C@H](O2)C)O)O\",\n",
    "    \"CCC(CC)O[C@@H]1C=C(C[C@@H]([C@H]1NC(=O)C)N)C(=O)OCC\",\n",
    "    \"C[C@]12CC[C@@H](CC1=CC[C@@H]3[C@@H]2CC[C@]4([C@H]3CC=C4C5=CN=CC=C5)C)O\",\n",
    "    \"C1CCN(C1)CCOC2=C3COC/C=C/COCC4=CC(=CC=C4)C5=NC(=NC=C5)NC(=C3)C=C2\",\n",
    "    \"C[C@@H]1OC[C@@H]2[C@@H](O1)[C@@H]([C@H]([C@@H](O2)O[C@H]3[C@H]4COC(=O)[C@@H]4[C@@H](C5=CC6=C(C=C35)OCO6)C7=CC(=C(C(=C7)OC)O)OC)O)O\",\n",
    "    \"CC(C)C[C@@H](C1=C(C(=C(C(=C1O)C=O)O)C=O)O)[C@]2(CC[C@@H]3[C@@H]2[C@H]4[C@H](C4(C)C)CC[C@@]3(C)O)C\",\n",
    "    \"C[C@H](N)C(=O)N[C@@H](C)C(=O)N[C@@H](C)C(=O)N[C@@H](C)C(=O)N[C@@H](C)C(=O)N[C@@H](C)C(=O)N[C@@H](C)C(=O)N[C@@H](C)C(=O)N[C@@H](C)C(=O)N[C@@H](C)C(=O)O\",\n",
    "    \"CC1=C2[C@H](C(=O)[C@@]3([C@H](C[C@@H]4[C@]([C@H]3[C@@H]([C@@](C2(C)C)(C[C@@H]1OC(=O)[C@@H]([C@H](C5=CC=CC=C5)NC(=O)C6=CC=CC=C6)O)O)OC(=O)C7=CC=CC=C7)(CO4)OC(=O)C)O)C)OC(=O)C\",\n",
    "    \"C[C@@H]1C[C@H]2CC[C@H](O2)[C@@H](C(=O)O[C@H](C[C@@H]3CC[C@@H](O3)[C@H](C(=O)O[C@@H](C[C@H]4CC[C@H](O4)[C@@H](C(=O)O[C@H](C[C@@H]5CC[C@@H](O5)[C@H](C(=O)O1)C)C)C)C)C)C)C\",\n",
    "    \"CC[C@@]1(C[C@H]2C[C@@](C3=C(CCN(C2)C1)C4=CC=CC=C4N3)(C5=C(C=C6C(=C5)[C@]78CCN9[C@H]7[C@@](C=CC9)([C@H]([C@@]([C@@H]8N6C)(C(=O)OC)O)OC(=O)C)CC)OC)C(=O)OC)O\",\n",
    "    \"CC(C)[C@@H](C(=O)N1CC2(CC2)C[C@H]1C3=NC=C(N3)C4=CC5=C(C=C4)C6=C(C5(F)F)C=C(C=C6)C7=CC8=C(C=C7)N=C(N8)[C@@H]9[C@H]1CC[C@H](C1)N9C(=O)[C@H](C(C)C)NC(=O)OC)NC(=O)OC\",\n",
    "    \"C[C@@H]1CC[C@H]2C[C@@H](/C(=C/C=C/C=C/[C@H](C[C@H](C(=O)[C@@H]([C@@H](/C(=C/[C@H](C(=O)C[C@H](OC(=O)[C@@H]3CCCCN3C(=O)C(=O)[C@@]1(O2)O)[C@H](C)C[C@@H]4CC[C@H]([C@@H](C4)OC)OCCO)C)/C)O)OC)C)C)/C)OC\",\n",
    "    \"C[C@H]1[C@H]([C@@](C[C@@H](O1)O[C@@H]2[C@H]([C@@H]([C@H](O[C@H]2OC3=C4C=C5C=C3OC6=C(C=C(C=C6)[C@H]([C@H](C(=O)N[C@H](C(=O)N[C@H]5C(=O)N[C@@H]7C8=CC(=C(C=C8)O)C9=C(C=C(C=C9O)O)[C@H](NC(=O)[C@H]([C@@H](C1=CC(=C(O4)C=C1)Cl)O)NC7=O)C(=O)O)CC(=O)N)NC(=O)[C@@H](CC(C)C)NC)O)Cl)CO)O)O)(C)N)O\"\n",
    "]\n",
    "\n",
    "import csv\n",
    "\n",
    "with open(\"./../rdmc/conformer_exps/organic_conf_gen/smiles.csv\", \"w\") as f:\n",
    "    writer = csv.writer(f, delimiter=\"\\n\")\n",
    "    writer.writerow(test_smiles)"
   ]
  },
  {
   "cell_type": "code",
   "execution_count": null,
   "metadata": {},
   "outputs": [],
   "source": []
  }
 ],
 "metadata": {
  "kernelspec": {
   "display_name": "Python [conda env:rdmc_env] *",
   "language": "python",
   "name": "conda-env-rdmc_env-py"
  },
  "language_info": {
   "codemirror_mode": {
    "name": "ipython",
    "version": 3
   },
   "file_extension": ".py",
   "mimetype": "text/x-python",
   "name": "python",
   "nbconvert_exporter": "python",
   "pygments_lexer": "ipython3",
   "version": "3.7.7"
  }
 },
 "nbformat": 4,
 "nbformat_minor": 5
}
