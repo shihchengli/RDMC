{
 "cells": [
  {
   "cell_type": "code",
   "execution_count": 1,
   "metadata": {},
   "outputs": [],
   "source": [
    "from rdkit import Chem\n",
    "from rdmc import RDKitMol\n",
    "\n",
    "from rdmc.conformer_generation.ts_generators import TSConformerGenerator\n",
    "from rdmc.conformer_generation.ts_guessers import TSEGNNGuesser\n",
    "from rdmc.conformer_generation.ts_optimizers import SellaOptimizer\n",
    "\n",
    "from rdmc.view import interactive_conformer_viewer\n",
    "from rdmc.external.xtb_tools.opt import run_xtb_calc"
   ]
  },
  {
   "cell_type": "code",
   "execution_count": 14,
   "metadata": {},
   "outputs": [],
   "source": [
    "# specify reaction\n",
    "\n",
    "# rxn_smiles = '[C:11]1([H:23])([H:24])[C:12]([H:25])([H:26])[C:13]([H:27])([H:28])[C:14]([H:29])=[C:15]([H:30])[C:16]1([H:31])[H:32].[c:1]1([H:17])[c:2]([H:18])[c:3]([H:19])[c:4]([C:7](=[O:8])[O:9][O:10][H:22])[c:5]([H:20])[c:6]1[H:21]>>[C:11]1([H:23])([H:24])[C:12]([H:25])([H:26])[C:13]([H:27])([H:28])[C:14]2([H:29])[O:10][C:15]2([H:30])[C:16]1([H:31])[H:32].[c:1]1([H:17])[c:2]([H:18])[c:3]([H:19])[c:4]([C:7]([O:8][H:22])=[O:9])[c:5]([H:20])[c:6]1[H:21]'\n",
    "# rxn_smiles = '[C:1]([C:2]([C:3]([H:20])([H:21])[H:22])([O:4])[C:5]([H:23])([H:24])[H:25])([H:17])([H:18])[H:19].[C:6]([C:7]([C:8]([H:29])([H:30])[H:31])([C:9]([H:32])([H:33])[H:34])[c:10]1[c:11]([H:35])[c:12]([H:36])[c:13]([O:14][H:37])[c:15]([H:38])[c:16]1[H:39])([H:26])([H:27])[H:28]>>[C:1]([C:2]([C:3]([H:20])([H:21])[H:22])([O:4][H:37])[C:5]([H:23])([H:24])[H:25])([H:17])([H:18])[H:19].[C:6]([C:7]([C:8]([H:29])([H:30])[H:31])([C:9]([H:32])([H:33])[H:34])[c:10]1[c:11]([H:35])[c:12]([H:36])[c:13]([O:14])[c:15]([H:38])[c:16]1[H:39])([H:26])([H:27])[H:28]'\n",
    "# rxn_smiles = \"[C:1]([C@@:2]([O:3][H:12])([C:4]([N:5]([C:6](=[O:7])[H:16])[H:15])([H:13])[H:14])[H:11])([H:8])([H:9])[H:10]>>[C:1]([C@@:2]([O:3][H:12])([C:4](/[N:5]=[C:6](/[O:7][H:15])[H:16])([H:13])[H:14])[H:11])([H:8])([H:9])[H:10]\"\n",
    "\n",
    "# rxn_smiles = '[C:1](=[C:2]([C:3]([C:4]([C:5](=[C:6]([C:7]([H:17])[H:18])[H:16])[H:15])([H:13])[H:14])([H:11])[H:12])[H:10])([H:8])[H:9]>>[C:1]([C:2]1([H:10])[C:3]([H:11])([H:12])[C:4]([H:13])([H:14])[C:5]([H:15])=[C:6]([H:16])[C:7]1([H:17])[H:18])([H:8])[H:9]'\n",
    "rxn_smiles = '[C:1](=[C:2]([C:3]([C:4]([C:5]([C:6](=[C:7]([H:17])[H:18])[H:16])[H:15])([H:13])[H:14])([H:11])[H:12])[H:10])([H:8])[H:9]>>[C:1]1([H:8])([H:9])[C:2]([H:10])[C:3]([H:11])([H:12])[C:4]([H:13])([H:14])[C@@:5]1([C:6](=[C:7]([H:17])[H:18])[H:16])[H:15]'\n",
    "# rxn_smiles = '[N:1]([c:2]1[c:3]([H:9])[n:4]([H:10])[c:5]([H:11])[n:6]1)([H:7])[H:8]>>[N:1]([C:2]1=[N:6][C:5]([H:11])=[N:4][C:3]1([H:9])[H:10])([H:7])[H:8]'\n",
    "# rxn_smiles = \"[C:1]([C:2]([C:3]([H:11])([H:12])[H:13])([C:4]([C:5]#[N:6])([H:14])[H:15])[H:10])([H:7])([H:8])[H:9]>>[C:1]([C:2]([C:3]([H:11])([H:12])[H:13])([C:4]([N+:6]#[C-:5])([H:14])[H:15])[H:10])([H:7])([H:8])[H:9]\"\n",
    "# rxn_smiles = \"[C:1]([C:2]([C:3]([H:11])([H:12])[H:13])([C:4]([C:5]#[N:6])([H:14])[H:15])[H:10])([H:7])([H:8])[H:9]>>[C:1]([C:2]([C:3]([H:11])([H:12])[H:13])=[C:4]([C:5]#[N:6])[H:14])([H:7])([H:8])[H:9].[H:10][H:15]\""
   ]
  },
  {
   "cell_type": "code",
   "execution_count": 15,
   "metadata": {},
   "outputs": [],
   "source": [
    "trained_model_dir = \"../../ts_egnn/trained_models/2022_02_07/\"\n",
    "\n",
    "ts_gen = TSConformerGenerator(\n",
    "    rxn_smiles=rxn_smiles,\n",
    "    embedder=TSEGNNGuesser(trained_model_dir, track_stats=True),\n",
    "    optimizer=SellaOptimizer(track_stats=True),\n",
    "    save_dir=\"./test_ts\"\n",
    ")"
   ]
  },
  {
   "cell_type": "code",
   "execution_count": 16,
   "metadata": {
    "scrolled": true
   },
   "outputs": [
    {
     "name": "stderr",
     "output_type": "stream",
     "text": [
      "2022/03/07 05:28:48 PM | TSConformerGenerator | INFO: Embedding stable species conformers...\n",
      "2022/03/07 05:28:48 PM | StochasticConformerGenerator | INFO: Config specified: using default settings for loose config\n",
      "2022/03/07 05:28:48 PM | StochasticConformerGenerator | INFO: Generating conformers for [C:1](=[C:2]([C:3]([C:4]([C:5]([C:6](=[C:7]([H:17])[H:18])[H:16])[H:15])([H:13])[H:14])([H:11])[H:12])[H:10])([H:8])[H:9]\n",
      "2022/03/07 05:28:48 PM | StochasticConformerGenerator | INFO: \n",
      "Iteration 1: embedding 20 initial guesses...\n",
      "2022/03/07 05:28:48 PM | StochasticConformerGenerator | INFO: Iteration 1: optimizing initial guesses...\n",
      "2022/03/07 05:28:48 PM | StochasticConformerGenerator | INFO: Iteration 1: pruning conformers...\n",
      "2022/03/07 05:28:48 PM | StochasticConformerGenerator | INFO: Iteration 1: kept 13 unique conformers\n",
      "2022/03/07 05:28:48 PM | StochasticConformerGenerator | INFO: \n",
      "Iteration 2: embedding 20 initial guesses...\n",
      "2022/03/07 05:28:48 PM | StochasticConformerGenerator | INFO: Iteration 2: optimizing initial guesses...\n",
      "2022/03/07 05:28:49 PM | StochasticConformerGenerator | INFO: Iteration 2: pruning conformers...\n",
      "2022/03/07 05:28:49 PM | StochasticConformerGenerator | INFO: Iteration 2: kept 21 unique conformers\n",
      "2022/03/07 05:28:49 PM | StochasticConformerGenerator | INFO: \n",
      "Iteration 3: embedding 20 initial guesses...\n",
      "2022/03/07 05:28:49 PM | StochasticConformerGenerator | INFO: Iteration 3: optimizing initial guesses...\n",
      "2022/03/07 05:28:50 PM | StochasticConformerGenerator | INFO: Iteration 3: pruning conformers...\n",
      "2022/03/07 05:28:50 PM | StochasticConformerGenerator | INFO: Iteration 3: kept 28 unique conformers\n",
      "2022/03/07 05:28:50 PM | StochasticConformerGenerator | INFO: \n",
      "Iteration 4: embedding 20 initial guesses...\n",
      "2022/03/07 05:28:50 PM | StochasticConformerGenerator | INFO: Iteration 4: optimizing initial guesses...\n",
      "2022/03/07 05:28:51 PM | StochasticConformerGenerator | INFO: Iteration 4: pruning conformers...\n",
      "2022/03/07 05:28:51 PM | StochasticConformerGenerator | INFO: Iteration 4: kept 36 unique conformers\n",
      "2022/03/07 05:28:51 PM | StochasticConformerGenerator | INFO: \n",
      "Iteration 5: embedding 20 initial guesses...\n",
      "2022/03/07 05:28:51 PM | StochasticConformerGenerator | INFO: Iteration 5: optimizing initial guesses...\n",
      "2022/03/07 05:28:51 PM | StochasticConformerGenerator | INFO: Iteration 5: pruning conformers...\n",
      "2022/03/07 05:28:52 PM | StochasticConformerGenerator | INFO: Iteration 5: kept 41 unique conformers\n",
      "2022/03/07 05:28:52 PM | StochasticConformerGenerator | INFO: \n",
      "Iteration 6: embedding 20 initial guesses...\n",
      "2022/03/07 05:28:52 PM | StochasticConformerGenerator | INFO: Iteration 6: optimizing initial guesses...\n",
      "2022/03/07 05:28:52 PM | StochasticConformerGenerator | INFO: Iteration 6: pruning conformers...\n",
      "2022/03/07 05:28:52 PM | StochasticConformerGenerator | INFO: Iteration 6: kept 48 unique conformers\n",
      "2022/03/07 05:28:52 PM | StochasticConformerGenerator | INFO: \n",
      "Iteration 7: embedding 20 initial guesses...\n",
      "2022/03/07 05:28:52 PM | StochasticConformerGenerator | INFO: Iteration 7: optimizing initial guesses...\n",
      "2022/03/07 05:28:53 PM | StochasticConformerGenerator | INFO: Iteration 7: pruning conformers...\n",
      "2022/03/07 05:28:53 PM | StochasticConformerGenerator | INFO: Iteration 7: kept 49 unique conformers\n",
      "2022/03/07 05:28:53 PM | StochasticConformerGenerator | INFO: Iteration 7: stop crietria reached\n",
      "\n",
      "2022/03/07 05:28:53 PM | StochasticConformerGenerator | INFO: Config specified: using default settings for loose config\n",
      "2022/03/07 05:28:53 PM | StochasticConformerGenerator | INFO: Generating conformers for [C:1]1([H:8])([H:9])[C:2]([H:10])[C:3]([H:11])([H:12])[C:4]([H:13])([H:14])[C@@:5]1([C:6](=[C:7]([H:17])[H:18])[H:16])[H:15]\n",
      "2022/03/07 05:28:53 PM | StochasticConformerGenerator | INFO: \n",
      "Iteration 1: embedding 20 initial guesses...\n",
      "2022/03/07 05:28:53 PM | StochasticConformerGenerator | INFO: Iteration 1: optimizing initial guesses...\n",
      "2022/03/07 05:28:54 PM | StochasticConformerGenerator | INFO: Iteration 1: pruning conformers...\n",
      "2022/03/07 05:28:54 PM | StochasticConformerGenerator | INFO: Iteration 1: kept 5 unique conformers\n",
      "2022/03/07 05:28:54 PM | StochasticConformerGenerator | INFO: \n",
      "Iteration 2: embedding 20 initial guesses...\n",
      "2022/03/07 05:28:54 PM | StochasticConformerGenerator | INFO: Iteration 2: optimizing initial guesses...\n",
      "2022/03/07 05:28:55 PM | StochasticConformerGenerator | INFO: Iteration 2: pruning conformers...\n",
      "2022/03/07 05:28:55 PM | StochasticConformerGenerator | INFO: Iteration 2: kept 7 unique conformers\n",
      "2022/03/07 05:28:55 PM | StochasticConformerGenerator | INFO: \n",
      "Iteration 3: embedding 20 initial guesses...\n",
      "2022/03/07 05:28:55 PM | StochasticConformerGenerator | INFO: Iteration 3: optimizing initial guesses...\n",
      "2022/03/07 05:28:55 PM | StochasticConformerGenerator | INFO: Iteration 3: pruning conformers...\n",
      "2022/03/07 05:28:55 PM | StochasticConformerGenerator | INFO: Iteration 3: kept 9 unique conformers\n",
      "2022/03/07 05:28:55 PM | StochasticConformerGenerator | INFO: \n",
      "Iteration 4: embedding 20 initial guesses...\n",
      "2022/03/07 05:28:55 PM | StochasticConformerGenerator | INFO: Iteration 4: optimizing initial guesses...\n",
      "2022/03/07 05:28:56 PM | StochasticConformerGenerator | INFO: Iteration 4: pruning conformers...\n",
      "2022/03/07 05:28:56 PM | StochasticConformerGenerator | INFO: Iteration 4: kept 10 unique conformers\n",
      "2022/03/07 05:28:56 PM | StochasticConformerGenerator | INFO: \n",
      "Iteration 5: embedding 20 initial guesses...\n",
      "2022/03/07 05:28:56 PM | StochasticConformerGenerator | INFO: Iteration 5: optimizing initial guesses...\n",
      "2022/03/07 05:28:57 PM | StochasticConformerGenerator | INFO: Iteration 5: pruning conformers...\n",
      "2022/03/07 05:28:57 PM | StochasticConformerGenerator | INFO: Iteration 5: kept 10 unique conformers\n",
      "2022/03/07 05:28:57 PM | StochasticConformerGenerator | INFO: Iteration 5: stop crietria reached\n",
      "\n",
      "2022/03/07 05:28:57 PM | TSConformerGenerator | INFO: Generating initial TS guesses...\n"
     ]
    },
    {
     "name": "stdout",
     "output_type": "stream",
     "text": [
      "20 10\n"
     ]
    },
    {
     "name": "stderr",
     "output_type": "stream",
     "text": [
      "2022/03/07 05:28:57 PM | TSConformerGenerator | INFO: Optimizing TS guesses...\n"
     ]
    }
   ],
   "source": [
    "opt_ts_mol = ts_gen(20)"
   ]
  },
  {
   "cell_type": "code",
   "execution_count": 13,
   "metadata": {},
   "outputs": [
    {
     "data": {
      "application/vnd.jupyter.widget-view+json": {
       "model_id": "1da276791cac4c7083e32f3b1777c323",
       "version_major": 2,
       "version_minor": 0
      },
      "text/plain": [
       "interactive(children=(IntSlider(value=0, description='confId', max=10), Output()), _dom_classes=('widget-inter…"
      ]
     },
     "metadata": {},
     "output_type": "display_data"
    },
    {
     "data": {
      "text/plain": [
       "<function rdmc.view.interactive_conformer_viewer.<locals>.<lambda>(confId)>"
      ]
     },
     "execution_count": 13,
     "metadata": {},
     "output_type": "execute_result"
    }
   ],
   "source": [
    "interactive_conformer_viewer(opt_ts_mol)"
   ]
  },
  {
   "cell_type": "code",
   "execution_count": 18,
   "metadata": {},
   "outputs": [
    {
     "data": {
      "application/vnd.jupyter.widget-view+json": {
       "model_id": "82e8b7c5051c422e8c5efa9d150e28e8",
       "version_major": 2,
       "version_minor": 0
      },
      "text/plain": [
       "interactive(children=(IntSlider(value=0, description='confId', max=9), Output()), _dom_classes=('widget-intera…"
      ]
     },
     "metadata": {},
     "output_type": "display_data"
    },
    {
     "data": {
      "text/plain": [
       "<function rdmc.view.interactive_conformer_viewer.<locals>.<lambda>(confId)>"
      ]
     },
     "execution_count": 18,
     "metadata": {},
     "output_type": "execute_result"
    }
   ],
   "source": [
    "interactive_conformer_viewer(opt_ts_mol_2)"
   ]
  },
  {
   "cell_type": "code",
   "execution_count": null,
   "metadata": {},
   "outputs": [],
   "source": [
    "for i in range(opt_ts_mol.GetNumConformers()):\n",
    "    props = run_xtb_calc(opt_ts_mol, confId=i, job=\"--hess\")\n",
    "    print(props[\"frequencies\"][:5])"
   ]
  },
  {
   "cell_type": "code",
   "execution_count": null,
   "metadata": {},
   "outputs": [],
   "source": []
  }
 ],
 "metadata": {
  "kernelspec": {
   "display_name": "Python [conda env:rdmc_env] *",
   "language": "python",
   "name": "conda-env-rdmc_env-py"
  },
  "language_info": {
   "codemirror_mode": {
    "name": "ipython",
    "version": 3
   },
   "file_extension": ".py",
   "mimetype": "text/x-python",
   "name": "python",
   "nbconvert_exporter": "python",
   "pygments_lexer": "ipython3",
   "version": "3.7.7"
  }
 },
 "nbformat": 4,
 "nbformat_minor": 4
}
