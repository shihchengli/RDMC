{
 "cells": [
  {
   "cell_type": "code",
   "execution_count": 1,
   "id": "2f9feee6",
   "metadata": {},
   "outputs": [],
   "source": [
    "from rdkit import Chem\n",
    "from rdkit.Chem import AllChem\n",
    "\n",
    "from copy import deepcopy\n",
    "import numpy as np\n",
    "import os\n",
    "\n",
    "import torch\n",
    "from model.ts_trainer import LitTSModule\n",
    "from model.data import TSDataset\n",
    "from torch_geometric.data import Batch\n",
    "\n",
    "from rdmc.mol import RDKitMol\n",
    "from rdmc.view import mol_viewer"
   ]
  },
  {
   "cell_type": "code",
   "execution_count": 2,
   "id": "db546709",
   "metadata": {},
   "outputs": [],
   "source": [
    "class EvalTSDataset(TSDataset):\n",
    "    def __init__(self, config):\n",
    "        \n",
    "        self.set_similar_mols = config[\"set_similar_mols\"]  # use species (r/p) which is more similar to TS as starting mol\n",
    "        self.shuffle_mols = config[\"shuffle_mols\"]  # randomize which is reactant/product\n",
    "        self.prep_mols = config[\"prep_mols\"]  # prep as if starting from SMILES\n",
    "        self.prod_feat = config[\"prod_feat\"]  # whether product features include distance or adjacency"
   ]
  },
  {
   "cell_type": "code",
   "execution_count": 3,
   "id": "4c878814",
   "metadata": {
    "scrolled": false
   },
   "outputs": [],
   "source": [
    "# the prep_mols argument is important\n",
    "# it aligns the product in \"reacting\" configuration with the reactant configuration\n",
    "# if the product has 1 fragment and the reactant has 2 fragments, simply reverse the reactant and product\n",
    "# when inputting to the model\n",
    "\n",
    "exp_dir = \"./trained_models/2022_02_01/\"\n",
    "\n",
    "TSModule = LitTSModule.load_from_checkpoint(\n",
    "    checkpoint_path=os.path.join(exp_dir, \"best_model.ckpt\"),\n",
    ")\n",
    "\n",
    "config = TSModule.config\n",
    "config[\"shuffle_mols\"] = False\n",
    "config[\"prep_mols\"] = True\n",
    "test_dataset = EvalTSDataset(config)"
   ]
  },
  {
   "cell_type": "code",
   "execution_count": 4,
   "id": "8b7b0457",
   "metadata": {},
   "outputs": [],
   "source": [
    "# here, we start from SMILES; we can easily start from 3D mols if desired\n",
    "\n",
    "r_smi = \"[C:1]([c:2]1[n:3][o:4][n:5][n:6]1)([H:7])([H:8])[H:9]\"\n",
    "p_smi = \"[C:1]([N:3]=[C:2]=[N:6][N:5]=[O:4])([H:7])([H:8])[H:9]\"\n",
    "\n",
    "r_mol = RDKitMol.FromSmiles(r_smi)\n",
    "p_mol = RDKitMol.FromSmiles(p_smi)\n",
    "\n",
    "r_mol.EmbedConformer()\n",
    "p_mol.EmbedConformer()"
   ]
  },
  {
   "cell_type": "code",
   "execution_count": 5,
   "id": "e0a0dc7d",
   "metadata": {},
   "outputs": [
    {
     "data": {
      "application/3dmoljs_load.v0": "<div id=\"3dmolviewer_16440092233009408\"  style=\"position: relative; width: 400px; height: 400px\">\n        <p id=\"3dmolwarning_16440092233009408\" style=\"background-color:#ffcccc;color:black\">You appear to be running in JupyterLab (or JavaScript failed to load for some other reason).  You need to install the 3dmol extension: <br>\n        <tt>jupyter labextension install jupyterlab_3dmol</tt></p>\n        </div>\n<script>\n\nvar loadScriptAsync = function(uri){\n  return new Promise((resolve, reject) => {\n    var tag = document.createElement('script');\n    tag.src = uri;\n    tag.async = true;\n    tag.onload = () => {\n      resolve();\n    };\n  var firstScriptTag = document.getElementsByTagName('script')[0];\n  firstScriptTag.parentNode.insertBefore(tag, firstScriptTag);\n});\n};\n\nif(typeof $3Dmolpromise === 'undefined') {\n$3Dmolpromise = null;\n  $3Dmolpromise = loadScriptAsync('https://3dmol.org/build/3Dmol.js');\n}\n\nvar viewer_16440092233009408 = null;\nvar warn = document.getElementById(\"3dmolwarning_16440092233009408\");\nif(warn) {\n    warn.parentNode.removeChild(warn);\n}\n$3Dmolpromise.then(function() {\nviewer_16440092233009408 = $3Dmol.createViewer($(\"#3dmolviewer_16440092233009408\"),{backgroundColor:\"white\"});\nviewer_16440092233009408.zoomTo();\n\tviewer_16440092233009408.addModel(\"\\n     RDKit          3D\\n\\n  9  9  0  0  0  0  0  0  0  0999 V2000\\n   -1.3161    0.0431    0.0134 C   0  0  0  0  0  0  0  0  0  1  0  0\\n    0.1544   -0.0526   -0.0157 C   0  0  0  0  0  0  0  0  0  2  0  0\\n    0.9420   -1.0854   -0.3351 N   0  0  0  0  0  0  0  0  0  3  0  0\\n    2.1597   -0.6919   -0.2128 O   0  0  0  0  0  0  0  0  0  4  0  0\\n    2.2112    0.5357    0.1674 N   0  0  0  0  0  0  0  0  0  5  0  0\\n    0.9730    0.9614    0.2987 N   0  0  0  0  0  0  0  0  0  6  0  0\\n   -1.7156    0.5904   -0.8718 H   0  0  0  0  0  0  0  0  0  7  0  0\\n   -1.5943    0.6639    0.9050 H   0  0  0  0  0  0  0  0  0  8  0  0\\n   -1.8143   -0.9646    0.0509 H   0  0  0  0  0  0  0  0  0  9  0  0\\n  1  2  1  0\\n  2  3  2  0\\n  3  4  1  0\\n  4  5  1  0\\n  5  6  2  0\\n  1  7  1  0\\n  1  8  1  0\\n  1  9  1  0\\n  6  2  1  0\\nM  END\\n\",\"sdf\");\n\tviewer_16440092233009408.setStyle({\"stick\": {\"radius\": 0.05, \"color\": \"#f2f2f2\"}, \"sphere\": {\"scale\": 0.25}});\n\tviewer_16440092233009408.addPropertyLabels(\"index\",\"\",{\"fontSize\": 15, \"fontColor\": \"white\", \"showBackground\": true, \"alignment\": \"center\", \"backgroundOpacity\": 0.2, \"backgroundColor\": \"black\"});\n\tviewer_16440092233009408.zoomTo();\nviewer_16440092233009408.render();\n});\n</script>",
      "text/html": [
       "<div id=\"3dmolviewer_16440092233009408\"  style=\"position: relative; width: 400px; height: 400px\">\n",
       "        <p id=\"3dmolwarning_16440092233009408\" style=\"background-color:#ffcccc;color:black\">You appear to be running in JupyterLab (or JavaScript failed to load for some other reason).  You need to install the 3dmol extension: <br>\n",
       "        <tt>jupyter labextension install jupyterlab_3dmol</tt></p>\n",
       "        </div>\n",
       "<script>\n",
       "\n",
       "var loadScriptAsync = function(uri){\n",
       "  return new Promise((resolve, reject) => {\n",
       "    var tag = document.createElement('script');\n",
       "    tag.src = uri;\n",
       "    tag.async = true;\n",
       "    tag.onload = () => {\n",
       "      resolve();\n",
       "    };\n",
       "  var firstScriptTag = document.getElementsByTagName('script')[0];\n",
       "  firstScriptTag.parentNode.insertBefore(tag, firstScriptTag);\n",
       "});\n",
       "};\n",
       "\n",
       "if(typeof $3Dmolpromise === 'undefined') {\n",
       "$3Dmolpromise = null;\n",
       "  $3Dmolpromise = loadScriptAsync('https://3dmol.org/build/3Dmol.js');\n",
       "}\n",
       "\n",
       "var viewer_16440092233009408 = null;\n",
       "var warn = document.getElementById(\"3dmolwarning_16440092233009408\");\n",
       "if(warn) {\n",
       "    warn.parentNode.removeChild(warn);\n",
       "}\n",
       "$3Dmolpromise.then(function() {\n",
       "viewer_16440092233009408 = $3Dmol.createViewer($(\"#3dmolviewer_16440092233009408\"),{backgroundColor:\"white\"});\n",
       "viewer_16440092233009408.zoomTo();\n",
       "\tviewer_16440092233009408.addModel(\"\\n     RDKit          3D\\n\\n  9  9  0  0  0  0  0  0  0  0999 V2000\\n   -1.3161    0.0431    0.0134 C   0  0  0  0  0  0  0  0  0  1  0  0\\n    0.1544   -0.0526   -0.0157 C   0  0  0  0  0  0  0  0  0  2  0  0\\n    0.9420   -1.0854   -0.3351 N   0  0  0  0  0  0  0  0  0  3  0  0\\n    2.1597   -0.6919   -0.2128 O   0  0  0  0  0  0  0  0  0  4  0  0\\n    2.2112    0.5357    0.1674 N   0  0  0  0  0  0  0  0  0  5  0  0\\n    0.9730    0.9614    0.2987 N   0  0  0  0  0  0  0  0  0  6  0  0\\n   -1.7156    0.5904   -0.8718 H   0  0  0  0  0  0  0  0  0  7  0  0\\n   -1.5943    0.6639    0.9050 H   0  0  0  0  0  0  0  0  0  8  0  0\\n   -1.8143   -0.9646    0.0509 H   0  0  0  0  0  0  0  0  0  9  0  0\\n  1  2  1  0\\n  2  3  2  0\\n  3  4  1  0\\n  4  5  1  0\\n  5  6  2  0\\n  1  7  1  0\\n  1  8  1  0\\n  1  9  1  0\\n  6  2  1  0\\nM  END\\n\",\"sdf\");\n",
       "\tviewer_16440092233009408.setStyle({\"stick\": {\"radius\": 0.05, \"color\": \"#f2f2f2\"}, \"sphere\": {\"scale\": 0.25}});\n",
       "\tviewer_16440092233009408.addPropertyLabels(\"index\",\"\",{\"fontSize\": 15, \"fontColor\": \"white\", \"showBackground\": true, \"alignment\": \"center\", \"backgroundOpacity\": 0.2, \"backgroundColor\": \"black\"});\n",
       "\tviewer_16440092233009408.zoomTo();\n",
       "viewer_16440092233009408.render();\n",
       "});\n",
       "</script>"
      ]
     },
     "metadata": {},
     "output_type": "display_data"
    },
    {
     "data": {
      "text/plain": [
       "<py3Dmol.view at 0x7f2c78b458d0>"
      ]
     },
     "execution_count": 5,
     "metadata": {},
     "output_type": "execute_result"
    }
   ],
   "source": [
    "mol_viewer(r_mol)"
   ]
  },
  {
   "cell_type": "code",
   "execution_count": 6,
   "id": "ac34e5c2",
   "metadata": {},
   "outputs": [
    {
     "data": {
      "application/3dmoljs_load.v0": "<div id=\"3dmolviewer_1644009224819647\"  style=\"position: relative; width: 400px; height: 400px\">\n        <p id=\"3dmolwarning_1644009224819647\" style=\"background-color:#ffcccc;color:black\">You appear to be running in JupyterLab (or JavaScript failed to load for some other reason).  You need to install the 3dmol extension: <br>\n        <tt>jupyter labextension install jupyterlab_3dmol</tt></p>\n        </div>\n<script>\n\nvar loadScriptAsync = function(uri){\n  return new Promise((resolve, reject) => {\n    var tag = document.createElement('script');\n    tag.src = uri;\n    tag.async = true;\n    tag.onload = () => {\n      resolve();\n    };\n  var firstScriptTag = document.getElementsByTagName('script')[0];\n  firstScriptTag.parentNode.insertBefore(tag, firstScriptTag);\n});\n};\n\nif(typeof $3Dmolpromise === 'undefined') {\n$3Dmolpromise = null;\n  $3Dmolpromise = loadScriptAsync('https://3dmol.org/build/3Dmol.js');\n}\n\nvar viewer_1644009224819647 = null;\nvar warn = document.getElementById(\"3dmolwarning_1644009224819647\");\nif(warn) {\n    warn.parentNode.removeChild(warn);\n}\n$3Dmolpromise.then(function() {\nviewer_1644009224819647 = $3Dmol.createViewer($(\"#3dmolviewer_1644009224819647\"),{backgroundColor:\"white\"});\nviewer_1644009224819647.zoomTo();\n\tviewer_1644009224819647.addModel(\"\\n     RDKit          3D\\n\\n  9  8  0  0  0  0  0  0  0  0999 V2000\\n   -1.6091   -0.0448    0.0598 C   0  0  0  0  0  0  0  0  0  1  0  0\\n    0.5010   -0.4144    0.9513 C   0  0  0  0  0  0  0  0  0  2  0  0\\n   -0.6869   -0.8720    0.8048 N   0  0  0  0  0  0  0  0  0  3  0  0\\n    3.3824    0.7785   -0.4443 O   0  0  0  0  0  0  0  0  0  4  0  0\\n    2.4190    0.0319   -0.2375 N   0  0  0  0  0  0  0  0  0  5  0  0\\n    1.7093   -0.0204    0.9679 N   0  0  0  0  0  0  0  0  0  6  0  0\\n   -2.0934   -0.5853   -0.7822 H   0  0  0  0  0  0  0  0  0  7  0  0\\n   -1.1798    0.9218   -0.2518 H   0  0  0  0  0  0  0  0  0  8  0  0\\n   -2.4425    0.2047    0.7656 H   0  0  0  0  0  0  0  0  0  9  0  0\\n  1  3  1  0\\n  3  2  2  0\\n  2  6  2  0\\n  6  5  1  0\\n  5  4  2  0\\n  1  7  1  0\\n  1  8  1  0\\n  1  9  1  0\\nM  END\\n\",\"sdf\");\n\tviewer_1644009224819647.setStyle({\"stick\": {\"radius\": 0.05, \"color\": \"#f2f2f2\"}, \"sphere\": {\"scale\": 0.25}});\n\tviewer_1644009224819647.addPropertyLabels(\"index\",\"\",{\"fontSize\": 15, \"fontColor\": \"white\", \"showBackground\": true, \"alignment\": \"center\", \"backgroundOpacity\": 0.2, \"backgroundColor\": \"black\"});\n\tviewer_1644009224819647.zoomTo();\nviewer_1644009224819647.render();\n});\n</script>",
      "text/html": [
       "<div id=\"3dmolviewer_1644009224819647\"  style=\"position: relative; width: 400px; height: 400px\">\n",
       "        <p id=\"3dmolwarning_1644009224819647\" style=\"background-color:#ffcccc;color:black\">You appear to be running in JupyterLab (or JavaScript failed to load for some other reason).  You need to install the 3dmol extension: <br>\n",
       "        <tt>jupyter labextension install jupyterlab_3dmol</tt></p>\n",
       "        </div>\n",
       "<script>\n",
       "\n",
       "var loadScriptAsync = function(uri){\n",
       "  return new Promise((resolve, reject) => {\n",
       "    var tag = document.createElement('script');\n",
       "    tag.src = uri;\n",
       "    tag.async = true;\n",
       "    tag.onload = () => {\n",
       "      resolve();\n",
       "    };\n",
       "  var firstScriptTag = document.getElementsByTagName('script')[0];\n",
       "  firstScriptTag.parentNode.insertBefore(tag, firstScriptTag);\n",
       "});\n",
       "};\n",
       "\n",
       "if(typeof $3Dmolpromise === 'undefined') {\n",
       "$3Dmolpromise = null;\n",
       "  $3Dmolpromise = loadScriptAsync('https://3dmol.org/build/3Dmol.js');\n",
       "}\n",
       "\n",
       "var viewer_1644009224819647 = null;\n",
       "var warn = document.getElementById(\"3dmolwarning_1644009224819647\");\n",
       "if(warn) {\n",
       "    warn.parentNode.removeChild(warn);\n",
       "}\n",
       "$3Dmolpromise.then(function() {\n",
       "viewer_1644009224819647 = $3Dmol.createViewer($(\"#3dmolviewer_1644009224819647\"),{backgroundColor:\"white\"});\n",
       "viewer_1644009224819647.zoomTo();\n",
       "\tviewer_1644009224819647.addModel(\"\\n     RDKit          3D\\n\\n  9  8  0  0  0  0  0  0  0  0999 V2000\\n   -1.6091   -0.0448    0.0598 C   0  0  0  0  0  0  0  0  0  1  0  0\\n    0.5010   -0.4144    0.9513 C   0  0  0  0  0  0  0  0  0  2  0  0\\n   -0.6869   -0.8720    0.8048 N   0  0  0  0  0  0  0  0  0  3  0  0\\n    3.3824    0.7785   -0.4443 O   0  0  0  0  0  0  0  0  0  4  0  0\\n    2.4190    0.0319   -0.2375 N   0  0  0  0  0  0  0  0  0  5  0  0\\n    1.7093   -0.0204    0.9679 N   0  0  0  0  0  0  0  0  0  6  0  0\\n   -2.0934   -0.5853   -0.7822 H   0  0  0  0  0  0  0  0  0  7  0  0\\n   -1.1798    0.9218   -0.2518 H   0  0  0  0  0  0  0  0  0  8  0  0\\n   -2.4425    0.2047    0.7656 H   0  0  0  0  0  0  0  0  0  9  0  0\\n  1  3  1  0\\n  3  2  2  0\\n  2  6  2  0\\n  6  5  1  0\\n  5  4  2  0\\n  1  7  1  0\\n  1  8  1  0\\n  1  9  1  0\\nM  END\\n\",\"sdf\");\n",
       "\tviewer_1644009224819647.setStyle({\"stick\": {\"radius\": 0.05, \"color\": \"#f2f2f2\"}, \"sphere\": {\"scale\": 0.25}});\n",
       "\tviewer_1644009224819647.addPropertyLabels(\"index\",\"\",{\"fontSize\": 15, \"fontColor\": \"white\", \"showBackground\": true, \"alignment\": \"center\", \"backgroundOpacity\": 0.2, \"backgroundColor\": \"black\"});\n",
       "\tviewer_1644009224819647.zoomTo();\n",
       "viewer_1644009224819647.render();\n",
       "});\n",
       "</script>"
      ]
     },
     "metadata": {},
     "output_type": "display_data"
    },
    {
     "data": {
      "text/plain": [
       "<py3Dmol.view at 0x7f2c78ab7fd0>"
      ]
     },
     "execution_count": 6,
     "metadata": {},
     "output_type": "execute_result"
    }
   ],
   "source": [
    "mol_viewer(p_mol)"
   ]
  },
  {
   "cell_type": "code",
   "execution_count": 7,
   "id": "e630ed3a",
   "metadata": {},
   "outputs": [],
   "source": [
    "mols = (r_mol.ToRWMol(), None, p_mol.ToRWMol())\n",
    "data = test_dataset.process_mols(mols, no_ts=True)\n",
    "batch_data = Batch.from_data_list([data])\n",
    "predicted_ts_coords = TSModule.model(batch_data)[:, :3].cpu().detach().numpy()\n",
    "predicted_ts = deepcopy(r_mol)\n",
    "predicted_ts.SetPositions(np.array(predicted_ts_coords, dtype=float))"
   ]
  },
  {
   "cell_type": "code",
   "execution_count": 8,
   "id": "31e370b0",
   "metadata": {},
   "outputs": [
    {
     "data": {
      "application/3dmoljs_load.v0": "<div id=\"3dmolviewer_1644009230012098\"  style=\"position: relative; width: 400px; height: 400px\">\n        <p id=\"3dmolwarning_1644009230012098\" style=\"background-color:#ffcccc;color:black\">You appear to be running in JupyterLab (or JavaScript failed to load for some other reason).  You need to install the 3dmol extension: <br>\n        <tt>jupyter labextension install jupyterlab_3dmol</tt></p>\n        </div>\n<script>\n\nvar loadScriptAsync = function(uri){\n  return new Promise((resolve, reject) => {\n    var tag = document.createElement('script');\n    tag.src = uri;\n    tag.async = true;\n    tag.onload = () => {\n      resolve();\n    };\n  var firstScriptTag = document.getElementsByTagName('script')[0];\n  firstScriptTag.parentNode.insertBefore(tag, firstScriptTag);\n});\n};\n\nif(typeof $3Dmolpromise === 'undefined') {\n$3Dmolpromise = null;\n  $3Dmolpromise = loadScriptAsync('https://3dmol.org/build/3Dmol.js');\n}\n\nvar viewer_1644009230012098 = null;\nvar warn = document.getElementById(\"3dmolwarning_1644009230012098\");\nif(warn) {\n    warn.parentNode.removeChild(warn);\n}\n$3Dmolpromise.then(function() {\nviewer_1644009230012098 = $3Dmol.createViewer($(\"#3dmolviewer_1644009230012098\"),{backgroundColor:\"white\"});\nviewer_1644009230012098.zoomTo();\n\tviewer_1644009230012098.addModel(\"\\n     RDKit          3D\\n\\n  9  9  0  0  0  0  0  0  0  0999 V2000\\n   -1.3208   -0.0618   -0.0229 C   0  0  0  0  0  0  0  0  0  1  0  0\\n    0.3286   -0.0786   -0.0231 C   0  0  0  0  0  0  0  0  0  2  0  0\\n    0.1939   -1.2239   -0.3818 N   0  0  0  0  0  0  0  0  0  3  0  0\\n    2.8359   -0.3875   -0.1187 O   0  0  0  0  0  0  0  0  0  4  0  0\\n    2.3580    0.5942    0.1785 N   0  0  0  0  0  0  0  0  0  5  0  0\\n    1.0668    0.8952    0.2697 N   0  0  0  0  0  0  0  0  0  6  0  0\\n   -1.6182    0.4716   -0.8318 H   0  0  0  0  0  0  0  0  0  7  0  0\\n   -1.5448    0.5360    0.8856 H   0  0  0  0  0  0  0  0  0  8  0  0\\n   -1.9097   -1.0186    0.0451 H   0  0  0  0  0  0  0  0  0  9  0  0\\n  1  2  1  0\\n  2  3  2  0\\n  3  4  1  0\\n  4  5  1  0\\n  5  6  2  0\\n  1  7  1  0\\n  1  8  1  0\\n  1  9  1  0\\n  6  2  1  0\\nM  END\\n\",\"sdf\");\n\tviewer_1644009230012098.setStyle({\"stick\": {\"radius\": 0.05, \"color\": \"#f2f2f2\"}, \"sphere\": {\"scale\": 0.25}});\n\tviewer_1644009230012098.addPropertyLabels(\"index\",\"\",{\"fontSize\": 15, \"fontColor\": \"white\", \"showBackground\": true, \"alignment\": \"center\", \"backgroundOpacity\": 0.2, \"backgroundColor\": \"black\"});\n\tviewer_1644009230012098.zoomTo();\nviewer_1644009230012098.render();\n});\n</script>",
      "text/html": [
       "<div id=\"3dmolviewer_1644009230012098\"  style=\"position: relative; width: 400px; height: 400px\">\n",
       "        <p id=\"3dmolwarning_1644009230012098\" style=\"background-color:#ffcccc;color:black\">You appear to be running in JupyterLab (or JavaScript failed to load for some other reason).  You need to install the 3dmol extension: <br>\n",
       "        <tt>jupyter labextension install jupyterlab_3dmol</tt></p>\n",
       "        </div>\n",
       "<script>\n",
       "\n",
       "var loadScriptAsync = function(uri){\n",
       "  return new Promise((resolve, reject) => {\n",
       "    var tag = document.createElement('script');\n",
       "    tag.src = uri;\n",
       "    tag.async = true;\n",
       "    tag.onload = () => {\n",
       "      resolve();\n",
       "    };\n",
       "  var firstScriptTag = document.getElementsByTagName('script')[0];\n",
       "  firstScriptTag.parentNode.insertBefore(tag, firstScriptTag);\n",
       "});\n",
       "};\n",
       "\n",
       "if(typeof $3Dmolpromise === 'undefined') {\n",
       "$3Dmolpromise = null;\n",
       "  $3Dmolpromise = loadScriptAsync('https://3dmol.org/build/3Dmol.js');\n",
       "}\n",
       "\n",
       "var viewer_1644009230012098 = null;\n",
       "var warn = document.getElementById(\"3dmolwarning_1644009230012098\");\n",
       "if(warn) {\n",
       "    warn.parentNode.removeChild(warn);\n",
       "}\n",
       "$3Dmolpromise.then(function() {\n",
       "viewer_1644009230012098 = $3Dmol.createViewer($(\"#3dmolviewer_1644009230012098\"),{backgroundColor:\"white\"});\n",
       "viewer_1644009230012098.zoomTo();\n",
       "\tviewer_1644009230012098.addModel(\"\\n     RDKit          3D\\n\\n  9  9  0  0  0  0  0  0  0  0999 V2000\\n   -1.3208   -0.0618   -0.0229 C   0  0  0  0  0  0  0  0  0  1  0  0\\n    0.3286   -0.0786   -0.0231 C   0  0  0  0  0  0  0  0  0  2  0  0\\n    0.1939   -1.2239   -0.3818 N   0  0  0  0  0  0  0  0  0  3  0  0\\n    2.8359   -0.3875   -0.1187 O   0  0  0  0  0  0  0  0  0  4  0  0\\n    2.3580    0.5942    0.1785 N   0  0  0  0  0  0  0  0  0  5  0  0\\n    1.0668    0.8952    0.2697 N   0  0  0  0  0  0  0  0  0  6  0  0\\n   -1.6182    0.4716   -0.8318 H   0  0  0  0  0  0  0  0  0  7  0  0\\n   -1.5448    0.5360    0.8856 H   0  0  0  0  0  0  0  0  0  8  0  0\\n   -1.9097   -1.0186    0.0451 H   0  0  0  0  0  0  0  0  0  9  0  0\\n  1  2  1  0\\n  2  3  2  0\\n  3  4  1  0\\n  4  5  1  0\\n  5  6  2  0\\n  1  7  1  0\\n  1  8  1  0\\n  1  9  1  0\\n  6  2  1  0\\nM  END\\n\",\"sdf\");\n",
       "\tviewer_1644009230012098.setStyle({\"stick\": {\"radius\": 0.05, \"color\": \"#f2f2f2\"}, \"sphere\": {\"scale\": 0.25}});\n",
       "\tviewer_1644009230012098.addPropertyLabels(\"index\",\"\",{\"fontSize\": 15, \"fontColor\": \"white\", \"showBackground\": true, \"alignment\": \"center\", \"backgroundOpacity\": 0.2, \"backgroundColor\": \"black\"});\n",
       "\tviewer_1644009230012098.zoomTo();\n",
       "viewer_1644009230012098.render();\n",
       "});\n",
       "</script>"
      ]
     },
     "metadata": {},
     "output_type": "display_data"
    },
    {
     "data": {
      "text/plain": [
       "<py3Dmol.view at 0x7f2c78ac8c50>"
      ]
     },
     "execution_count": 8,
     "metadata": {},
     "output_type": "execute_result"
    }
   ],
   "source": [
    "mol_viewer(predicted_ts)"
   ]
  },
  {
   "cell_type": "code",
   "execution_count": null,
   "id": "2df67661",
   "metadata": {},
   "outputs": [],
   "source": []
  }
 ],
 "metadata": {
  "kernelspec": {
   "display_name": "Python [conda env:ts_gen] *",
   "language": "python",
   "name": "conda-env-ts_gen-py"
  },
  "language_info": {
   "codemirror_mode": {
    "name": "ipython",
    "version": 3
   },
   "file_extension": ".py",
   "mimetype": "text/x-python",
   "name": "python",
   "nbconvert_exporter": "python",
   "pygments_lexer": "ipython3",
   "version": "3.7.12"
  }
 },
 "nbformat": 4,
 "nbformat_minor": 5
}
